{
 "cells": [
  {
   "cell_type": "markdown",
   "metadata": {},
   "source": [
    "# TNSI - Séquence N°11 - Sécurisation des communications\n",
    "# TP N°1 - Utilisation du codage César"
   ]
  },
  {
   "cell_type": "markdown",
   "metadata": {},
   "source": [
    "Alice et Bob échangent des messages via une messagerie qui chiffre les messages avec un chiffrement par décalage (chiffrement de César). Le message transite ensuite en binaire sur le réseau, chaque caractère est converti en binaire sur un octet à l'aide du code ASCII.\n",
    "\n",
    "En écoutant le réseau, on a intercepté le message suivant provenant d'Alice :\n",
    "\n",
    "`0100110101111010011010010111100101111010011101010010000001110001011010100111000001101110001000001110000000100000010110000110001101110110011011010110111101101101011110100110111000100000111000000010000001100111001001110110010001101001011011110111101001101101011011100111101001111000011011110110010001101010011010010010000001111001011110100010000001100111011101100010000001101101011100000111101000100000010010000111011001101101011110000111101001110110011100000010000001111010011011110010000001111001011110100010000001100111011101100010000001101101011100000111101000100000011110010111101000100000011001110111011000100000010011110110101001101001011110100110011101100111011110100110110101100100011110100010000000100001`\n",
    "\n",
    "Votre mission, si vous l'acceptez (en fait vous n'avez pas le choix), est de décrypter ce message."
   ]
  },
  {
   "cell_type": "markdown",
   "metadata": {},
   "source": [
    "<div class=\"alert alert-warning\" role=\"alert\">\n",
    "    \n",
    "**Objectif :**\n",
    "    \n",
    "Décrypter un message intercepté et chiffré avec un chiffrement par décalage.\n",
    "</div>"
   ]
  },
  {
   "cell_type": "markdown",
   "metadata": {},
   "source": [
    "## Quelques rappels"
   ]
  },
  {
   "cell_type": "markdown",
   "metadata": {},
   "source": [
    "Fonction `ord` :\n",
    "> Renvoie le nombre entier représentant le code Unicode du caractère représenté par la chaîne donnée. Par exemple, `ord('a')` renvoie le nombre entier 97 et `ord('€')` (symbole Euro) renvoie 8364. Il s'agit de l'inverse de chr().\n",
    "\n",
    "Fonction `chr()`\n",
    "> Renvoie la chaîne représentant un caractère dont le code de caractère Unicode est le nombre entier `i`. Par exemple, `chr(97)` renvoie la chaîne de caractères 'a', tandis que `chr(8364)` renvoie '€'. Il s'agit de l'inverse de ord().\n",
    "L'intervalle valide pour cet argument est de 0 à 1114111 (`0x10FFFF` en base 16). Une exception ValueError sera levée si `i` est en dehors de l'intervalle.\n",
    "\n",
    "Les codes UTF-8 et ASCII sont identiques, ainsi pour vous aider voici un [lien vers une table ASCII](http://brianaspinall.com/wp-content/uploads/2015/11/better_ascii_table.jpg)"
   ]
  },
  {
   "cell_type": "markdown",
   "metadata": {},
   "source": [
    "## Partie A - Mise en place du chiffrement"
   ]
  },
  {
   "cell_type": "markdown",
   "metadata": {},
   "source": [
    "### 1. Chiffrement de César"
   ]
  },
  {
   "cell_type": "markdown",
   "metadata": {},
   "source": [
    "<div class=\"alert alert-info\">\n",
    "    \n",
    "<strong class='fa fa-cogs' style=\"color: darkorange\"> Question 1 </strong>\n",
    "\n",
    "Compléter la fonction ci-dessous `chiffrement_caractere` qui :\n",
    "\n",
    "- reçoit en paramètres un caractère `carac` et une clé `cle`,\n",
    "- retourne le caractère entré en paramètre chiffré avec la clé saisie en paramètre.\n",
    "</div>"
   ]
  },
  {
   "cell_type": "code",
   "execution_count": 1,
   "metadata": {
    "scrolled": true
   },
   "outputs": [],
   "source": [
    "def chiffrement_caractere(carac, cle):\n",
    "    \"\"\"\n",
    "    Chiffre un caractère par la méthode de césar , les lettres a..z et A..Z sont décalées par la méthode de césar\n",
    "    les autres caractères ne sont pas modifiés (accents, tiret ...)\n",
    "    param: carac (str) un caratère \n",
    "    param: cle (int) la clé de codage (classiquement entre 0 et 25)\n",
    "    return: carac_chiffre (str) Le caratère chiffré par la méthode de césar\n",
    "    \"\"\"\n",
    "    cle = cle % 26\n",
    "    if 65 <= ord(carac) <= 90:\n",
    "        carac_chiffre = chr(65 + (ord(carac)+cle-65) % 26)\n",
    "    elif 97 <= ord(carac) <= 122:\n",
    "        carac_chiffre = chr(97 + (ord(carac)+cle-97) % 26)\n",
    "    else:\n",
    "        carac_chiffre = carac\n",
    "    return carac_chiffre"
   ]
  },
  {
   "cell_type": "code",
   "execution_count": 2,
   "metadata": {},
   "outputs": [],
   "source": [
    "# Tests, si pas d'erreurs continuez.\n",
    "assert chiffrement_caractere('A',3) == 'D'\n",
    "assert chiffrement_caractere('T',5) == 'Y'\n",
    "assert chiffrement_caractere('w',7) == 'd'\n",
    "# Gestion accent ...\n",
    "assert chiffrement_caractere('é',10) == 'é'\n",
    "assert chiffrement_caractere('ç',15) == 'ç'"
   ]
  },
  {
   "cell_type": "markdown",
   "metadata": {},
   "source": [
    "<div class=\"alert alert-info\">\n",
    "    \n",
    "<strong class='fa fa-cogs' style=\"color: darkorange\"> Question 2 </strong>\n",
    "\n",
    "Compléter la fonction ci-dessous `chiffrement_cesar` qui :\n",
    "\n",
    "- reçoit en paramètres un texte `txt` et une clé `cle`,\n",
    "- retourne le texte entré en paramètre chiffré avec la clé saisie en paramètre.\n",
    "</div>"
   ]
  },
  {
   "cell_type": "code",
   "execution_count": 3,
   "metadata": {},
   "outputs": [],
   "source": [
    "def chiffrement_cesar(txt, cle):\n",
    "    \"\"\"\n",
    "    Chiffre un txt (chaîne de caractères avec espaces) par la méthode de césar \n",
    "    param: txt (str) \n",
    "    param: cle (int) la clé de codage\n",
    "    return: txt_chiffre (str) txt chiffré par la méthode de césar\n",
    "    \"\"\"\n",
    "    txt_chiffre = \"\"\n",
    "    for c in txt:\n",
    "        txt_chiffre += chiffrement_caractere(c, cle)\n",
    "    return txt_chiffre\n",
    "        "
   ]
  },
  {
   "cell_type": "code",
   "execution_count": 4,
   "metadata": {},
   "outputs": [],
   "source": [
    "# Tests, si pas d'erreurs continuez.\n",
    "\n",
    "assert chiffrement_cesar('Bonjour',7) == 'Ivuqvby'\n",
    "assert chiffrement_cesar('Décodage',16) == 'Tésetqwu'\n",
    "assert chiffrement_cesar('Bonjour',33) == 'Ivuqvby'\n",
    "assert chiffrement_cesar('Anticonstitutionnellement',4) == 'Erxmgsrwxmxyxmsrrippiqirx'\n",
    "assert chiffrement_cesar('Bonjour !',7) == 'Ivuqvby !'\n",
    "assert chiffrement_cesar(\"Le texte chiffré s'obtient en remplaçant chaque lettre du texte clair original par une lettre à distance fixe.\",11) == \"Wp epiep nstqqcé d'zmetpye py cpxawlçlye nslbfp wpeecp of epiep nwltc zctrtylw alc fyp wpeecp à otdelynp qtip.\""
   ]
  },
  {
   "cell_type": "markdown",
   "metadata": {},
   "source": [
    "### 2. Conversion en binaire"
   ]
  },
  {
   "cell_type": "markdown",
   "metadata": {},
   "source": [
    "<div class=\"alert alert-info\">\n",
    "    \n",
    "<strong class='fa fa-cogs' style=\"color: darkorange\"> Question 3 </strong>\n",
    "\n",
    "Compléter la fonction ci-dessous `dec_vers_bin` qui convertit un entier naturel en base 10 en binaire.\n",
    "    \n",
    "Cette fonction :\n",
    "- reçoit en paramètres un entier `nombre`,\n",
    "- retourne une chaine de caractère correspondant à l'écriture binaire du nombre passé en paramètre.\n",
    "    \n",
    "*Remarque : Pourquoi ne pas utiliser un peu de récursivité ?*\n",
    "</div>"
   ]
  },
  {
   "cell_type": "code",
   "execution_count": 7,
   "metadata": {},
   "outputs": [],
   "source": [
    "def dec_vers_bin(nombre):\n",
    "    \"\"\"\n",
    "    Convertir un nombre entier naturel vers la base 2 sans passer par les fonctions pré-éxistantes.\n",
    "    param: nombre (int) : entier naturel\n",
    "    return: nbin (str) Le nombre écrit en base 2\n",
    "    \"\"\"\n",
    "    if nombre <= 1:\n",
    "        return str(nombre)\n",
    "    else:\n",
    "        return dec_vers_bin(nombre // 2) + str(nombre % 2)"
   ]
  },
  {
   "cell_type": "code",
   "execution_count": 8,
   "metadata": {},
   "outputs": [],
   "source": [
    "from random import randint\n",
    "# Tests, si pas d'erreurs continuez.\n",
    "assert dec_vers_bin(1) == '1'\n",
    "assert dec_vers_bin(2) == '10'\n",
    "assert dec_vers_bin(1) == '1'\n",
    "assert dec_vers_bin(17) == '10001'\n",
    "# test aléatoire \n",
    "nbe = randint(3,1000)\n",
    "assert dec_vers_bin(nbe) == bin(nbe)[2:]"
   ]
  },
  {
   "cell_type": "markdown",
   "metadata": {},
   "source": [
    "<div class=\"alert alert-info\">\n",
    "    \n",
    "<strong class='fa fa-cogs' style=\"color: darkorange\"> Question 4 </strong>\n",
    "\n",
    "Compléter la fonction ci-dessous `bin_vers_dec` qui convertit en base 10 un entier naturel écrit en binaire.\n",
    "    \n",
    "Cette fonction :\n",
    "- reçoit une chaîne de caractère `nbin` correspondant à l'écriture d'un nombre entier,\n",
    "- retourne l'entier correspondant en base 10.\n",
    "</div>"
   ]
  },
  {
   "cell_type": "code",
   "execution_count": 5,
   "metadata": {},
   "outputs": [],
   "source": [
    "def bin_vers_dec(nbin):\n",
    "    \"\"\"\n",
    "    Convertir un nombre binaire vers la base 10 sans passer par les fonctions pré-éxistantes.\n",
    "    param: nbin (str) : un nombre binaire\n",
    "    return: ndec (int) : nbin écrit en base 10\n",
    "    \"\"\"\n",
    "    ndec = 0\n",
    "    i= 1\n",
    "    for c in nbin:\n",
    "        ndec += int(c) * (2**(len(nbin) - i))\n",
    "        i += 1\n",
    "    return ndec\n",
    "\n",
    "# version récursive par hors programme à cause du slicing\n",
    "\n",
    "def bin_vers_dec(nbin):\n",
    "    \"\"\"\n",
    "    Convertir un nombre binaire vers la base 10 sans passer par les fonctions pré-éxistantes.\n",
    "    param: nbin (str) : un nombre binaire\n",
    "    return: ndec (int) : nbin écrit en base 10\n",
    "    \"\"\"\n",
    "    if len(nbin) == 1:\n",
    "        return int(nbin)\n",
    "    else:\n",
    "        return int(nbin[0]) * 2**(len(nbin)-1) + bin_vers_dec(nbin[1:])"
   ]
  },
  {
   "cell_type": "code",
   "execution_count": 6,
   "metadata": {},
   "outputs": [],
   "source": [
    "# Tests, si pas d'erreurs continuez.\n",
    "assert (bin_vers_dec('1111011') == 123)\n",
    "assert (bin_vers_dec('101111011') == int('0b101111011',2))\n",
    "assert (bin_vers_dec('1001101') == int('0b1001101',2))\n",
    "# test aléatoire\n",
    "nbe = randint(30,1000)\n",
    "binaire = bin(nbe)[2:]\n",
    "assert bin_vers_dec(binaire) == nbe"
   ]
  },
  {
   "cell_type": "markdown",
   "metadata": {},
   "source": [
    "### 3. Codage d'un message"
   ]
  },
  {
   "cell_type": "markdown",
   "metadata": {},
   "source": [
    "<div class=\"alert alert-info\">\n",
    "    \n",
    "<strong class='fa fa-cogs' style=\"color: darkorange\"> Question 5 </strong>\n",
    "\n",
    "Compléter la fonction ci-dessous `codage_message` qui chiffre un texte selon le chiffrement de César et le code ensuite en binaire où chaque caractère est codé sur 8 bits.\n",
    "</div>"
   ]
  },
  {
   "cell_type": "code",
   "execution_count": 9,
   "metadata": {},
   "outputs": [],
   "source": [
    "def codage_message(texte, cle):\n",
    "    \"\"\"\n",
    "    Chiffre un texte par la méthode de césar puis code les caractères en binaire en utilisant leur code UTF-8\n",
    "    Le texte ne commence, ni ne se termine par des espaces.\n",
    "    param: texte (str) \n",
    "    param: cle (int) la clé de codage\n",
    "    return: txt_code (str) Le texte chiffré et codé\n",
    "    \"\"\"\n",
    "    txt_chiffre = chiffrement_cesar(texte, cle)\n",
    "    txt_code = \"\"\n",
    "    for c in txt_chiffre:\n",
    "        c_code = dec_vers_bin(ord(c))\n",
    "        while len(c_code) != 8:\n",
    "            c_code = \"0\" + c_code\n",
    "        txt_code += c_code\n",
    "    return txt_code"
   ]
  },
  {
   "cell_type": "code",
   "execution_count": 10,
   "metadata": {},
   "outputs": [],
   "source": [
    "# Tests, si pas d'erreurs continuez.\n",
    "assert codage_message('Coucou le monde',5) == '010010000111010001111010011010000111010001111010001000000111000101101010001000000111001001110100011100110110100101101010'\n",
    "assert codage_message('César',10) == '0100110111101001011000110110101101100010'"
   ]
  },
  {
   "cell_type": "markdown",
   "metadata": {},
   "source": [
    "<div class=\"alert alert-info\">\n",
    "    \n",
    "<strong class='fa fa-cogs' style=\"color: darkorange\"> Question 6 </strong>\n",
    "\n",
    "Compléter la fonction ci-dessous `decodage_message` qui décode et déchiffre un texte selon le chiffrement de César\n",
    "</div>"
   ]
  },
  {
   "cell_type": "code",
   "execution_count": 11,
   "metadata": {},
   "outputs": [],
   "source": [
    "ddef decodage_message(binaire, cle):\n",
    "    \"\"\"\n",
    "    Déchiffre un message binaire codé avec la méthode du notebook\n",
    "    Le texte ne commence, ni ne se termine par des espaces.\n",
    "    param: binaire (str) \n",
    "    param: cle (int) la clé de décodage\n",
    "    return: txt_decode (str) Le texte décodé\n",
    "    \"\"\"\n",
    "    txt_decode = \"\"\n",
    "    c_a_decoder = \"\"\n",
    "    for c in binaire:\n",
    "        c_a_decoder += c\n",
    "        if len(c_a_decoder) % 8 == 0:\n",
    "            c_decode = chr(bin_vers_dec(c_a_decoder))\n",
    "            txt_decode += chiffrement_cesar(c_decode, -cle)\n",
    "            c_a_decoder = \"\"\n",
    "    return txt_decode\n"
   ]
  },
  {
   "cell_type": "code",
   "execution_count": 12,
   "metadata": {},
   "outputs": [],
   "source": [
    "# Tests, si pas d'erreurs continuez.\n",
    "assert decodage_message('010010000111010001111010011010000111010001111010001000000111000101101010001000000111001001110100011100110110100101101010',5) == 'Coucou le monde'\n",
    "assert decodage_message('0100110111101001011000110110101101100010',10) == 'César'"
   ]
  },
  {
   "cell_type": "markdown",
   "metadata": {},
   "source": [
    "## Partie B : Reste à décrypter le message d'Alice !"
   ]
  },
  {
   "cell_type": "markdown",
   "metadata": {},
   "source": [
    "### Méthode 1 : Force brute"
   ]
  },
  {
   "cell_type": "markdown",
   "metadata": {},
   "source": [
    "La méthode appelée \"Force brute\" consiste à tester toutes les clés possibles pour décoder le message."
   ]
  },
  {
   "cell_type": "markdown",
   "metadata": {},
   "source": [
    "<div class=\"alert alert-info\">\n",
    "    \n",
    "<strong class='fa fa-cogs' style=\"color: darkorange\"> Question 7 </strong>\n",
    "\n",
    "Décoder le message envoyé par Alice en utilisant la force brute. \n",
    "</div>"
   ]
  },
  {
   "cell_type": "code",
   "execution_count": 1,
   "metadata": {},
   "outputs": [],
   "source": [
    "message_alice = '0100110101111010011010010111100101111010011101010010000001110001011010100111000001101110001000001110000000100000010110000110001101110110011011010110111101101101011110100110111000100000111000000010000001100111001001110110010001101001011011110111101001101101011011100111101001111000011011110110010001101010011010010010000001111001011110100010000001100111011101100010000001101101011100000111101000100000010010000111011001101101011110000111101001110110011100000010000001111010011011110010000001111001011110100010000001100111011101100010000001101101011100000111101000100000011110010111101000100000011001110111011000100000010011110110101001101001011110100110011101100111011110100110110101100100011110100010000000100001'\n",
    "\n",
    "for i in range(0, 26):\n",
    "    message_decode = decodage_message(message_alice, i)\n",
    "    print(\"cle i={}:  {}\".format(i, message_decode))"
   ]
  },
  {
   "cell_type": "markdown",
   "metadata": {},
   "source": [
    "### Méthode 2 : Analyse fréquencielle"
   ]
  },
  {
   "cell_type": "markdown",
   "metadata": {},
   "source": [
    "<div class=\"alert alert-info\">\n",
    "    \n",
    "<strong class='fa fa-cogs' style=\"color: darkorange\"> Question 8 </strong>\n",
    "\n",
    "Proposer une méthode utilisant la fréquence d'apparition des différents caractères de l'alphabet dans un texte (suffisamment long) écrit en français.\n",
    "\n",
    "[Fréquence des caractères utilisés sur Wikipedia](https://fr.wikipedia.org/wiki/Fr%C3%A9quence_d%27apparition_des_lettres_en_fran%C3%A7ais)\n",
    "\n",
    "Pour répondre à cette question, vous réaliserez un découpage fonctionnel adapté à votre stratégie.\n",
    "    \n",
    "</div>"
   ]
  },
  {
   "cell_type": "code",
   "execution_count": 30,
   "metadata": {},
   "outputs": [],
   "source": [
    "# à vous de jouer"
   ]
  }
 ],
 "metadata": {
  "kernelspec": {
   "display_name": "Python 3",
   "language": "python",
   "name": "python3"
  },
  "language_info": {
   "codemirror_mode": {
    "name": "ipython",
    "version": 3
   },
   "file_extension": ".py",
   "mimetype": "text/x-python",
   "name": "python",
   "nbconvert_exporter": "python",
   "pygments_lexer": "ipython3",
   "version": "3.8.5"
  }
 },
 "nbformat": 4,
 "nbformat_minor": 4
}
