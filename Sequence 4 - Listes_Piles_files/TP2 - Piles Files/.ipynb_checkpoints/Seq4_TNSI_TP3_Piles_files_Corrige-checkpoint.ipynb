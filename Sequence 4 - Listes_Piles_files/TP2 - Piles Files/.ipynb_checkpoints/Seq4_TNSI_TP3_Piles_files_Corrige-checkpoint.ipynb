{
 "cells": [
  {
   "cell_type": "markdown",
   "metadata": {},
   "source": [
    "# Terminale NSI - Séquence N°4 - Listes, piles, files\n",
    "# TP N°3 - Piles et Files\n",
    "---"
   ]
  },
  {
   "cell_type": "markdown",
   "metadata": {},
   "source": [
    "<div class=\"alert alert-block alert-warning\">   \n",
    "\n",
    " **Les objectifs de ce TP sont d'implémenter et de découvrir les structures de données suivantes :**\n",
    " \n",
    " - les piles ;\n",
    " - les files.\n",
    "</div>"
   ]
  },
  {
   "cell_type": "markdown",
   "metadata": {},
   "source": [
    "## 1. Structure de Pile"
   ]
  },
  {
   "cell_type": "markdown",
   "metadata": {},
   "source": [
    "En informatique, une pile (en anglais stack) est une structure de données fondée sur le principe « dernier arrivé, premier sorti » (en anglais LIFO pour last in, first out), ce qui veut dire, qu'en général, le dernier élément, ajouté à la pile, sera le premier à en sortir.\n",
    "\n",
    "Pour visualiser, pensez à la pile d'assiettes. La dernière empilée sera la première a être reprise (on dira dépilée).\n",
    "\n",
    "* Dans une pile, chaque opération de retrait retire l'élément arrivé le plus récemment. \n",
    "* On associe cette structure à l'image d'une pile d'assiettes, dans laquelle chaque nouvelle assiette est ajoutée au-dessus des précédentes et où l'assiette retirée est systématiquement celle du sommet.\n",
    "\n",
    "Par exemple, imaginons une pile de nombres entiers de type `int`. Si j'ajoute un élément (on parle d'empilage), il sera placé au-dessus, comme dans Tetris (fig. suivante). Le plus intéressant est sans conteste l'opération qui consiste à extraire les nombres de la pile. On parle de dépilage. On récupère les données une à une, en commençant par la dernière qui vient d'être posée tout en haut de la pile (fig. suivante). On enlève les données au fur et à mesure, jusqu'à la dernière tout en bas de la pile.\n",
    "\n",
    "\n",
    "<figure>\n",
    "    <img src=\"https://capytale2.ac-paris.fr/web/sites/default/files/2021-11-08-21-55-36//ot_7d4d852a-b138-491f-87da-712241a21607/pile.png\" alt=\"alt text\" width=\"400px\">\n",
    " \n",
    "</figure>\n",
    "\n",
    "\n",
    "\n",
    "\n",
    "* Exemples d'utilisation :\n",
    "  * Bouton de retour en arrière (undo) qui permet d'annuler la(les) dernière(s) modification(s) effectuée(s).\n",
    "  * Historique d'un navigateur web.\n",
    "  * Pile des appels d'une fonction récursive.\n",
    "  * Un processeur utilise une pile pour gérer les instructions à éxécuter.\n",
    "  * Un algorithme de parcours en profondeur utilise une pile pour mémoriser les nœuds visités."
   ]
  },
  {
   "cell_type": "markdown",
   "metadata": {},
   "source": [
    "### 1.a Interface d'une pile\n",
    "\n",
    "Voici une première interface \"minimale\" de la structure de pile :\n",
    "\n",
    "| Fonction                            | Description                                      |\n",
    "|-------------------------------------|--------------------------------------------------|\n",
    "| `creer_pile() -> Pile `               | Créer une pile vide                              |\n",
    "| `est_vide(p) -> bool `      | renvoie True si p est vide et False sinon        |\n",
    "| `empiler(p, elt) -> None` | Ajoute l'élément elt au sommet de la pile p        |\n",
    "| `depiler(p) -> element de la pile`           | Retire et renvoie l'élément situé au sommet de la pile et soulève une exception  IndexError si la pile est vide|\n",
    "| `__str__(p) -> str `               | Affiche le contenu de la pile                              |\n",
    "\n",
    "\n",
    "On peut y ajouter des fonctions qui facilitent la manipulation :\n",
    "\n",
    "| Fonction                            | Description                                      |\n",
    "|-------------------------------------|--------------------------------------------------|\n",
    "| `sommet(p) -> None `               | Lire la valeur située au sommet de la pile (sans la dépiler)                          |\n",
    "| `taille(p) -> int `      | renvoie le nombre d'éléments dans la pile        |\n",
    "| `vider(p) -> None` | Vide la pile p        |"
   ]
  },
  {
   "cell_type": "markdown",
   "metadata": {},
   "source": [
    "### 2.a Implémentation d'une pile"
   ]
  },
  {
   "cell_type": "markdown",
   "metadata": {},
   "source": [
    "<div class=\"alert alert-info\">\n",
    "    \n",
    "<strong class='fa fa-cogs' style=\"color: darkorange\"> Implémentation d'une pile </strong>\n",
    "    \n",
    "Implémentez l'interface précédente en utilsant la POO et à l'aide du type `list` de python.\n",
    "    \n",
    "Par exemple, si on représente une pile par la liste `[1, 2, 3]` on considère que `3` est arrivé en dernier et se trouve au sommet de la pile. Si on empile `4`, la valeur `4` sera placée au sommet de la pile et l'état de la pile sera alors `[1, 2, 3, 4]`.\n",
    "    \n",
    "Complétez la classe `Pile` ci-dessous, pour implémenter l'interface décrite ci-dessus puis **compléter les jeux de tests qui suivent**.\n",
    "</div>"
   ]
  },
  {
   "cell_type": "code",
   "execution_count": 16,
   "metadata": {},
   "outputs": [],
   "source": [
    "class Pile:\n",
    "    def __init__(self):\n",
    "        \"\"\"\n",
    "        Création de l'objet avec l'attribut contenu.\n",
    "        Par défaut contenu sera initialisé par une liste vide\n",
    "        \"\"\"\n",
    "        self.contenu = []\n",
    "        \n",
    "    def __str__(self):\n",
    "        return str(self.contenu)\n",
    "    \n",
    "    def est_vide(self):\n",
    "        '''renvoie True si la pile est vide,\n",
    "        False sinon'''\n",
    "        return self.contenu == []\n",
    "    \n",
    "    def empiler(self, elt):\n",
    "        '''Place l'élément elt au sommet de la pile'''\n",
    "        self.contenu.append(elt)\n",
    "    \n",
    "    def depiler(self):\n",
    "        '''Supprime l'élément placé au sommet de la pile\n",
    "        A condition qu'elle soit non vide\n",
    "        Renvoie l'élément supprimé.'''\n",
    "        if self.est_vide():\n",
    "            raise IndexError(\"Depilement impossible\")\n",
    "        else:\n",
    "            return self.contenu.pop()\n",
    "    \n",
    "    def sommet(self):\n",
    "        '''Renvoie la valeur du sommet de la pile\n",
    "        si elle est n'est pas vide\n",
    "        (sans la retirer)'''\n",
    "        if self.est_vide():\n",
    "            raise IndexError(\"Depilement impossible\")\n",
    "        else:\n",
    "            return self.contenu[-1]\n",
    "    \n",
    "    def taille(self):\n",
    "        '''Renvoie le nombre d'élément dans la pile'''\n",
    "        return len(self.contenu)\n",
    "    \n",
    "    def vider(self):\n",
    "        '''Vide la pile'''\n",
    "        while not self.est_vide():\n",
    "            self.depiler()"
   ]
  },
  {
   "cell_type": "code",
   "execution_count": 17,
   "metadata": {},
   "outputs": [],
   "source": [
    "# Jeu de tests 1 sur la création d'une pile\n",
    "\n",
    "# Créer une pile p vide\n",
    "p = Pile()\n",
    "assert p.est_vide() == True"
   ]
  },
  {
   "cell_type": "code",
   "execution_count": 18,
   "metadata": {},
   "outputs": [],
   "source": [
    "# Jeu de tests 2 sur la méthode empiler\n",
    "\n",
    "# Empiler 3 dans la pile p précédente\n",
    "p.empiler(3)\n",
    "assert not p.est_vide()\n",
    "\n",
    "# Empiler successivement les valeurs 4, 5 et 10 dans la pile p précédente\n",
    "p.empiler(4)\n",
    "p.empiler(5)\n",
    "p.empiler(10)\n",
    "\n",
    "assert str(p) == \"[3, 4, 5, 10]\"\n",
    "\n",
    "# ajouter un test sur la méthode taille\n",
    "assert p.taille() == 4"
   ]
  },
  {
   "cell_type": "code",
   "execution_count": 20,
   "metadata": {},
   "outputs": [],
   "source": [
    "# Jeu de tests 3 sur la méthode dépiler\n",
    "\n",
    "# Dépiler la dernière valeur de la pile\n",
    "p.depiler()\n",
    "# Votre instruction ici\n",
    "assert p.contenu == [3, 4, 5]\n",
    "p.depiler()\n",
    "assert p.contenu == [3, 4]\n",
    "p.depiler()\n",
    "assert p.contenu == [3]\n",
    "p.depiler()\n",
    "assert p.contenu == []\n",
    "assert p.est_vide"
   ]
  },
  {
   "cell_type": "code",
   "execution_count": 21,
   "metadata": {},
   "outputs": [
    {
     "ename": "IndexError",
     "evalue": "Depilement impossible",
     "output_type": "error",
     "traceback": [
      "\u001b[0;31m---------------------------------------------------------------------------\u001b[0m",
      "\u001b[0;31mIndexError\u001b[0m                                Traceback (most recent call last)",
      "\u001b[0;32m<ipython-input-21-a53ae73fd1ad>\u001b[0m in \u001b[0;36m<module>\u001b[0;34m\u001b[0m\n\u001b[1;32m      1\u001b[0m \u001b[0;31m# Jeu de tests 4 : test de l'IndexError de la méthode dépiler\u001b[0m\u001b[0;34m\u001b[0m\u001b[0;34m\u001b[0m\u001b[0;34m\u001b[0m\u001b[0m\n\u001b[0;32m----> 2\u001b[0;31m \u001b[0mp\u001b[0m\u001b[0;34m.\u001b[0m\u001b[0mdepiler\u001b[0m\u001b[0;34m(\u001b[0m\u001b[0;34m)\u001b[0m\u001b[0;34m\u001b[0m\u001b[0;34m\u001b[0m\u001b[0m\n\u001b[0m",
      "\u001b[0;32m<ipython-input-16-bda1daa6c6d0>\u001b[0m in \u001b[0;36mdepiler\u001b[0;34m(self)\u001b[0m\n\u001b[1;32m     24\u001b[0m         \u001b[0mRenvoie\u001b[0m \u001b[0ml\u001b[0m\u001b[0;34m'élément supprimé.'\u001b[0m\u001b[0;34m''\u001b[0m\u001b[0;34m\u001b[0m\u001b[0;34m\u001b[0m\u001b[0m\n\u001b[1;32m     25\u001b[0m         \u001b[0;32mif\u001b[0m \u001b[0mself\u001b[0m\u001b[0;34m.\u001b[0m\u001b[0mest_vide\u001b[0m\u001b[0;34m(\u001b[0m\u001b[0;34m)\u001b[0m\u001b[0;34m:\u001b[0m\u001b[0;34m\u001b[0m\u001b[0;34m\u001b[0m\u001b[0m\n\u001b[0;32m---> 26\u001b[0;31m             \u001b[0;32mraise\u001b[0m \u001b[0mIndexError\u001b[0m\u001b[0;34m(\u001b[0m\u001b[0;34m\"Depilement impossible\"\u001b[0m\u001b[0;34m)\u001b[0m\u001b[0;34m\u001b[0m\u001b[0;34m\u001b[0m\u001b[0m\n\u001b[0m\u001b[1;32m     27\u001b[0m         \u001b[0;32melse\u001b[0m\u001b[0;34m:\u001b[0m\u001b[0;34m\u001b[0m\u001b[0;34m\u001b[0m\u001b[0m\n\u001b[1;32m     28\u001b[0m             \u001b[0;32mreturn\u001b[0m \u001b[0mself\u001b[0m\u001b[0;34m.\u001b[0m\u001b[0mcontenu\u001b[0m\u001b[0;34m.\u001b[0m\u001b[0mpop\u001b[0m\u001b[0;34m(\u001b[0m\u001b[0;34m)\u001b[0m\u001b[0;34m\u001b[0m\u001b[0;34m\u001b[0m\u001b[0m\n",
      "\u001b[0;31mIndexError\u001b[0m: Depilement impossible"
     ]
    }
   ],
   "source": [
    "# Jeu de tests 4 : test de l'IndexError de la méthode dépiler\n",
    "p.depiler()"
   ]
  },
  {
   "cell_type": "code",
   "execution_count": 23,
   "metadata": {},
   "outputs": [],
   "source": [
    "# Jeu de tests 4 : Vider une pile\n",
    "\n",
    "# Créer une pile associée à la liste [1, 2, 3]\n",
    "p = Pile()\n",
    "p.empiler(1)\n",
    "p.empiler(2)\n",
    "p.empiler(3)\n",
    "assert str(p) == \"[1, 2, 3]\"\n",
    "\n",
    "# Vider la pile\n",
    "p.vider()\n",
    "assert p.est_vide"
   ]
  },
  {
   "cell_type": "markdown",
   "metadata": {},
   "source": [
    "### 3.a Exemple d'application"
   ]
  },
  {
   "cell_type": "markdown",
   "metadata": {},
   "source": [
    "<div class=\"alert alert-info\">\n",
    "    \n",
    "<strong class='fa fa-cogs' style=\"color: darkorange\"> Exercice 1 </strong>\n",
    "    \n",
    "En utilisant les méthodes de l'implémentation précédente d'une pile, compléter le code de la fonction `inverse(chaine)` qui prend en paramètre une chaîne de caractères et qui renvoie la chaîne de caractère inversée.\n",
    "    \n",
    "**Ajouter un jeu de tests à cette fonction.**\n",
    "</div>"
   ]
  },
  {
   "cell_type": "code",
   "execution_count": 24,
   "metadata": {},
   "outputs": [],
   "source": [
    "def inverser(chaine):\n",
    "    p = Pile()\n",
    "    for car in chaine:\n",
    "        p.empiler(car)\n",
    "    chaine_inv = \"\"\n",
    "    while not p.est_vide():\n",
    "        chaine_inv += p.depiler()\n",
    "    return chaine_inv"
   ]
  },
  {
   "cell_type": "code",
   "execution_count": 26,
   "metadata": {},
   "outputs": [],
   "source": [
    "assert inverser('bonjour') == 'ruojnob'"
   ]
  },
  {
   "cell_type": "markdown",
   "metadata": {},
   "source": [
    "## 2. Structure de File"
   ]
  },
  {
   "cell_type": "markdown",
   "metadata": {},
   "source": [
    "En informatique, une file dite aussi file d'attente est une structure de données basée sur le principe du premier entré, premier sorti ou PEPS, désigné en anglais par l'acronyme FIFO (« first in, first out ») : les premiers éléments ajoutés à la file seront les premiers à en être retirés.\n",
    "\n",
    "Vous pouvez penser aux files d'attente aux caisses des magasins. Voici, ci-dessous, une illustration qui compare piles et files.\n",
    "\n",
    "<img src=\"https://capytale2.ac-paris.fr/web/sites/default/files/2021-11-08-21-59-25//ot_7d4d852a-b138-491f-87da-712241a21607/files.png\" alt=\"Files et piles\" title=\"Files et piles\" />\n",
    "\n",
    "\n",
    "\n",
    "En programmation, les files sont utiles pour mettre en attente des informations dans l'ordre dans lequel elles sont arrivées. Par exemple, dans un logiciel de chat (type messagerie instantanée), si vous recevez trois messages à peu de temps d'intervalle, vous les enfilez les uns à la suite des autres en mémoire. Vous vous occupez alors du premier message arrivé pour l'afficher à l'écran, puis vous passez au second, et ainsi de suite.\n",
    "\n",
    "Exemples d'utilisation :\n",
    "  * Les serveurs d'impression traitent les requêtes dans l'ordre dans lequel elles arrivent et les insèrent dans une file d'attente (dite aussi queue ou spool).\n",
    "  * Un algorithme de parcours en largeur utilise une file pour mémoriser les nœuds visités.\n",
    "  * Gestion de mémoires tampons (en anglais « buffers »), par exemple la lecture d'une vidéo."
   ]
  },
  {
   "cell_type": "markdown",
   "metadata": {},
   "source": [
    "### 2.a Interface d'une file"
   ]
  },
  {
   "cell_type": "markdown",
   "metadata": {},
   "source": [
    "Voici une première interface \"minimale\" de la structure de file :\n",
    "\n",
    "| Fonction                            | Description                                      |\n",
    "|-------------------------------------|--------------------------------------------------|\n",
    "| `creer_file() -> File `               | Créer une file vide                              |\n",
    "| `est_vide_file(f) -> bool `      | renvoie True si f est vide et False sinon        |\n",
    "| `enfiler(f, elt) -> None` | Ajoute l'élément e à l'arrière de la file  (on dit que l'on enfile e)       |\n",
    "| `defiler(f) -> element de la file`           | Retire et renvoie l'élément à l'avant de la file (appelé tête de la file)  et soulève une exception  IndexError si la file est vide|\n",
    "| `__str__(f) -> str `               | Affiche le contenu de la file                              |\n",
    "\n",
    "\n",
    "\n",
    "\n",
    "On peut y ajouter des fonctions qui facilitent la manipulation :\n",
    "\n",
    "| Fonction                            | Description                                      |\n",
    "|-------------------------------------|--------------------------------------------------|\n",
    "| `tete(f) -> None `               | Lire la valeur située à l'avant de la file (sans la défiler)                          |\n",
    "| `taille(f) -> int `      | renvoie le nombre d'éléments dans la file        |\n",
    "| `vider(f) -> None` | Vide la file f        |"
   ]
  },
  {
   "cell_type": "markdown",
   "metadata": {},
   "source": [
    "### 2.b Implémentation d'une file"
   ]
  },
  {
   "cell_type": "markdown",
   "metadata": {},
   "source": [
    "<div class=\"alert alert-info\">\n",
    "    \n",
    "<strong class='fa fa-cogs' style=\"color: darkorange\"> Implémentation d'une file </strong>\n",
    "    \n",
    "Implémentez l'interface précédente en utilsant la POO et à l'aide du type `list` de python.\n",
    "    \n",
    "Par exemple, si on représente une file par la liste `[3,2,1]`, on considère que `1` est arrivé en premier et se trouve en tête de file. Ainsi enfiler `4` placera 4 en queue de file et donnera la file `[4,3,2,1]`\n",
    "    \n",
    "Complétez la classe `File` ci-dessous, pour implémenter l'interface décrite ci-dessus puis **compléter les jeux de tests qui suivent**.\n",
    "</div>"
   ]
  },
  {
   "cell_type": "code",
   "execution_count": 32,
   "metadata": {},
   "outputs": [],
   "source": [
    "class File:\n",
    "    def __init__(self):\n",
    "        \"\"\"\n",
    "        Création de l'objet avec l'attribut contenu.\n",
    "        Par défaut contenu sera initialisé par une liste vide\n",
    "        \"\"\"\n",
    "        pass\n",
    "        \n",
    "    def __str__(self):\n",
    "        pass\n",
    "        \n",
    "    def est_vide(self):\n",
    "        '''renvoie True si la file est vide, False sinon'''\n",
    "        pass\n",
    "    \n",
    "    def enfiler(self, elt):\n",
    "        '''Place l'élément elt au sommet de la file'''\n",
    "        pass\n",
    "    \n",
    "    def defiler(self):\n",
    "        '''Supprime l'élément placé au sommet de la file\n",
    "        A condition qu'elle soit non vide\n",
    "        Renvoie l'élément supprimé.'''\n",
    "        pass\n",
    "        \n",
    "    def tete(self):\n",
    "        '''Renvoie la valeur en début de file\n",
    "        si elle n'est pas vide\n",
    "        (sans la defiler)'''\n",
    "        pass\n",
    "    \n",
    "    def taille(self):\n",
    "        '''Renvoie le nombre d'élément dans la file'''\n",
    "        pass\n",
    "    \n",
    "    def vider(self):\n",
    "        '''Vide la file'''\n",
    "        pass"
   ]
  },
  {
   "cell_type": "code",
   "execution_count": 35,
   "metadata": {},
   "outputs": [],
   "source": [
    "# Jeu de tests\n",
    "\n",
    "# Créer une file f vide et tester si elle est vide\n",
    "\n",
    "# Enfiler successivement les éléments 1, 2 et 3 et réaliser un test.\n",
    "\n",
    "\n",
    "# Défiler un élément\n",
    "\n",
    "# Instruction pour défiler et réaliser un test\n",
    "\n",
    "\n",
    "# Vider la file et réaliser un test\n",
    "\n",
    "\n",
    "# Tester les méthodes tete et taille\n"
   ]
  },
  {
   "cell_type": "markdown",
   "metadata": {},
   "source": [
    "**Remarque :** \n",
    "\n",
    "L'inconvénient de cette implémentation avec des listes est qu'avec des files de grandes tailles, le coût en temps de l'enfilement est important."
   ]
  },
  {
   "cell_type": "markdown",
   "metadata": {},
   "source": [
    "### 2.c) Autre implémentation d'une File"
   ]
  },
  {
   "cell_type": "markdown",
   "metadata": {},
   "source": [
    "Un autre moyen d'implémenter une File est d'utiliser deux piles.\n",
    "\n",
    "Pour comprendre le procédé, nous allons faire le parallèle avec un jeu de cartes qui comporterait une pioche et une défausse."
   ]
  },
  {
   "cell_type": "markdown",
   "metadata": {},
   "source": [
    "<div class=\"alert alert-info\">\n",
    "    \n",
    "<strong class='fa fa-cogs' style=\"color: darkorange\"> Question </strong>\n",
    "    \n",
    "Quelle structure de données permet de modéliser cette pioche et ces défausse ?\n",
    "</div>"
   ]
  },
  {
   "cell_type": "markdown",
   "metadata": {},
   "source": [
    "*Réponse :*"
   ]
  },
  {
   "cell_type": "markdown",
   "metadata": {},
   "source": [
    "On se donne la règle suivante du jeu de carte :\n",
    "\n",
    "- toute carte prise dans la réserve (pioche) est retirée de la pile\\,;\n",
    "- toute carte remise dans la réserve est ajoutée à l'autre pile (la défausse).\n",
    "\t\n",
    "On ajoute de plus le mécanisme suivant liant les deux paquets : une fois la pioche vide, on retourne la défausse pour une nouvelle pioche, laissant place ainsi à une défausse vide."
   ]
  },
  {
   "cell_type": "markdown",
   "metadata": {},
   "source": [
    "<div class=\"alert alert-info\">\n",
    "    \n",
    "<strong class='fa fa-cogs' style=\"color: darkorange\"> Question </strong>\n",
    "    \n",
    "Imaginer comment réaliser une file à l'aide de deux piles nommées\n",
    "  `entree` (qui correspondrait à la défausse) et `sortie` (qui correspondrait à la pioche).\n",
    "</div>"
   ]
  },
  {
   "cell_type": "markdown",
   "metadata": {},
   "source": [
    "*Réponse :*"
   ]
  },
  {
   "cell_type": "markdown",
   "metadata": {},
   "source": [
    "En utilisant la classe `Pile` implémentée au début du TP, réaliser la\n",
    "  classe `File` avec les méthodes :\n",
    "\n",
    "- `est_vide(self)` qui renvoie `True` si la file est vide;\n",
    "- `ajouter(self, v)` qui stocke la valeur `v` dans la file;\n",
    "- `retirer(self)` qui retire et retourne la valeur du début de file (la première en attente). Cette méthode soulève une exception `IndexError` si on l'applique sur une file vide."
   ]
  },
  {
   "cell_type": "code",
   "execution_count": null,
   "metadata": {},
   "outputs": [],
   "source": [
    "# à vous de jouer !"
   ]
  }
 ],
 "metadata": {
  "kernelspec": {
   "display_name": "Python 3",
   "language": "python",
   "name": "python3"
  },
  "language_info": {
   "codemirror_mode": {
    "name": "ipython",
    "version": 3
   },
   "file_extension": ".py",
   "mimetype": "text/x-python",
   "name": "python",
   "nbconvert_exporter": "python",
   "pygments_lexer": "ipython3",
   "version": "3.8.5"
  }
 },
 "nbformat": 4,
 "nbformat_minor": 2
}
