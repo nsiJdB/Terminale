{
 "cells": [
  {
   "cell_type": "markdown",
   "metadata": {},
   "source": [
    "# TNSI - Séquence N°6 - Structures arborescentes\n",
    "# TP N°1 - Implémentation objet des arbres binaires"
   ]
  },
  {
   "cell_type": "markdown",
   "metadata": {},
   "source": [
    "Dans ce TP nous allons implémenter une classe permettant de représenter un arbre binaire. "
   ]
  },
  {
   "cell_type": "markdown",
   "metadata": {},
   "source": [
    "## Partie 1. Implémentation de la classe Noeud"
   ]
  },
  {
   "cell_type": "markdown",
   "metadata": {},
   "source": [
    "On va pour cela créer un objet **Noeud** qui aura 3 attributs :\n",
    "- La propriété **valeur** contiendra la valeur (ou étiquette) associée au noeud. \n",
    "- Les propriétés **gauche** et **droit** seront les sous arbres gauche et droit. \n",
    "\n",
    "Les deux propriétés **gauche** et **droit** seront  des instances de la classe **Noeud**. Si il n'y a pas de sous arbre gauche ou droit, on indiquera la valeur **None** dans les propriétés correspondantes.\n",
    "\n",
    "\n",
    "Dans notre classe **Noeud**, nous créerons 3 méthodes :\n",
    "- La méthode **est_feuille()** renverra un booléen selon que l'objet est une feuille ou non.\n",
    "- La méthode **cree_fils_gauche()** prend en paramètre une valeur et crée une feuille à gauche dont la valeur est passée en paramètres.  De plus, elle retourne le noeud fils.\n",
    "- La méthode **cree_fils_droite()** est construite sur le même modèle que **cree_fils_gauche()**. De plus, elle retourne le noeud fils."
   ]
  },
  {
   "cell_type": "code",
   "execution_count": 1,
   "metadata": {},
   "outputs": [],
   "source": [
    "class Noeud():\n",
    "    \n",
    "    # la méthode __repr__ définit ce qui sera affiché\n",
    "    # lorsqu'on tapera l'objet dans Jupyter ou un terminal\n",
    "    # Ici, on affiche juste la valeur du noeud\n",
    "    \n",
    "    \n",
    "    def __repr__(self):\n",
    "        return str(self.valeur)\n",
    "    \n",
    "    # Codez ici les méthodes demandées\n",
    "    # YOUR CODE HERE\n",
    "    \n",
    "    def __init__(self,valeur):\n",
    "        self.valeur = valeur\n",
    "        self.gauche = None\n",
    "        self.droit = None\n",
    "    \n",
    "    def cree_fils_gauche(self,sous_arbre):\n",
    "        self.gauche = Noeud(sous_arbre)\n",
    "        return self.gauche\n",
    "\n",
    "    def cree_fils_droit(self,sous_arbre):\n",
    "        self.droit = Noeud(sous_arbre)\n",
    "        return self.droit\n",
    "    \n",
    "    def est_feuille(self):\n",
    "        return self.gauche == None and self.droit == None"
   ]
  },
  {
   "cell_type": "code",
   "execution_count": 2,
   "metadata": {},
   "outputs": [],
   "source": [
    "# Testez ici les méthodes de votre classe\n",
    "a = Noeud(2)"
   ]
  },
  {
   "cell_type": "markdown",
   "metadata": {},
   "source": [
    "### Exemple d'utilisation de la classe Noeud pour obtenir un arbre binaire"
   ]
  },
  {
   "cell_type": "markdown",
   "metadata": {},
   "source": [
    "On souhaite réaliser l'arbre binaire suivant où `D` est un fils gauche.\n",
    "![exemple1](./img/arbre1.png?dl=1)"
   ]
  },
  {
   "cell_type": "markdown",
   "metadata": {},
   "source": [
    "<div class=\"alert alert-info\">\n",
    "    \n",
    "<strong class='fa fa-cogs' style=\"color: darkorange\"> Exercice 1 </strong>\n",
    "    \n",
    "1. Saisir, dans la cellule ci-dessous, les instructions permettant d'implémenter l'arbre binaire ci-dessus.\n",
    "\n",
    "    Le noeud racine sera un objet que l'on nommera `racine`.\n",
    "    \n",
    "2. Compléter les tests donnés ci-dessous afin de vérifier l'intégralité de l'arbre réalisé.\n",
    "</div>"
   ]
  },
  {
   "cell_type": "code",
   "execution_count": 3,
   "metadata": {},
   "outputs": [
    {
     "data": {
      "text/plain": [
       "C"
      ]
     },
     "execution_count": 3,
     "metadata": {},
     "output_type": "execute_result"
    }
   ],
   "source": [
    "# Saisir ici les instructions permettant d'implémenter l'arbre ci-dessus.\n",
    "racine = Noeud(\"A\")\n",
    "sous_arbre_gauche = racine.cree_fils_gauche(\"B\")\n",
    "sous_arbre_gauche.cree_fils_gauche(\"D\")\n",
    "racine.cree_fils_droit(\"C\")"
   ]
  },
  {
   "cell_type": "code",
   "execution_count": 4,
   "metadata": {},
   "outputs": [],
   "source": [
    "# Quelques tests pour vérifier votre travail.\n",
    "\n",
    "assert racine.valeur == \"A\"\n",
    "assert racine.droit.valeur == \"C\"\n",
    "assert racine.gauche.valeur == \"B\"\n",
    "assert racine.gauche.gauche.valeur == \"D\"\n",
    "\n",
    "assert not racine.est_feuille()\n",
    "assert racine.droit.est_feuille()\n",
    "assert racine.gauche.gauche.est_feuille()\n"
   ]
  },
  {
   "cell_type": "markdown",
   "metadata": {},
   "source": [
    "## Partie 2. Pour avoir un joli affichage de l'arbre et exemple"
   ]
  },
  {
   "cell_type": "markdown",
   "metadata": {},
   "source": [
    "### a) Présentation de l'affichage avec graphviz"
   ]
  },
  {
   "cell_type": "markdown",
   "metadata": {},
   "source": [
    "<div class=\"alert alert-warning\" role=\"alert\">  \n",
    "    \n",
    "Pour ce TP, nous allons utiliser la bibliothèque graphviz pour afficher de jolis arbres :) :).\n",
    "    \n",
    "Pour l'installer, voici les manipulations à réaliser :\n",
    "    \n",
    "- Télécharger le fichier suivant : https://www2.graphviz.org/Packages/stable/windows/10/msbuild/Release/Win32/graphviz-2.44.1-win32.zip\n",
    "- Décompréssez-le dans le dossier NSI de vos documents.\n",
    "Nous allons ajouter les éxécutables de ce programme à votre `path`. \n",
    "- Appuyez sur la touche windows et cherchez `variables système`\n",
    "- Cliquez sur variable d'environnement\n",
    "- Dans la première partie `variables utilisateur ` cliquez sur **nouvelle**\n",
    "- nom de la variable `Path` et valeur : le chemin d'accès vers le dossier `/bin` du dossier décompréssé .\n",
    "- Fermez votre session puis rouvrez-la ou redémarrer l'ordinateur. Cela devrait normalement fonctionner.\n",
    "- Pour terminer l'installation, depuis un terminal, exécution l'instruction `pip install graphviz`\n",
    "</div>"
   ]
  },
  {
   "cell_type": "code",
   "execution_count": 5,
   "metadata": {},
   "outputs": [],
   "source": [
    "# Validez cette cellule pour importer graphviz\n",
    "# Ce module permet de dessiner des arbres et des graphes\n",
    "from graphviz import Digraph"
   ]
  },
  {
   "cell_type": "markdown",
   "metadata": {},
   "source": [
    "On peut compléter cette classe **Noeud** par une nouvelle classe décrivant un objet **ArbreBin**. Un arbre va contenir le **Noeud** racine ainsi que des méthodes permettant l'affichage de l'arbre ou appliquant des algorithmes sur cet arbre.\n",
    "\n",
    "Nous verrons dans un prochain notebook des algorithmes sur cette classe. Néanmoins, pour vous donner un aperçu, voici une première ébauche de la classe **ArbreBin** qui nous sera utile pour visualiser facilement les arbres sur lesquels nous travaillerons."
   ]
  },
  {
   "cell_type": "code",
   "execution_count": 6,
   "metadata": {},
   "outputs": [],
   "source": [
    "class ArbreBin:\n",
    "    \"\"\"Représente un objet arbre binaire\n",
    "    - Propriétés : \n",
    "        * racine : objet de type Noeud désignant la racine de l'arbre\n",
    "    - Méthodes :\n",
    "        * show() : représentation graphique de l'arbre à l'aide de graphviz\n",
    "    \"\"\"\n",
    "    \n",
    "    def __init__(self, racine):\n",
    "        self.racine = racine\n",
    "    \n",
    "    def show(self):\n",
    "        \"\"\"Renvoie un objet graphviz pour la visualisation graphique de l'arbre\"\"\"\n",
    "        def representation(dot, noeud, aretes):\n",
    "            # Ajoute la représentation du noeud à la représentation dot de l'arbre\n",
    "            if noeud is not None:\n",
    "                dot.node(str(id(noeud)), str(noeud.valeur))\n",
    "                # Appel récursif de la fonction representation\n",
    "                if noeud.gauche is not None:\n",
    "                    representation(dot, noeud.gauche, aretes)\n",
    "                    aretes.append((str(id(noeud)) , str(id(noeud.gauche))))\n",
    "                if noeud.droit is not None:\n",
    "                    representation(dot, noeud.droit, aretes)\n",
    "                    aretes.append((str(id(noeud)) , str(id(noeud.droit))))\n",
    "                    \n",
    "        dot = Digraph(comment=\"Arbre binaire\", format='svg')\n",
    "        aretes = []\n",
    "        representation(dot, self.racine, aretes)\n",
    "        dot.edges(aretes)\n",
    "        return dot"
   ]
  },
  {
   "cell_type": "markdown",
   "metadata": {},
   "source": [
    "Voici ci-dessous un exemple d'utilisation avec l'arbre vu dans la partie précédente."
   ]
  },
  {
   "cell_type": "code",
   "execution_count": 7,
   "metadata": {},
   "outputs": [
    {
     "data": {
      "image/svg+xml": [
       "<?xml version=\"1.0\" encoding=\"UTF-8\" standalone=\"no\"?>\n",
       "<!DOCTYPE svg PUBLIC \"-//W3C//DTD SVG 1.1//EN\"\n",
       " \"http://www.w3.org/Graphics/SVG/1.1/DTD/svg11.dtd\">\n",
       "<!-- Generated by graphviz version 2.44.1 (20200629.0846)\n",
       " -->\n",
       "<!-- Pages: 1 -->\n",
       "<svg width=\"134pt\" height=\"188pt\"\n",
       " viewBox=\"0.00 0.00 134.00 188.00\" xmlns=\"http://www.w3.org/2000/svg\" xmlns:xlink=\"http://www.w3.org/1999/xlink\">\n",
       "<g id=\"graph0\" class=\"graph\" transform=\"scale(1 1) rotate(0) translate(4 184)\">\n",
       "<polygon fill=\"white\" stroke=\"transparent\" points=\"-4,4 -4,-184 130,-184 130,4 -4,4\"/>\n",
       "<!-- 140614316927440 -->\n",
       "<g id=\"node1\" class=\"node\">\n",
       "<title>140614316927440</title>\n",
       "<ellipse fill=\"none\" stroke=\"black\" cx=\"63\" cy=\"-162\" rx=\"27\" ry=\"18\"/>\n",
       "<text text-anchor=\"middle\" x=\"63\" y=\"-158.3\" font-family=\"Times,serif\" font-size=\"14.00\">A</text>\n",
       "</g>\n",
       "<!-- 140614316927344 -->\n",
       "<g id=\"node2\" class=\"node\">\n",
       "<title>140614316927344</title>\n",
       "<ellipse fill=\"none\" stroke=\"black\" cx=\"27\" cy=\"-90\" rx=\"27\" ry=\"18\"/>\n",
       "<text text-anchor=\"middle\" x=\"27\" y=\"-86.3\" font-family=\"Times,serif\" font-size=\"14.00\">B</text>\n",
       "</g>\n",
       "<!-- 140614316927440&#45;&gt;140614316927344 -->\n",
       "<g id=\"edge2\" class=\"edge\">\n",
       "<title>140614316927440&#45;&gt;140614316927344</title>\n",
       "<path fill=\"none\" stroke=\"black\" d=\"M54.65,-144.76C50.29,-136.28 44.85,-125.71 39.96,-116.2\"/>\n",
       "<polygon fill=\"black\" stroke=\"black\" points=\"42.99,-114.44 35.3,-107.15 36.77,-117.64 42.99,-114.44\"/>\n",
       "</g>\n",
       "<!-- 140614316695760 -->\n",
       "<g id=\"node4\" class=\"node\">\n",
       "<title>140614316695760</title>\n",
       "<ellipse fill=\"none\" stroke=\"black\" cx=\"99\" cy=\"-90\" rx=\"27\" ry=\"18\"/>\n",
       "<text text-anchor=\"middle\" x=\"99\" y=\"-86.3\" font-family=\"Times,serif\" font-size=\"14.00\">C</text>\n",
       "</g>\n",
       "<!-- 140614316927440&#45;&gt;140614316695760 -->\n",
       "<g id=\"edge3\" class=\"edge\">\n",
       "<title>140614316927440&#45;&gt;140614316695760</title>\n",
       "<path fill=\"none\" stroke=\"black\" d=\"M71.35,-144.76C75.71,-136.28 81.15,-125.71 86.04,-116.2\"/>\n",
       "<polygon fill=\"black\" stroke=\"black\" points=\"89.23,-117.64 90.7,-107.15 83.01,-114.44 89.23,-117.64\"/>\n",
       "</g>\n",
       "<!-- 140614316695712 -->\n",
       "<g id=\"node3\" class=\"node\">\n",
       "<title>140614316695712</title>\n",
       "<ellipse fill=\"none\" stroke=\"black\" cx=\"27\" cy=\"-18\" rx=\"27\" ry=\"18\"/>\n",
       "<text text-anchor=\"middle\" x=\"27\" y=\"-14.3\" font-family=\"Times,serif\" font-size=\"14.00\">D</text>\n",
       "</g>\n",
       "<!-- 140614316927344&#45;&gt;140614316695712 -->\n",
       "<g id=\"edge1\" class=\"edge\">\n",
       "<title>140614316927344&#45;&gt;140614316695712</title>\n",
       "<path fill=\"none\" stroke=\"black\" d=\"M27,-71.7C27,-63.98 27,-54.71 27,-46.11\"/>\n",
       "<polygon fill=\"black\" stroke=\"black\" points=\"30.5,-46.1 27,-36.1 23.5,-46.1 30.5,-46.1\"/>\n",
       "</g>\n",
       "</g>\n",
       "</svg>\n"
      ],
      "text/plain": [
       "<graphviz.dot.Digraph at 0x7fe352692130>"
      ]
     },
     "execution_count": 7,
     "metadata": {},
     "output_type": "execute_result"
    }
   ],
   "source": [
    "racine = Noeud(\"A\")\n",
    "sous_arbre_gauche = racine.cree_fils_gauche(\"B\")\n",
    "sous_arbre_gauche.cree_fils_gauche(\"D\")\n",
    "racine.cree_fils_droit(\"C\")\n",
    "\n",
    "arbre = ArbreBin(racine)\n",
    "arbre.show()"
   ]
  },
  {
   "cell_type": "markdown",
   "metadata": {},
   "source": [
    "### b) Exercice de synthèse"
   ]
  },
  {
   "cell_type": "markdown",
   "metadata": {},
   "source": [
    "<div class=\"alert alert-info\">\n",
    "    \n",
    "<strong class='fa fa-cogs' style=\"color: darkorange\"> Exercice 2 </strong>\n",
    "    \n",
    "Utiliser la classe **Noeud** et **Arbrebin** et les méthodes que vous avez développées pour représenter l'arbre suivant dans la variable `expr`.\n",
    "    \n",
    "Les opérations seront représentées par des chaînes de caractères. Les feuilles seront des entiers.\n",
    "</div>"
   ]
  },
  {
   "cell_type": "markdown",
   "metadata": {},
   "source": [
    "![expression](./img/expr.png)"
   ]
  },
  {
   "cell_type": "code",
   "execution_count": 8,
   "metadata": {},
   "outputs": [],
   "source": [
    "# Saisir ici les instructions pour créer l'arbre\n",
    "\n",
    "# hauteur 0\n",
    "racine = Noeud(\"+\")\n",
    "# hauteur 1\n",
    "sous_arbre_gauche = racine.cree_fils_gauche(\"-\")\n",
    "sous_arbre_droit = racine.cree_fils_droit(1)\n",
    "# hauteur 2\n",
    "fois = sous_arbre_gauche.cree_fils_gauche(\"*\")\n",
    "puissance = sous_arbre_gauche.cree_fils_droit(\"^\")\n",
    "# hauteur 3\n",
    "fois.cree_fils_droit(2)\n",
    "plus = fois.cree_fils_gauche(\"+\")\n",
    "puissance.cree_fils_droit(2)\n",
    "puissance.cree_fils_gauche(3)\n",
    "# hauteur 4\n",
    "plus.cree_fils_gauche(2)\n",
    "plus.cree_fils_droit(4)\n",
    "\n",
    "expr = ArbreBin(racine)"
   ]
  },
  {
   "cell_type": "code",
   "execution_count": 9,
   "metadata": {},
   "outputs": [
    {
     "data": {
      "image/svg+xml": [
       "<?xml version=\"1.0\" encoding=\"UTF-8\" standalone=\"no\"?>\n",
       "<!DOCTYPE svg PUBLIC \"-//W3C//DTD SVG 1.1//EN\"\n",
       " \"http://www.w3.org/Graphics/SVG/1.1/DTD/svg11.dtd\">\n",
       "<!-- Generated by graphviz version 2.44.1 (20200629.0846)\n",
       " -->\n",
       "<!-- Pages: 1 -->\n",
       "<svg width=\"314pt\" height=\"332pt\"\n",
       " viewBox=\"0.00 0.00 314.00 332.00\" xmlns=\"http://www.w3.org/2000/svg\" xmlns:xlink=\"http://www.w3.org/1999/xlink\">\n",
       "<g id=\"graph0\" class=\"graph\" transform=\"scale(1 1) rotate(0) translate(4 328)\">\n",
       "<polygon fill=\"white\" stroke=\"transparent\" points=\"-4,4 -4,-328 310,-328 310,4 -4,4\"/>\n",
       "<!-- 140614316928928 -->\n",
       "<g id=\"node1\" class=\"node\">\n",
       "<title>140614316928928</title>\n",
       "<ellipse fill=\"none\" stroke=\"black\" cx=\"207\" cy=\"-306\" rx=\"27\" ry=\"18\"/>\n",
       "<text text-anchor=\"middle\" x=\"207\" y=\"-302.3\" font-family=\"Times,serif\" font-size=\"14.00\">+</text>\n",
       "</g>\n",
       "<!-- 140614316928832 -->\n",
       "<g id=\"node2\" class=\"node\">\n",
       "<title>140614316928832</title>\n",
       "<ellipse fill=\"none\" stroke=\"black\" cx=\"171\" cy=\"-234\" rx=\"27\" ry=\"18\"/>\n",
       "<text text-anchor=\"middle\" x=\"171\" y=\"-230.3\" font-family=\"Times,serif\" font-size=\"14.00\">&#45;</text>\n",
       "</g>\n",
       "<!-- 140614316928928&#45;&gt;140614316928832 -->\n",
       "<g id=\"edge9\" class=\"edge\">\n",
       "<title>140614316928928&#45;&gt;140614316928832</title>\n",
       "<path fill=\"none\" stroke=\"black\" d=\"M198.65,-288.76C194.29,-280.28 188.85,-269.71 183.96,-260.2\"/>\n",
       "<polygon fill=\"black\" stroke=\"black\" points=\"186.99,-258.44 179.3,-251.15 180.77,-261.64 186.99,-258.44\"/>\n",
       "</g>\n",
       "<!-- 140614316927296 -->\n",
       "<g id=\"node11\" class=\"node\">\n",
       "<title>140614316927296</title>\n",
       "<ellipse fill=\"none\" stroke=\"black\" cx=\"243\" cy=\"-234\" rx=\"27\" ry=\"18\"/>\n",
       "<text text-anchor=\"middle\" x=\"243\" y=\"-230.3\" font-family=\"Times,serif\" font-size=\"14.00\">1</text>\n",
       "</g>\n",
       "<!-- 140614316928928&#45;&gt;140614316927296 -->\n",
       "<g id=\"edge10\" class=\"edge\">\n",
       "<title>140614316928928&#45;&gt;140614316927296</title>\n",
       "<path fill=\"none\" stroke=\"black\" d=\"M215.35,-288.76C219.71,-280.28 225.15,-269.71 230.04,-260.2\"/>\n",
       "<polygon fill=\"black\" stroke=\"black\" points=\"233.23,-261.64 234.7,-251.15 227.01,-258.44 233.23,-261.64\"/>\n",
       "</g>\n",
       "<!-- 140614316928880 -->\n",
       "<g id=\"node3\" class=\"node\">\n",
       "<title>140614316928880</title>\n",
       "<ellipse fill=\"none\" stroke=\"black\" cx=\"135\" cy=\"-162\" rx=\"27\" ry=\"18\"/>\n",
       "<text text-anchor=\"middle\" x=\"135\" y=\"-158.3\" font-family=\"Times,serif\" font-size=\"14.00\">*</text>\n",
       "</g>\n",
       "<!-- 140614316928832&#45;&gt;140614316928880 -->\n",
       "<g id=\"edge5\" class=\"edge\">\n",
       "<title>140614316928832&#45;&gt;140614316928880</title>\n",
       "<path fill=\"none\" stroke=\"black\" d=\"M162.65,-216.76C158.29,-208.28 152.85,-197.71 147.96,-188.2\"/>\n",
       "<polygon fill=\"black\" stroke=\"black\" points=\"150.99,-186.44 143.3,-179.15 144.77,-189.64 150.99,-186.44\"/>\n",
       "</g>\n",
       "<!-- 140614316925808 -->\n",
       "<g id=\"node8\" class=\"node\">\n",
       "<title>140614316925808</title>\n",
       "<ellipse fill=\"none\" stroke=\"black\" cx=\"207\" cy=\"-162\" rx=\"27\" ry=\"18\"/>\n",
       "<text text-anchor=\"middle\" x=\"207\" y=\"-158.3\" font-family=\"Times,serif\" font-size=\"14.00\">^</text>\n",
       "</g>\n",
       "<!-- 140614316928832&#45;&gt;140614316925808 -->\n",
       "<g id=\"edge8\" class=\"edge\">\n",
       "<title>140614316928832&#45;&gt;140614316925808</title>\n",
       "<path fill=\"none\" stroke=\"black\" d=\"M179.35,-216.76C183.71,-208.28 189.15,-197.71 194.04,-188.2\"/>\n",
       "<polygon fill=\"black\" stroke=\"black\" points=\"197.23,-189.64 198.7,-179.15 191.01,-186.44 197.23,-189.64\"/>\n",
       "</g>\n",
       "<!-- 140614317031488 -->\n",
       "<g id=\"node4\" class=\"node\">\n",
       "<title>140614317031488</title>\n",
       "<ellipse fill=\"none\" stroke=\"black\" cx=\"63\" cy=\"-90\" rx=\"27\" ry=\"18\"/>\n",
       "<text text-anchor=\"middle\" x=\"63\" y=\"-86.3\" font-family=\"Times,serif\" font-size=\"14.00\">+</text>\n",
       "</g>\n",
       "<!-- 140614316928880&#45;&gt;140614317031488 -->\n",
       "<g id=\"edge3\" class=\"edge\">\n",
       "<title>140614316928880&#45;&gt;140614317031488</title>\n",
       "<path fill=\"none\" stroke=\"black\" d=\"M120.43,-146.83C110.25,-136.94 96.48,-123.55 84.97,-112.36\"/>\n",
       "<polygon fill=\"black\" stroke=\"black\" points=\"87.41,-109.85 77.8,-105.38 82.53,-114.87 87.41,-109.85\"/>\n",
       "</g>\n",
       "<!-- 140614317031584 -->\n",
       "<g id=\"node7\" class=\"node\">\n",
       "<title>140614317031584</title>\n",
       "<ellipse fill=\"none\" stroke=\"black\" cx=\"135\" cy=\"-90\" rx=\"27\" ry=\"18\"/>\n",
       "<text text-anchor=\"middle\" x=\"135\" y=\"-86.3\" font-family=\"Times,serif\" font-size=\"14.00\">2</text>\n",
       "</g>\n",
       "<!-- 140614316928880&#45;&gt;140614317031584 -->\n",
       "<g id=\"edge4\" class=\"edge\">\n",
       "<title>140614316928880&#45;&gt;140614317031584</title>\n",
       "<path fill=\"none\" stroke=\"black\" d=\"M135,-143.7C135,-135.98 135,-126.71 135,-118.11\"/>\n",
       "<polygon fill=\"black\" stroke=\"black\" points=\"138.5,-118.1 135,-108.1 131.5,-118.1 138.5,-118.1\"/>\n",
       "</g>\n",
       "<!-- 140614317031728 -->\n",
       "<g id=\"node5\" class=\"node\">\n",
       "<title>140614317031728</title>\n",
       "<ellipse fill=\"none\" stroke=\"black\" cx=\"27\" cy=\"-18\" rx=\"27\" ry=\"18\"/>\n",
       "<text text-anchor=\"middle\" x=\"27\" y=\"-14.3\" font-family=\"Times,serif\" font-size=\"14.00\">2</text>\n",
       "</g>\n",
       "<!-- 140614317031488&#45;&gt;140614317031728 -->\n",
       "<g id=\"edge1\" class=\"edge\">\n",
       "<title>140614317031488&#45;&gt;140614317031728</title>\n",
       "<path fill=\"none\" stroke=\"black\" d=\"M54.65,-72.76C50.29,-64.28 44.85,-53.71 39.96,-44.2\"/>\n",
       "<polygon fill=\"black\" stroke=\"black\" points=\"42.99,-42.44 35.3,-35.15 36.77,-45.64 42.99,-42.44\"/>\n",
       "</g>\n",
       "<!-- 140614317031824 -->\n",
       "<g id=\"node6\" class=\"node\">\n",
       "<title>140614317031824</title>\n",
       "<ellipse fill=\"none\" stroke=\"black\" cx=\"99\" cy=\"-18\" rx=\"27\" ry=\"18\"/>\n",
       "<text text-anchor=\"middle\" x=\"99\" y=\"-14.3\" font-family=\"Times,serif\" font-size=\"14.00\">4</text>\n",
       "</g>\n",
       "<!-- 140614317031488&#45;&gt;140614317031824 -->\n",
       "<g id=\"edge2\" class=\"edge\">\n",
       "<title>140614317031488&#45;&gt;140614317031824</title>\n",
       "<path fill=\"none\" stroke=\"black\" d=\"M71.35,-72.76C75.71,-64.28 81.15,-53.71 86.04,-44.2\"/>\n",
       "<polygon fill=\"black\" stroke=\"black\" points=\"89.23,-45.64 90.7,-35.15 83.01,-42.44 89.23,-45.64\"/>\n",
       "</g>\n",
       "<!-- 140614317031632 -->\n",
       "<g id=\"node9\" class=\"node\">\n",
       "<title>140614317031632</title>\n",
       "<ellipse fill=\"none\" stroke=\"black\" cx=\"207\" cy=\"-90\" rx=\"27\" ry=\"18\"/>\n",
       "<text text-anchor=\"middle\" x=\"207\" y=\"-86.3\" font-family=\"Times,serif\" font-size=\"14.00\">3</text>\n",
       "</g>\n",
       "<!-- 140614316925808&#45;&gt;140614317031632 -->\n",
       "<g id=\"edge6\" class=\"edge\">\n",
       "<title>140614316925808&#45;&gt;140614317031632</title>\n",
       "<path fill=\"none\" stroke=\"black\" d=\"M207,-143.7C207,-135.98 207,-126.71 207,-118.11\"/>\n",
       "<polygon fill=\"black\" stroke=\"black\" points=\"210.5,-118.1 207,-108.1 203.5,-118.1 210.5,-118.1\"/>\n",
       "</g>\n",
       "<!-- 140614317031536 -->\n",
       "<g id=\"node10\" class=\"node\">\n",
       "<title>140614317031536</title>\n",
       "<ellipse fill=\"none\" stroke=\"black\" cx=\"279\" cy=\"-90\" rx=\"27\" ry=\"18\"/>\n",
       "<text text-anchor=\"middle\" x=\"279\" y=\"-86.3\" font-family=\"Times,serif\" font-size=\"14.00\">2</text>\n",
       "</g>\n",
       "<!-- 140614316925808&#45;&gt;140614317031536 -->\n",
       "<g id=\"edge7\" class=\"edge\">\n",
       "<title>140614316925808&#45;&gt;140614317031536</title>\n",
       "<path fill=\"none\" stroke=\"black\" d=\"M221.57,-146.83C231.75,-136.94 245.52,-123.55 257.03,-112.36\"/>\n",
       "<polygon fill=\"black\" stroke=\"black\" points=\"259.47,-114.87 264.2,-105.38 254.59,-109.85 259.47,-114.87\"/>\n",
       "</g>\n",
       "</g>\n",
       "</svg>\n"
      ],
      "text/plain": [
       "<graphviz.dot.Digraph at 0x7fe3526924f0>"
      ]
     },
     "execution_count": 9,
     "metadata": {},
     "output_type": "execute_result"
    }
   ],
   "source": [
    "# Validation de la réponse et affichage de l'arbre\n",
    "assert racine.valeur == \"+\"\n",
    "assert racine.droit.valeur == 1\n",
    "\n",
    "# Saisir ci-dessous l'instruction pour générer l'affichage de l'arbre.\n",
    "expr.show()"
   ]
  },
  {
   "cell_type": "markdown",
   "metadata": {},
   "source": [
    "**Question supplémentaire :** Compléter la cellule ci-dessous avec l'instruction permettant d'afficher le sous arbre gauche.  "
   ]
  },
  {
   "cell_type": "code",
   "execution_count": 22,
   "metadata": {},
   "outputs": [
    {
     "data": {
      "image/svg+xml": [
       "<?xml version=\"1.0\" encoding=\"UTF-8\" standalone=\"no\"?>\r\n",
       "<!DOCTYPE svg PUBLIC \"-//W3C//DTD SVG 1.1//EN\"\r\n",
       " \"http://www.w3.org/Graphics/SVG/1.1/DTD/svg11.dtd\">\r\n",
       "<!-- Generated by graphviz version 2.44.1 (20200629.0800)\r\n",
       " -->\r\n",
       "<!-- Pages: 1 -->\r\n",
       "<svg width=\"314pt\" height=\"260pt\"\r\n",
       " viewBox=\"0.00 0.00 314.00 260.00\" xmlns=\"http://www.w3.org/2000/svg\" xmlns:xlink=\"http://www.w3.org/1999/xlink\">\r\n",
       "<g id=\"graph0\" class=\"graph\" transform=\"scale(1 1) rotate(0) translate(4 256)\">\r\n",
       "<polygon fill=\"white\" stroke=\"transparent\" points=\"-4,4 -4,-256 310,-256 310,4 -4,4\"/>\r\n",
       "<!-- 2349144203952 -->\r\n",
       "<g id=\"node1\" class=\"node\">\r\n",
       "<title>2349144203952</title>\r\n",
       "<ellipse fill=\"none\" stroke=\"black\" cx=\"171\" cy=\"-234\" rx=\"27\" ry=\"18\"/>\r\n",
       "<text text-anchor=\"middle\" x=\"171\" y=\"-230.3\" font-family=\"Times New Roman,serif\" font-size=\"14.00\">&#45;</text>\r\n",
       "</g>\r\n",
       "<!-- 2349142978768 -->\r\n",
       "<g id=\"node2\" class=\"node\">\r\n",
       "<title>2349142978768</title>\r\n",
       "<ellipse fill=\"none\" stroke=\"black\" cx=\"135\" cy=\"-162\" rx=\"27\" ry=\"18\"/>\r\n",
       "<text text-anchor=\"middle\" x=\"135\" y=\"-158.3\" font-family=\"Times New Roman,serif\" font-size=\"14.00\">*</text>\r\n",
       "</g>\r\n",
       "<!-- 2349144203952&#45;&gt;2349142978768 -->\r\n",
       "<g id=\"edge5\" class=\"edge\">\r\n",
       "<title>2349144203952&#45;&gt;2349142978768</title>\r\n",
       "<path fill=\"none\" stroke=\"black\" d=\"M162.65,-216.76C158.29,-208.28 152.85,-197.71 147.96,-188.2\"/>\r\n",
       "<polygon fill=\"black\" stroke=\"black\" points=\"150.99,-186.44 143.3,-179.15 144.77,-189.64 150.99,-186.44\"/>\r\n",
       "</g>\r\n",
       "<!-- 2349142982032 -->\r\n",
       "<g id=\"node7\" class=\"node\">\r\n",
       "<title>2349142982032</title>\r\n",
       "<ellipse fill=\"none\" stroke=\"black\" cx=\"207\" cy=\"-162\" rx=\"27\" ry=\"18\"/>\r\n",
       "<text text-anchor=\"middle\" x=\"207\" y=\"-158.3\" font-family=\"Times New Roman,serif\" font-size=\"14.00\">^</text>\r\n",
       "</g>\r\n",
       "<!-- 2349144203952&#45;&gt;2349142982032 -->\r\n",
       "<g id=\"edge8\" class=\"edge\">\r\n",
       "<title>2349144203952&#45;&gt;2349142982032</title>\r\n",
       "<path fill=\"none\" stroke=\"black\" d=\"M179.35,-216.76C183.71,-208.28 189.15,-197.71 194.04,-188.2\"/>\r\n",
       "<polygon fill=\"black\" stroke=\"black\" points=\"197.23,-189.64 198.7,-179.15 191.01,-186.44 197.23,-189.64\"/>\r\n",
       "</g>\r\n",
       "<!-- 2349142981744 -->\r\n",
       "<g id=\"node3\" class=\"node\">\r\n",
       "<title>2349142981744</title>\r\n",
       "<ellipse fill=\"none\" stroke=\"black\" cx=\"63\" cy=\"-90\" rx=\"27\" ry=\"18\"/>\r\n",
       "<text text-anchor=\"middle\" x=\"63\" y=\"-86.3\" font-family=\"Times New Roman,serif\" font-size=\"14.00\">+</text>\r\n",
       "</g>\r\n",
       "<!-- 2349142978768&#45;&gt;2349142981744 -->\r\n",
       "<g id=\"edge3\" class=\"edge\">\r\n",
       "<title>2349142978768&#45;&gt;2349142981744</title>\r\n",
       "<path fill=\"none\" stroke=\"black\" d=\"M120.43,-146.83C110.25,-136.94 96.48,-123.55 84.97,-112.36\"/>\r\n",
       "<polygon fill=\"black\" stroke=\"black\" points=\"87.41,-109.85 77.8,-105.38 82.53,-114.87 87.41,-109.85\"/>\r\n",
       "</g>\r\n",
       "<!-- 2349142981504 -->\r\n",
       "<g id=\"node6\" class=\"node\">\r\n",
       "<title>2349142981504</title>\r\n",
       "<ellipse fill=\"none\" stroke=\"black\" cx=\"135\" cy=\"-90\" rx=\"27\" ry=\"18\"/>\r\n",
       "<text text-anchor=\"middle\" x=\"135\" y=\"-86.3\" font-family=\"Times New Roman,serif\" font-size=\"14.00\">2</text>\r\n",
       "</g>\r\n",
       "<!-- 2349142978768&#45;&gt;2349142981504 -->\r\n",
       "<g id=\"edge4\" class=\"edge\">\r\n",
       "<title>2349142978768&#45;&gt;2349142981504</title>\r\n",
       "<path fill=\"none\" stroke=\"black\" d=\"M135,-143.7C135,-135.98 135,-126.71 135,-118.11\"/>\r\n",
       "<polygon fill=\"black\" stroke=\"black\" points=\"138.5,-118.1 135,-108.1 131.5,-118.1 138.5,-118.1\"/>\r\n",
       "</g>\r\n",
       "<!-- 2349144203424 -->\r\n",
       "<g id=\"node4\" class=\"node\">\r\n",
       "<title>2349144203424</title>\r\n",
       "<ellipse fill=\"none\" stroke=\"black\" cx=\"27\" cy=\"-18\" rx=\"27\" ry=\"18\"/>\r\n",
       "<text text-anchor=\"middle\" x=\"27\" y=\"-14.3\" font-family=\"Times New Roman,serif\" font-size=\"14.00\">2</text>\r\n",
       "</g>\r\n",
       "<!-- 2349142981744&#45;&gt;2349144203424 -->\r\n",
       "<g id=\"edge1\" class=\"edge\">\r\n",
       "<title>2349142981744&#45;&gt;2349144203424</title>\r\n",
       "<path fill=\"none\" stroke=\"black\" d=\"M54.65,-72.76C50.29,-64.28 44.85,-53.71 39.96,-44.2\"/>\r\n",
       "<polygon fill=\"black\" stroke=\"black\" points=\"42.99,-42.44 35.3,-35.15 36.77,-45.64 42.99,-42.44\"/>\r\n",
       "</g>\r\n",
       "<!-- 2349144204240 -->\r\n",
       "<g id=\"node5\" class=\"node\">\r\n",
       "<title>2349144204240</title>\r\n",
       "<ellipse fill=\"none\" stroke=\"black\" cx=\"99\" cy=\"-18\" rx=\"27\" ry=\"18\"/>\r\n",
       "<text text-anchor=\"middle\" x=\"99\" y=\"-14.3\" font-family=\"Times New Roman,serif\" font-size=\"14.00\">4</text>\r\n",
       "</g>\r\n",
       "<!-- 2349142981744&#45;&gt;2349144204240 -->\r\n",
       "<g id=\"edge2\" class=\"edge\">\r\n",
       "<title>2349142981744&#45;&gt;2349144204240</title>\r\n",
       "<path fill=\"none\" stroke=\"black\" d=\"M71.35,-72.76C75.71,-64.28 81.15,-53.71 86.04,-44.2\"/>\r\n",
       "<polygon fill=\"black\" stroke=\"black\" points=\"89.23,-45.64 90.7,-35.15 83.01,-42.44 89.23,-45.64\"/>\r\n",
       "</g>\r\n",
       "<!-- 2349142981120 -->\r\n",
       "<g id=\"node8\" class=\"node\">\r\n",
       "<title>2349142981120</title>\r\n",
       "<ellipse fill=\"none\" stroke=\"black\" cx=\"207\" cy=\"-90\" rx=\"27\" ry=\"18\"/>\r\n",
       "<text text-anchor=\"middle\" x=\"207\" y=\"-86.3\" font-family=\"Times New Roman,serif\" font-size=\"14.00\">3</text>\r\n",
       "</g>\r\n",
       "<!-- 2349142982032&#45;&gt;2349142981120 -->\r\n",
       "<g id=\"edge6\" class=\"edge\">\r\n",
       "<title>2349142982032&#45;&gt;2349142981120</title>\r\n",
       "<path fill=\"none\" stroke=\"black\" d=\"M207,-143.7C207,-135.98 207,-126.71 207,-118.11\"/>\r\n",
       "<polygon fill=\"black\" stroke=\"black\" points=\"210.5,-118.1 207,-108.1 203.5,-118.1 210.5,-118.1\"/>\r\n",
       "</g>\r\n",
       "<!-- 2349142978720 -->\r\n",
       "<g id=\"node9\" class=\"node\">\r\n",
       "<title>2349142978720</title>\r\n",
       "<ellipse fill=\"none\" stroke=\"black\" cx=\"279\" cy=\"-90\" rx=\"27\" ry=\"18\"/>\r\n",
       "<text text-anchor=\"middle\" x=\"279\" y=\"-86.3\" font-family=\"Times New Roman,serif\" font-size=\"14.00\">2</text>\r\n",
       "</g>\r\n",
       "<!-- 2349142982032&#45;&gt;2349142978720 -->\r\n",
       "<g id=\"edge7\" class=\"edge\">\r\n",
       "<title>2349142982032&#45;&gt;2349142978720</title>\r\n",
       "<path fill=\"none\" stroke=\"black\" d=\"M221.57,-146.83C231.75,-136.94 245.52,-123.55 257.03,-112.36\"/>\r\n",
       "<polygon fill=\"black\" stroke=\"black\" points=\"259.47,-114.87 264.2,-105.38 254.59,-109.85 259.47,-114.87\"/>\r\n",
       "</g>\r\n",
       "</g>\r\n",
       "</svg>\r\n"
      ],
      "text/plain": [
       "<graphviz.dot.Digraph at 0x222f3e75910>"
      ]
     },
     "execution_count": 22,
     "metadata": {},
     "output_type": "execute_result"
    }
   ],
   "source": [
    "# Afficher le sous arbre gauche :\n",
    "ArbreBin(racine.gauche).show()"
   ]
  },
  {
   "cell_type": "markdown",
   "metadata": {},
   "source": [
    "## Partie 3. Pour les plus rapides\n",
    "## Passer d'une implémentation avec des listes à une implémentation Objet"
   ]
  },
  {
   "cell_type": "markdown",
   "metadata": {},
   "source": [
    "On souhaite réaliser pouvoir une fonction qui convertit un arbre binaire défini par des listes Python en implémentation orientée objet en utilisant la classe `Noeud`.\n",
    "\n",
    "Par exemple, si on définit un arbre de la façon suivant : \n",
    "\n",
    "`arbre = [\"A\", [\"B\", [\"D\", [], []], []], [\"C\", [], []]]`.\n",
    "\n",
    "La fonction recherchée devra créer l'objet `arbre` défini en POO de la façon suivante :\n",
    "\n",
    "```Python\n",
    "    arbre = Noeud(\"A\")\n",
    "    arbre.gauche = Noeud(\"B\")\n",
    "    arbre.droite = Noeud(\"C\")\n",
    "    arbre.gauche.gauche = Noeud(\"D\") \n",
    "```\n",
    "\n",
    "\n"
   ]
  },
  {
   "cell_type": "markdown",
   "metadata": {},
   "source": [
    "<div class=\"alert alert-info\">\n",
    "    \n",
    "<strong class='fa fa-cogs' style=\"color: darkorange\"> Exercice 3 </strong>\n",
    "    \n",
    "Ècrire le code d'une fonction `convertir` qui reçoit en paramètre un tableau modélisant un arbre binaire et qui renvoie un objet, instanciation de la classe `Noeud`, qui correspondant à une implémentation en POO de l'arbre binaire passé en paramètre.\n",
    "</div>"
   ]
  },
  {
   "cell_type": "code",
   "execution_count": 23,
   "metadata": {},
   "outputs": [],
   "source": [
    "def convertir(tableau):\n",
    "    # Cas particuliers\n",
    "    if tableau == []:\n",
    "        return None\n",
    "    elif len(tableau) == 1:\n",
    "        return Noeud(tableau[0])\n",
    "    else:\n",
    "        nd = Noeud(tableau[0])\n",
    "        nd.gauche = convertir(tableau[1])\n",
    "        if len(tableau) >= 3:\n",
    "            nd.droit  = convertir(tableau[2])\n",
    "        else:\n",
    "            nd.droit = None\n",
    "        return nd"
   ]
  },
  {
   "cell_type": "code",
   "execution_count": 24,
   "metadata": {},
   "outputs": [],
   "source": [
    "# Tester votre code ici avec l'arbre donné précédemment.\n",
    "arbre_liste = [\"A\", [\"B\", [\"D\", [], []], []], [\"C\", [], []]]\n",
    "\n",
    "# à toi de compléter :)\n",
    "racine = convertir(arbre_liste)\n",
    "arbre = ArbreBin(racine)"
   ]
  },
  {
   "cell_type": "code",
   "execution_count": 25,
   "metadata": {},
   "outputs": [
    {
     "data": {
      "image/svg+xml": [
       "<?xml version=\"1.0\" encoding=\"UTF-8\" standalone=\"no\"?>\r\n",
       "<!DOCTYPE svg PUBLIC \"-//W3C//DTD SVG 1.1//EN\"\r\n",
       " \"http://www.w3.org/Graphics/SVG/1.1/DTD/svg11.dtd\">\r\n",
       "<!-- Generated by graphviz version 2.44.1 (20200629.0800)\r\n",
       " -->\r\n",
       "<!-- Pages: 1 -->\r\n",
       "<svg width=\"134pt\" height=\"188pt\"\r\n",
       " viewBox=\"0.00 0.00 134.00 188.00\" xmlns=\"http://www.w3.org/2000/svg\" xmlns:xlink=\"http://www.w3.org/1999/xlink\">\r\n",
       "<g id=\"graph0\" class=\"graph\" transform=\"scale(1 1) rotate(0) translate(4 184)\">\r\n",
       "<polygon fill=\"white\" stroke=\"transparent\" points=\"-4,4 -4,-184 130,-184 130,4 -4,4\"/>\r\n",
       "<!-- 2349144166464 -->\r\n",
       "<g id=\"node1\" class=\"node\">\r\n",
       "<title>2349144166464</title>\r\n",
       "<ellipse fill=\"none\" stroke=\"black\" cx=\"63\" cy=\"-162\" rx=\"27\" ry=\"18\"/>\r\n",
       "<text text-anchor=\"middle\" x=\"63\" y=\"-158.3\" font-family=\"Times New Roman,serif\" font-size=\"14.00\">A</text>\r\n",
       "</g>\r\n",
       "<!-- 2349144170016 -->\r\n",
       "<g id=\"node2\" class=\"node\">\r\n",
       "<title>2349144170016</title>\r\n",
       "<ellipse fill=\"none\" stroke=\"black\" cx=\"27\" cy=\"-90\" rx=\"27\" ry=\"18\"/>\r\n",
       "<text text-anchor=\"middle\" x=\"27\" y=\"-86.3\" font-family=\"Times New Roman,serif\" font-size=\"14.00\">B</text>\r\n",
       "</g>\r\n",
       "<!-- 2349144166464&#45;&gt;2349144170016 -->\r\n",
       "<g id=\"edge2\" class=\"edge\">\r\n",
       "<title>2349144166464&#45;&gt;2349144170016</title>\r\n",
       "<path fill=\"none\" stroke=\"black\" d=\"M54.65,-144.76C50.29,-136.28 44.85,-125.71 39.96,-116.2\"/>\r\n",
       "<polygon fill=\"black\" stroke=\"black\" points=\"42.99,-114.44 35.3,-107.15 36.77,-117.64 42.99,-114.44\"/>\r\n",
       "</g>\r\n",
       "<!-- 2349144169968 -->\r\n",
       "<g id=\"node4\" class=\"node\">\r\n",
       "<title>2349144169968</title>\r\n",
       "<ellipse fill=\"none\" stroke=\"black\" cx=\"99\" cy=\"-90\" rx=\"27\" ry=\"18\"/>\r\n",
       "<text text-anchor=\"middle\" x=\"99\" y=\"-86.3\" font-family=\"Times New Roman,serif\" font-size=\"14.00\">C</text>\r\n",
       "</g>\r\n",
       "<!-- 2349144166464&#45;&gt;2349144169968 -->\r\n",
       "<g id=\"edge3\" class=\"edge\">\r\n",
       "<title>2349144166464&#45;&gt;2349144169968</title>\r\n",
       "<path fill=\"none\" stroke=\"black\" d=\"M71.35,-144.76C75.71,-136.28 81.15,-125.71 86.04,-116.2\"/>\r\n",
       "<polygon fill=\"black\" stroke=\"black\" points=\"89.23,-117.64 90.7,-107.15 83.01,-114.44 89.23,-117.64\"/>\r\n",
       "</g>\r\n",
       "<!-- 2349144167760 -->\r\n",
       "<g id=\"node3\" class=\"node\">\r\n",
       "<title>2349144167760</title>\r\n",
       "<ellipse fill=\"none\" stroke=\"black\" cx=\"27\" cy=\"-18\" rx=\"27\" ry=\"18\"/>\r\n",
       "<text text-anchor=\"middle\" x=\"27\" y=\"-14.3\" font-family=\"Times New Roman,serif\" font-size=\"14.00\">D</text>\r\n",
       "</g>\r\n",
       "<!-- 2349144170016&#45;&gt;2349144167760 -->\r\n",
       "<g id=\"edge1\" class=\"edge\">\r\n",
       "<title>2349144170016&#45;&gt;2349144167760</title>\r\n",
       "<path fill=\"none\" stroke=\"black\" d=\"M27,-71.7C27,-63.98 27,-54.71 27,-46.11\"/>\r\n",
       "<polygon fill=\"black\" stroke=\"black\" points=\"30.5,-46.1 27,-36.1 23.5,-46.1 30.5,-46.1\"/>\r\n",
       "</g>\r\n",
       "</g>\r\n",
       "</svg>\r\n"
      ],
      "text/plain": [
       "<graphviz.dot.Digraph at 0x222f3e75460>"
      ]
     },
     "execution_count": 25,
     "metadata": {},
     "output_type": "execute_result"
    }
   ],
   "source": [
    "# à exécuter pour vérifier le bon fonctionnement.\n",
    "\n",
    "arbre.show()"
   ]
  },
  {
   "cell_type": "markdown",
   "metadata": {},
   "source": [
    "### Pour aller plus loin"
   ]
  },
  {
   "cell_type": "markdown",
   "metadata": {},
   "source": [
    "On peut aussi intégrer cette fonction parmi les méthodes de la classe `ArbreBin` de la fonction suivante. La fonction `convertir` précédente a été placée dans une méthode `importer`. Cette fonction est appelée une **fonction locale** qui n'est visible que dans la méthode `importer`. La méthode `importer` est présente pour invoquer la fonction `convertir` sur la racine l'arbre. \n",
    "\n",
    "Cette méthode a l'avantage d'éviter de multiplier les méthodes dans la classe `ArbreBin`."
   ]
  },
  {
   "cell_type": "code",
   "execution_count": 107,
   "metadata": {},
   "outputs": [],
   "source": [
    "class ArbreBin:\n",
    "    \"\"\"Représente un objet arbre binaire\n",
    "    - Propriétés : \n",
    "        * racine : objet de type Noeud désignant la racine de l'arbre\n",
    "    - Méthodes :\n",
    "        * show() : représentation graphique de l'arbre à l'aide de graphviz\n",
    "    \"\"\"\n",
    "    \n",
    "    def __init__(self, racine):\n",
    "        self.racine = racine\n",
    "    \n",
    "    def show(self):\n",
    "        \"\"\"Renvoie un objet graphviz pour la visualisation graphique de l'arbre\"\"\"\n",
    "        def representation(dot, noeud, aretes):\n",
    "            # Ajoute la représentation du noeud à la représentation dot de l'arbre\n",
    "            if noeud is not None:\n",
    "                dot.node(str(id(noeud)), str(noeud.valeur))\n",
    "                # Appel récursif de la fonction representation\n",
    "                if noeud.gauche is not None:\n",
    "                    representation(dot, noeud.gauche, aretes)\n",
    "                    aretes.append((str(id(noeud)) , str(id(noeud.gauche))))\n",
    "                if noeud.droit is not None:\n",
    "                    representation(dot, noeud.droit, aretes)\n",
    "                    aretes.append((str(id(noeud)) , str(id(noeud.droit))))\n",
    "                    \n",
    "        dot = Digraph(comment=\"Arbre binaire\", format='svg')\n",
    "        aretes = []\n",
    "        representation(dot, self.racine, aretes)\n",
    "        dot.edges(aretes)\n",
    "        return dot\n",
    "    \n",
    "    def importer(self, tableau):\n",
    "        \"\"\"Fonction qui importe un arbre depuis un tableau\n",
    "        [\"Noeud\", [S_A_G], [S_A_D]] et où [] désigne un arbre vide\"\"\"\n",
    "        def convertir(tableau):\n",
    "            # Cas particuliers\n",
    "            if tableau == []:\n",
    "                return None\n",
    "            elif len(tableau) == 1:\n",
    "                return Noeud(tableau[0])\n",
    "\n",
    "            else:\n",
    "                nd = Noeud(tableau[0])\n",
    "                nd.gauche = convertir(tableau[1])\n",
    "                if len(tableau) >= 3:\n",
    "                    nd.droit  = convertir(tableau[2])\n",
    "                else:\n",
    "                    nd.droit = None\n",
    "            return nd\n",
    "        \n",
    "        self.racine = convertir(tableau)"
   ]
  },
  {
   "cell_type": "code",
   "execution_count": null,
   "metadata": {},
   "outputs": [],
   "source": [
    "arbre_liste = [\"A\", [\"B\", [\"D\", [], []], []], [\"C\", [], []]]\n",
    "arbre = ArbreBin(None)\n",
    "arbre.importer(arbre_liste)\n",
    "arbre.show()\n",
    "# Exécuter ces lignes pour vérifier le bon fonctionnement"
   ]
  }
 ],
 "metadata": {
  "kernelspec": {
   "display_name": "Python 3",
   "language": "python",
   "name": "python3"
  },
  "language_info": {
   "codemirror_mode": {
    "name": "ipython",
    "version": 3
   },
   "file_extension": ".py",
   "mimetype": "text/x-python",
   "name": "python",
   "nbconvert_exporter": "python",
   "pygments_lexer": "ipython3",
   "version": "3.8.5"
  }
 },
 "nbformat": 4,
 "nbformat_minor": 4
}
