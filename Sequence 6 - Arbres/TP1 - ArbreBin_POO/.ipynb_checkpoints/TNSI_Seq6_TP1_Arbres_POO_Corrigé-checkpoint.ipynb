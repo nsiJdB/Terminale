{
 "cells": [
  {
   "cell_type": "markdown",
   "metadata": {},
   "source": [
    "# TNSI - Séquence N°6 - Structures arborescentes\n",
    "# TP1 - Implémentation objet des arbres binaires"
   ]
  },
  {
   "cell_type": "markdown",
   "metadata": {},
   "source": [
    "<div class=\"alert alert-warning\" role=\"alert\">  \n",
    "    \n",
    "Pour ce TP, nous allons utiliser la bibliothèque graphiviz pour afficher de jolis arbres :) :).\n",
    "    \n",
    "Pour l'installer, voici les manipulations à réaliser :\n",
    "    \n",
    "- Télécharger le fichier suivant : https://www2.graphviz.org/Packages/stable/windows/10/msbuild/Release/Win32/graphviz-2.44.1-win32.zip\n",
    "- Décompréssez-le dans le dossier NSI de vos documents.\n",
    "Nous allons ajouter les éxécutables de ce programme à votre `path`. \n",
    "- Appuyez sur la touche windows et cherchez `variables système`\n",
    "- Cliquez sur variable d'environnement\n",
    "- Dans la première partie `variables utilisateur ` cliquez sur **nouvelle**\n",
    "- nom de la variable `Path` et valeur : le chemin d'accès vers le dossier `/bin` du dossier décompréssé .\n",
    "- Fermez votre session puis rouvrez-la ou redémarrer l'ordinateur. Cela devrait normalement fonctionner.\n",
    "</div>"
   ]
  },
  {
   "cell_type": "markdown",
   "metadata": {},
   "source": [
    "Dans ce TP nous allons implémenter une classe permettant de représenter un arbre binaire. \n",
    "\n",
    "On va pour cela créer un objet **Noeud** qui aura 3 attributs :\n",
    "- La propriété **valeur** contiendra la valeur (ou étiquette) associée au noeud. \n",
    "- Les propriétés **gauche** et **droit** seront les sous arbres gauche et droit. \n",
    "\n",
    "Les deux propriétés **gauche** et **droit** seront  des instances de la classe **Noeud**. Si il n'y a pas de sous arbre gauche ou droit, on indiquera la valeur **None** dans les propriétés correspondantes.\n",
    "\n",
    "\n",
    "Dans notre classe **Noeud**, nous créerons 3 méthodes :\n",
    "- La méthode **est_feuille()** renverra un booléen selon que l'objet est une feuille ou non.\n",
    "- La méthode **cree_fils_gauche()** prend en paramètre une valeur et crée une feuille à gauche dont la valeur est passée en paramètres.  De plus, elle retourne le noeud fils.\n",
    "- La méthode **cree_fils_droite()** est construite sur le même modèle que **cree_feuille_gauche()**. De plus, elle retourne le noeud fils\n",
    "\n",
    "## Exemple d'utilisation de la classe Noeud\n",
    "\n",
    "En supposant la classe **Noeud** créée, voici comment on l'utilise pour créer cet arbre\n",
    "![exemple1](./img/arbre1.png?dl=1)\n",
    "```python\n",
    "arbre = Noeud(\"A\")\n",
    "sous_arbre_gauche = arbre.cree_fils_gauche(\"B\")\n",
    "sous_arbre_gauche.cree_fils_gauche(\"D\")\n",
    "arbre.cree_fils_droit(\"C\")\n",
    "\n",
    "# Quelques vérifications possibles\n",
    "print(arbre.est_feuille())\n",
    "print(arbre.droit.est_feuille())\n",
    "print(arbre.gauche.valeur)\n",
    "# Affiche False True B\n",
    "```"
   ]
  },
  {
   "cell_type": "code",
   "execution_count": null,
   "metadata": {},
   "outputs": [],
   "source": [
    "class Noeud():\n",
    "    \n",
    "    # la méthode __repr__ définit ce qui sera affiché\n",
    "    # lorsqu'on tapera l'objet dans Jupyter ou un terminal\n",
    "    # Ici, on affiche juste la valeur du noeud\n",
    "    \n",
    "    \n",
    "    def __repr__(self):\n",
    "        return str(self.valeur)\n",
    "    \n",
    "    \n",
    "    \n",
    "    # Codez ici les méthodes demandées\n",
    "    # YOUR CODE HERE\n",
    "    raise NotImplementedError()"
   ]
  },
  {
   "cell_type": "code",
   "execution_count": null,
   "metadata": {},
   "outputs": [],
   "source": [
    "# Testez ici les méthodes de votre classe\n",
    "a = Noeud(2)"
   ]
  },
  {
   "cell_type": "code",
   "execution_count": null,
   "metadata": {},
   "outputs": [],
   "source": [
    "# Tester l'exemple de départ\n",
    "\n",
    "racine = Noeud(\"A\")\n",
    "sous_arbre_gauche = racine.cree_fils_gauche(\"B\")\n",
    "sous_arbre_gauche.cree_fils_gauche(\"D\")\n",
    "racine.cree_fils_droit(\"C\")\n",
    "\n",
    "assert not racine.est_feuille()\n",
    "assert racine.droit.est_feuille()\n",
    "assert racine.gauche.valeur == \"B\""
   ]
  },
  {
   "cell_type": "markdown",
   "metadata": {},
   "source": [
    "## Pour aller plus loin\n",
    "\n",
    "On peut compléter cette classe **Noeud** par une nouvelle classe décrivant un objet **Arbrebin**. Un arbre va contenir le **Noeud** racine ainsi que des méthodes permettant l'affichage de l'arbre ou appliquant des algorithmes sur cet arbre.\n",
    "\n",
    "Nous verrons dans un prochain notebook des algorithmes sur cette classe. Néanmoins, pour vous donner un aperçu, voici une première ébauche de la classe **Arbrebin** qui nous sera utile pour visualiser facilement les arbres sur lesquels nous travaillerons."
   ]
  },
  {
   "cell_type": "code",
   "execution_count": null,
   "metadata": {},
   "outputs": [],
   "source": [
    "class Arbrebin:\n",
    "    \"\"\"Représente un objet arbre binaire\n",
    "    - Propriétés : \n",
    "        * racine : objet de type Noeud désignant la racine de l'arbre\n",
    "    - Méthodes :\n",
    "        * show() : représentation graphique de l'arbre à l'aide de graphviz\n",
    "    \"\"\"\n",
    "    \n",
    "    def __init__(self, racine):\n",
    "        self.racine = racine\n",
    "    \n",
    "    def show(self):\n",
    "        \"\"\"Renvoie un objet graphviz pour la visualisation graphique de l'arbre\"\"\"\n",
    "        def representation(dot, noeud, aretes):\n",
    "            # Ajoute la représentation du noeud à la représentation dot de l'arbre\n",
    "            if noeud is not None:\n",
    "                dot.node(str(id(noeud)), str(noeud.valeur))\n",
    "                # Appel récursif de la fonction representation\n",
    "                if noeud.gauche is not None:\n",
    "                    representation(dot, noeud.gauche, aretes)\n",
    "                    aretes.append((str(id(noeud)) , str(id(noeud.gauche))))\n",
    "                if noeud.droit is not None:\n",
    "                    representation(dot, noeud.droit, aretes)\n",
    "                    aretes.append((str(id(noeud)) , str(id(noeud.droit))))\n",
    "                    \n",
    "        dot = Digraph(comment=\"Arbre binaire\", format='svg')\n",
    "        aretes = []\n",
    "        representation(dot, self.racine, aretes)\n",
    "        dot.edges(aretes)\n",
    "        return dot"
   ]
  },
  {
   "cell_type": "code",
   "execution_count": null,
   "metadata": {},
   "outputs": [],
   "source": [
    "arbre = Arbrebin(racine)\n",
    "arbre.show()"
   ]
  },
  {
   "cell_type": "markdown",
   "metadata": {},
   "source": [
    "## A vous de jouer\n",
    "\n",
    "A présent, vous utiliserez la classe **Noeud** et **Arbrebin** et les méthodes que vous avez développées pour représenter l'arbre suivant dans la variable `expr`\n",
    "![expression](./img/expr.png)\n",
    "\n",
    "Les opérations seront représentées par des chaînes de caractères. Les feuilles seront des entiers."
   ]
  },
  {
   "cell_type": "code",
   "execution_count": null,
   "metadata": {},
   "outputs": [],
   "source": [
    "# YOUR CODE HERE\n",
    "raise NotImplementedError()\n",
    "expr = Arbrebin(racine)"
   ]
  },
  {
   "cell_type": "code",
   "execution_count": null,
   "metadata": {},
   "outputs": [],
   "source": [
    "# Validation de la réponse\n",
    "assert racine.valeur == \"+\"\n",
    "assert racine.droit.valeur == 1\n",
    "\n",
    "expr.show()"
   ]
  },
  {
   "cell_type": "code",
   "execution_count": null,
   "metadata": {},
   "outputs": [],
   "source": [
    "# Afficher le sous arbre gauche :\n",
    "Arbrebin(racine.gauche).show()"
   ]
  },
  {
   "cell_type": "code",
   "execution_count": null,
   "metadata": {},
   "outputs": [],
   "source": []
  }
 ],
 "metadata": {
  "kernelspec": {
   "display_name": "Python 3",
   "language": "python",
   "name": "python3"
  },
  "language_info": {
   "codemirror_mode": {
    "name": "ipython",
    "version": 3
   },
   "file_extension": ".py",
   "mimetype": "text/x-python",
   "name": "python",
   "nbconvert_exporter": "python",
   "pygments_lexer": "ipython3",
   "version": "3.8.5"
  }
 },
 "nbformat": 4,
 "nbformat_minor": 4
}
