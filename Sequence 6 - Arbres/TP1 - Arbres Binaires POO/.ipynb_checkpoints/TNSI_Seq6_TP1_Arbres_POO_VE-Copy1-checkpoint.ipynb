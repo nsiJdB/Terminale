{
 "cells": [
  {
   "cell_type": "markdown",
   "metadata": {},
   "source": [
    "# TNSI - Séquence N°6 - Structures arborescentes\n",
    "# TP1 - Implémentation objet des arbres binaires"
   ]
  },
  {
   "cell_type": "markdown",
   "metadata": {},
   "source": [
    "Dans ce TP nous allons implémenter une classe permettant de représenter un arbre binaire. "
   ]
  },
  {
   "cell_type": "markdown",
   "metadata": {},
   "source": [
    "## Partie 1. Implémentation de la classe Noeud"
   ]
  },
  {
   "cell_type": "markdown",
   "metadata": {},
   "source": [
    "On va pour cela créer un objet **Noeud** qui aura 3 attributs :\n",
    "- La propriété **valeur** contiendra la valeur (ou étiquette) associée au noeud. \n",
    "- Les propriétés **gauche** et **droit** seront les sous arbres gauche et droit. \n",
    "\n",
    "Les deux propriétés **gauche** et **droit** seront  des instances de la classe **Noeud**. Si il n'y a pas de sous arbre gauche ou droit, on indiquera la valeur **None** dans les propriétés correspondantes.\n",
    "\n",
    "\n",
    "Dans notre classe **Noeud**, nous créerons 3 méthodes :\n",
    "- La méthode **est_feuille()** renverra un booléen selon que l'objet est une feuille ou non.\n",
    "- La méthode **cree_fils_gauche()** prend en paramètre une valeur et crée une feuille à gauche dont la valeur est passée en paramètres.  De plus, elle retourne le noeud fils.\n",
    "- La méthode **cree_fils_droite()** est construite sur le même modèle que **cree_fils_gauche()**. De plus, elle retourne le noeud fils"
   ]
  },
  {
   "cell_type": "code",
   "execution_count": 94,
   "metadata": {},
   "outputs": [],
   "source": [
    "class Noeud():\n",
    "    \n",
    "    # la méthode __repr__ définit ce qui sera affiché\n",
    "    # lorsqu'on tapera l'objet dans Jupyter ou un terminal\n",
    "    # Ici, on affiche juste la valeur du noeud\n",
    "    \n",
    "    \n",
    "    def __repr__(self):\n",
    "        return str(self.valeur\n",
    "    \n",
    "                   \n",
    "    # Codez ici les méthodes demandées\n",
    "    # YOUR CODE HERE"
   ]
  },
  {
   "cell_type": "code",
   "execution_count": null,
   "metadata": {},
   "outputs": [],
   "source": [
    "# Testez ici les méthodes de votre classe\n",
    "a = Noeud(2)"
   ]
  },
  {
   "cell_type": "markdown",
   "metadata": {},
   "source": [
    "### Exemple d'utilisation de la classe Noeud pour obtenir un arbre binaire"
   ]
  },
  {
   "cell_type": "markdown",
   "metadata": {},
   "source": [
    "On souhaite réaliser l'arbre binaire suivant où `D` est un fils gauche.\n",
    "![exemple1](./img/arbre1.png?dl=1)"
   ]
  },
  {
   "cell_type": "markdown",
   "metadata": {},
   "source": [
    "<div class=\"alert alert-info\">\n",
    "    \n",
    "<strong class='fa fa-cogs' style=\"color: darkorange\"> Exercice 1 </strong>\n",
    "    \n",
    "1. Saisir, dans la cellule ci-dessous, les instructions permettant d'implémenter l'arbre binaire ci-dessus.\n",
    "\n",
    "    Le noeud racine sera un objet que l'on nommera `racine`.\n",
    "    \n",
    "2. Compléter les tests donnés ci-dessous afin de vérifier l'intégralité de l'arbre réalisé.\n",
    "</div>"
   ]
  },
  {
   "cell_type": "code",
   "execution_count": null,
   "metadata": {},
   "outputs": [],
   "source": [
    "# Saisir ici les instructions permettant d'implémenter l'arbre ci-dessus.\n"
   ]
  },
  {
   "cell_type": "code",
   "execution_count": null,
   "metadata": {},
   "outputs": [],
   "source": [
    "# Quelques tests pour vérifier votre travail.\n",
    "\n",
    "assert racine.valeur == \"A\"\n",
    "assert not racine.est_feuille()\n",
    "assert racine.droit.est_feuille()\n",
    "assert racine.gauche.valeur == \"B\""
   ]
  },
  {
   "cell_type": "markdown",
   "metadata": {},
   "source": [
    "## Partie 2. Pour avoir un joli affichage de l'arbre et exemple"
   ]
  },
  {
   "cell_type": "markdown",
   "metadata": {},
   "source": [
    "### a) Présentation de l'affichage avec graphviz"
   ]
  },
  {
   "cell_type": "markdown",
   "metadata": {},
   "source": [
    "<div class=\"alert alert-warning\" role=\"alert\">  \n",
    "    \n",
    "Pour ce TP, nous allons utiliser la bibliothèque graphviz pour afficher de jolis arbres :) :).\n",
    "    \n",
    "Pour l'installer, voici les manipulations à réaliser :\n",
    "    \n",
    "- Télécharger le fichier suivant : https://www2.graphviz.org/Packages/stable/windows/10/msbuild/Release/Win32/graphviz-2.44.1-win32.zip\n",
    "- Décompréssez-le dans le dossier NSI de vos documents.\n",
    "Nous allons ajouter les éxécutables de ce programme à votre `path`. \n",
    "- Appuyez sur la touche windows et cherchez `variables système`\n",
    "- Cliquez sur variable d'environnement\n",
    "- Dans la première partie `variables utilisateur ` cliquez sur **nouvelle**\n",
    "- nom de la variable `Path` et valeur : le chemin d'accès vers le dossier `/bin` du dossier décompréssé .\n",
    "- Fermez votre session puis rouvrez-la ou redémarrer l'ordinateur. Cela devrait normalement fonctionner.\n",
    "</div>"
   ]
  },
  {
   "cell_type": "code",
   "execution_count": null,
   "metadata": {},
   "outputs": [],
   "source": [
    "# Validez cette cellule pour importer graphviz\n",
    "# Ce module permet de dessiner des arbres et des graphes\n",
    "from graphviz import Digraph"
   ]
  },
  {
   "cell_type": "markdown",
   "metadata": {},
   "source": [
    "On peut compléter cette classe **Noeud** par une nouvelle classe décrivant un objet **ArbreBin**. Un arbre va contenir le **Noeud** racine ainsi que des méthodes permettant l'affichage de l'arbre ou appliquant des algorithmes sur cet arbre.\n",
    "\n",
    "Nous verrons dans un prochain notebook des algorithmes sur cette classe. Néanmoins, pour vous donner un aperçu, voici une première ébauche de la classe **ArbreBin** qui nous sera utile pour visualiser facilement les arbres sur lesquels nous travaillerons."
   ]
  },
  {
   "cell_type": "code",
   "execution_count": null,
   "metadata": {},
   "outputs": [],
   "source": [
    "class ArbreBin:\n",
    "    \"\"\"Représente un objet arbre binaire\n",
    "    - Propriétés : \n",
    "        * racine : objet de type Noeud désignant la racine de l'arbre\n",
    "    - Méthodes :\n",
    "        * show() : représentation graphique de l'arbre à l'aide de graphviz\n",
    "    \"\"\"\n",
    "    \n",
    "    def __init__(self, racine):\n",
    "        self.racine = racine\n",
    "    \n",
    "    def show(self):\n",
    "        \"\"\"Renvoie un objet graphviz pour la visualisation graphique de l'arbre\"\"\"\n",
    "        def representation(dot, noeud, aretes):\n",
    "            # Ajoute la représentation du noeud à la représentation dot de l'arbre\n",
    "            if noeud is not None:\n",
    "                dot.node(str(id(noeud)), str(noeud.valeur))\n",
    "                # Appel récursif de la fonction representation\n",
    "                if noeud.gauche is not None:\n",
    "                    representation(dot, noeud.gauche, aretes)\n",
    "                    aretes.append((str(id(noeud)) , str(id(noeud.gauche))))\n",
    "                if noeud.droit is not None:\n",
    "                    representation(dot, noeud.droit, aretes)\n",
    "                    aretes.append((str(id(noeud)) , str(id(noeud.droit))))\n",
    "                    \n",
    "        dot = Digraph(comment=\"Arbre binaire\", format='svg')\n",
    "        aretes = []\n",
    "        representation(dot, self.racine, aretes)\n",
    "        dot.edges(aretes)\n",
    "        return dot"
   ]
  },
  {
   "cell_type": "markdown",
   "metadata": {},
   "source": [
    "Voici ci-dessous un exemple d'utilisation avec l'arbre vu dans la partie précédente."
   ]
  },
  {
   "cell_type": "code",
   "execution_count": null,
   "metadata": {},
   "outputs": [],
   "source": [
    "racine = Noeud(\"A\")\n",
    "sous_arbre_gauche = racine.cree_fils_gauche(\"B\")\n",
    "sous_arbre_gauche.cree_fils_gauche(\"D\")\n",
    "arbre.cree_fils_droit(\"C\")\n",
    "\n",
    "arbre = ArbreBin(racine)\n",
    "arbre.show()"
   ]
  },
  {
   "cell_type": "markdown",
   "metadata": {},
   "source": [
    "### b) Exercice de synthèse"
   ]
  },
  {
   "cell_type": "markdown",
   "metadata": {},
   "source": [
    "<div class=\"alert alert-info\">\n",
    "    \n",
    "<strong class='fa fa-cogs' style=\"color: darkorange\"> Exercice 2 </strong>\n",
    "    \n",
    "Utiliser la classe **Noeud** et **Arbrebin** et les méthodes que vous avez développées pour représenter l'arbre suivant dans la variable `expr`.\n",
    "    \n",
    "Les opérations seront représentées par des chaînes de caractères. Les feuilles seront des entiers.\n",
    "</div>"
   ]
  },
  {
   "cell_type": "markdown",
   "metadata": {},
   "source": [
    "![expression](./img/expr.png)"
   ]
  },
  {
   "cell_type": "code",
   "execution_count": 90,
   "metadata": {},
   "outputs": [],
   "source": [
    "# Saisir ici les instructions pour créer l'arbre\n",
    "\n",
    "expr = ArbreBin(racine)"
   ]
  },
  {
   "cell_type": "code",
   "execution_count": null,
   "metadata": {},
   "outputs": [],
   "source": [
    "# Validation de la réponse et affichage de l'arbre\n",
    "assert racine.valeur == \"+\"\n",
    "assert racine.droit.valeur == 1\n",
    "\n",
    "# Saisir ci-dessous l'instruction pour générer l'affichage de l'arbre.\n"
   ]
  },
  {
   "cell_type": "markdown",
   "metadata": {},
   "source": [
    "**Question supplémentaire :** Compléter la cellule ci-dessous avec l'instruction permettant d'afficher le sous arbre gauche.  "
   ]
  },
  {
   "cell_type": "code",
   "execution_count": null,
   "metadata": {},
   "outputs": [],
   "source": [
    "# Afficher le sous arbre gauche :\n"
   ]
  },
  {
   "cell_type": "markdown",
   "metadata": {},
   "source": [
    "## Partie 3. Pour les plus rapides\n",
    "## Passer d'une implémentation avec des listes à une implémentation Objet"
   ]
  },
  {
   "cell_type": "markdown",
   "metadata": {},
   "source": [
    "On souhaite réaliser pouvoir une fonction qui convertit un arbre binaire défini par des listes Python en implémentation orientée objet en utilisant la classe `Noeud`.\n",
    "\n",
    "Par exemple, si on définit un arbre de la façon suivant : \n",
    "\n",
    "`arbre = [\"A\", [\"B\", [\"D\", [], []], []], [\"C\", [], []]]`.\n",
    "\n",
    "La fonction recherchée devra créer l'objet `arbre` défini en POO de la façon suivante :\n",
    "\n",
    "```Python\n",
    "    arbre = Noeud(\"A\")\n",
    "    arbre.gauche = Noeud(\"B\")\n",
    "    arbre.droite = Noeud(\"C\")\n",
    "    arbre.gauche.gauche = Noeud(\"D\") \n",
    "```\n",
    "\n",
    "\n"
   ]
  },
  {
   "cell_type": "markdown",
   "metadata": {},
   "source": [
    "<div class=\"alert alert-info\">\n",
    "    \n",
    "<strong class='fa fa-cogs' style=\"color: darkorange\"> Exercice 3 </strong>\n",
    "    \n",
    "Ècrire le code d'une fonction `convertir` qui reçoit en paramètre un tableau modélisant un arbre binaire et qui renvoie un objet, instanciation de la classe `Noeud`, qui correspondant à une implémentation en POO de l'arbre binaire passé en paramètre.\n",
    "</div>"
   ]
  },
  {
   "cell_type": "code",
   "execution_count": 102,
   "metadata": {},
   "outputs": [],
   "source": [
    "\n",
    "def convertir(tableau):\n",
    "    # Cas particuliers\n",
    "    if tableau == []:\n",
    "        return None\n",
    "    elif len(tableau) == 1:\n",
    "        return Noeud(tableau[0])\n",
    "    else:\n",
    "        nd = Noeud(tableau[0])\n",
    "        nd.gauche = convertir(tableau[1])\n",
    "        if len(tableau) >= 3:\n",
    "            nd.droit  = convertir(tableau[2])\n",
    "        else:\n",
    "            nd.droit = None\n",
    "        return nd"
   ]
  },
  {
   "cell_type": "code",
   "execution_count": 105,
   "metadata": {},
   "outputs": [],
   "source": [
    "# Tester votre code ici avec l'arbre donné précédemment.\n",
    "arbre_liste = [\"A\", [\"B\", [\"D\", [], []], []], [\"C\", [], []]]\n",
    "\n",
    "a = convertir(arbre_liste)\n",
    "arbre = ArbreBin(a)\n",
    "# à toi de compléter :)"
   ]
  },
  {
   "cell_type": "code",
   "execution_count": 106,
   "metadata": {},
   "outputs": [
    {
     "data": {
      "image/svg+xml": [
       "<?xml version=\"1.0\" encoding=\"UTF-8\" standalone=\"no\"?>\n",
       "<!DOCTYPE svg PUBLIC \"-//W3C//DTD SVG 1.1//EN\"\n",
       " \"http://www.w3.org/Graphics/SVG/1.1/DTD/svg11.dtd\">\n",
       "<!-- Generated by graphviz version 2.44.1 (20200629.0846)\n",
       " -->\n",
       "<!-- Pages: 1 -->\n",
       "<svg width=\"134pt\" height=\"188pt\"\n",
       " viewBox=\"0.00 0.00 134.00 188.00\" xmlns=\"http://www.w3.org/2000/svg\" xmlns:xlink=\"http://www.w3.org/1999/xlink\">\n",
       "<g id=\"graph0\" class=\"graph\" transform=\"scale(1 1) rotate(0) translate(4 184)\">\n",
       "<polygon fill=\"white\" stroke=\"transparent\" points=\"-4,4 -4,-184 130,-184 130,4 -4,4\"/>\n",
       "<!-- 140550135814848 -->\n",
       "<g id=\"node1\" class=\"node\">\n",
       "<title>140550135814848</title>\n",
       "<ellipse fill=\"none\" stroke=\"black\" cx=\"63\" cy=\"-162\" rx=\"27\" ry=\"18\"/>\n",
       "<text text-anchor=\"middle\" x=\"63\" y=\"-158.3\" font-family=\"Times,serif\" font-size=\"14.00\">A</text>\n",
       "</g>\n",
       "<!-- 140550135815712 -->\n",
       "<g id=\"node2\" class=\"node\">\n",
       "<title>140550135815712</title>\n",
       "<ellipse fill=\"none\" stroke=\"black\" cx=\"27\" cy=\"-90\" rx=\"27\" ry=\"18\"/>\n",
       "<text text-anchor=\"middle\" x=\"27\" y=\"-86.3\" font-family=\"Times,serif\" font-size=\"14.00\">B</text>\n",
       "</g>\n",
       "<!-- 140550135814848&#45;&gt;140550135815712 -->\n",
       "<g id=\"edge2\" class=\"edge\">\n",
       "<title>140550135814848&#45;&gt;140550135815712</title>\n",
       "<path fill=\"none\" stroke=\"black\" d=\"M54.65,-144.76C50.29,-136.28 44.85,-125.71 39.96,-116.2\"/>\n",
       "<polygon fill=\"black\" stroke=\"black\" points=\"42.99,-114.44 35.3,-107.15 36.77,-117.64 42.99,-114.44\"/>\n",
       "</g>\n",
       "<!-- 140550135700064 -->\n",
       "<g id=\"node4\" class=\"node\">\n",
       "<title>140550135700064</title>\n",
       "<ellipse fill=\"none\" stroke=\"black\" cx=\"99\" cy=\"-90\" rx=\"27\" ry=\"18\"/>\n",
       "<text text-anchor=\"middle\" x=\"99\" y=\"-86.3\" font-family=\"Times,serif\" font-size=\"14.00\">C</text>\n",
       "</g>\n",
       "<!-- 140550135814848&#45;&gt;140550135700064 -->\n",
       "<g id=\"edge3\" class=\"edge\">\n",
       "<title>140550135814848&#45;&gt;140550135700064</title>\n",
       "<path fill=\"none\" stroke=\"black\" d=\"M71.35,-144.76C75.71,-136.28 81.15,-125.71 86.04,-116.2\"/>\n",
       "<polygon fill=\"black\" stroke=\"black\" points=\"89.23,-117.64 90.7,-107.15 83.01,-114.44 89.23,-117.64\"/>\n",
       "</g>\n",
       "<!-- 140550135812592 -->\n",
       "<g id=\"node3\" class=\"node\">\n",
       "<title>140550135812592</title>\n",
       "<ellipse fill=\"none\" stroke=\"black\" cx=\"27\" cy=\"-18\" rx=\"27\" ry=\"18\"/>\n",
       "<text text-anchor=\"middle\" x=\"27\" y=\"-14.3\" font-family=\"Times,serif\" font-size=\"14.00\">D</text>\n",
       "</g>\n",
       "<!-- 140550135815712&#45;&gt;140550135812592 -->\n",
       "<g id=\"edge1\" class=\"edge\">\n",
       "<title>140550135815712&#45;&gt;140550135812592</title>\n",
       "<path fill=\"none\" stroke=\"black\" d=\"M27,-71.7C27,-63.98 27,-54.71 27,-46.11\"/>\n",
       "<polygon fill=\"black\" stroke=\"black\" points=\"30.5,-46.1 27,-36.1 23.5,-46.1 30.5,-46.1\"/>\n",
       "</g>\n",
       "</g>\n",
       "</svg>\n"
      ],
      "text/plain": [
       "<graphviz.dot.Digraph at 0x7fd460e82910>"
      ]
     },
     "execution_count": 106,
     "metadata": {},
     "output_type": "execute_result"
    }
   ],
   "source": [
    "# à exécuter pour vérifier le bon fonctionnement.\n",
    "\n",
    "arbre.show()"
   ]
  },
  {
   "cell_type": "markdown",
   "metadata": {},
   "source": [
    "### Pour aller plus loin"
   ]
  },
  {
   "cell_type": "markdown",
   "metadata": {},
   "source": [
    "On peut aussi intégrer cette fonction parmi les méthodes de la classe `ArbreBin` de la fonction suivante :"
   ]
  },
  {
   "cell_type": "code",
   "execution_count": 107,
   "metadata": {},
   "outputs": [],
   "source": [
    "class ArbreBin:\n",
    "    \"\"\"Représente un objet arbre binaire\n",
    "    - Propriétés : \n",
    "        * racine : objet de type Noeud désignant la racine de l'arbre\n",
    "    - Méthodes :\n",
    "        * show() : représentation graphique de l'arbre à l'aide de graphviz\n",
    "    \"\"\"\n",
    "    \n",
    "    def __init__(self, racine):\n",
    "        self.racine = racine\n",
    "    \n",
    "    def show(self):\n",
    "        \"\"\"Renvoie un objet graphviz pour la visualisation graphique de l'arbre\"\"\"\n",
    "        def representation(dot, noeud, aretes):\n",
    "            # Ajoute la représentation du noeud à la représentation dot de l'arbre\n",
    "            if noeud is not None:\n",
    "                dot.node(str(id(noeud)), str(noeud.valeur))\n",
    "                # Appel récursif de la fonction representation\n",
    "                if noeud.gauche is not None:\n",
    "                    representation(dot, noeud.gauche, aretes)\n",
    "                    aretes.append((str(id(noeud)) , str(id(noeud.gauche))))\n",
    "                if noeud.droit is not None:\n",
    "                    representation(dot, noeud.droit, aretes)\n",
    "                    aretes.append((str(id(noeud)) , str(id(noeud.droit))))\n",
    "                    \n",
    "        dot = Digraph(comment=\"Arbre binaire\", format='svg')\n",
    "        aretes = []\n",
    "        representation(dot, self.racine, aretes)\n",
    "        dot.edges(aretes)\n",
    "        return dot\n",
    "    \n",
    "    def importe(self, tableau):\n",
    "        \"\"\"Fonction qui importe un arbre depuis un tableau\n",
    "        [\"Noeud\", [S_A_G], [S_A_D]] et où [] désigne un arbre vide\"\"\"\n",
    "        def convertir(tableau):\n",
    "            # Cas particuliers\n",
    "            if tableau == []:\n",
    "                return None\n",
    "            elif len(tableau) == 1:\n",
    "                return Noeud(tableau[0])\n",
    "\n",
    "            else:\n",
    "                nd = Noeud(tableau[0])\n",
    "                nd.gauche = convertir(tableau[1])\n",
    "                if len(tableau) >= 3:\n",
    "                    nd.droit  = convertir(tableau[2])\n",
    "                else:\n",
    "                    nd.droit = None\n",
    "            return nd\n",
    "        \n",
    "        self.racine = convertir(tableau)"
   ]
  },
  {
   "cell_type": "code",
   "execution_count": 108,
   "metadata": {},
   "outputs": [
    {
     "data": {
      "image/svg+xml": [
       "<?xml version=\"1.0\" encoding=\"UTF-8\" standalone=\"no\"?>\n",
       "<!DOCTYPE svg PUBLIC \"-//W3C//DTD SVG 1.1//EN\"\n",
       " \"http://www.w3.org/Graphics/SVG/1.1/DTD/svg11.dtd\">\n",
       "<!-- Generated by graphviz version 2.44.1 (20200629.0846)\n",
       " -->\n",
       "<!-- Pages: 1 -->\n",
       "<svg width=\"134pt\" height=\"188pt\"\n",
       " viewBox=\"0.00 0.00 134.00 188.00\" xmlns=\"http://www.w3.org/2000/svg\" xmlns:xlink=\"http://www.w3.org/1999/xlink\">\n",
       "<g id=\"graph0\" class=\"graph\" transform=\"scale(1 1) rotate(0) translate(4 184)\">\n",
       "<polygon fill=\"white\" stroke=\"transparent\" points=\"-4,4 -4,-184 130,-184 130,4 -4,4\"/>\n",
       "<!-- 140550135921440 -->\n",
       "<g id=\"node1\" class=\"node\">\n",
       "<title>140550135921440</title>\n",
       "<ellipse fill=\"none\" stroke=\"black\" cx=\"63\" cy=\"-162\" rx=\"27\" ry=\"18\"/>\n",
       "<text text-anchor=\"middle\" x=\"63\" y=\"-158.3\" font-family=\"Times,serif\" font-size=\"14.00\">A</text>\n",
       "</g>\n",
       "<!-- 140550135922208 -->\n",
       "<g id=\"node2\" class=\"node\">\n",
       "<title>140550135922208</title>\n",
       "<ellipse fill=\"none\" stroke=\"black\" cx=\"27\" cy=\"-90\" rx=\"27\" ry=\"18\"/>\n",
       "<text text-anchor=\"middle\" x=\"27\" y=\"-86.3\" font-family=\"Times,serif\" font-size=\"14.00\">B</text>\n",
       "</g>\n",
       "<!-- 140550135921440&#45;&gt;140550135922208 -->\n",
       "<g id=\"edge2\" class=\"edge\">\n",
       "<title>140550135921440&#45;&gt;140550135922208</title>\n",
       "<path fill=\"none\" stroke=\"black\" d=\"M54.65,-144.76C50.29,-136.28 44.85,-125.71 39.96,-116.2\"/>\n",
       "<polygon fill=\"black\" stroke=\"black\" points=\"42.99,-114.44 35.3,-107.15 36.77,-117.64 42.99,-114.44\"/>\n",
       "</g>\n",
       "<!-- 140550135842656 -->\n",
       "<g id=\"node4\" class=\"node\">\n",
       "<title>140550135842656</title>\n",
       "<ellipse fill=\"none\" stroke=\"black\" cx=\"99\" cy=\"-90\" rx=\"27\" ry=\"18\"/>\n",
       "<text text-anchor=\"middle\" x=\"99\" y=\"-86.3\" font-family=\"Times,serif\" font-size=\"14.00\">C</text>\n",
       "</g>\n",
       "<!-- 140550135921440&#45;&gt;140550135842656 -->\n",
       "<g id=\"edge3\" class=\"edge\">\n",
       "<title>140550135921440&#45;&gt;140550135842656</title>\n",
       "<path fill=\"none\" stroke=\"black\" d=\"M71.35,-144.76C75.71,-136.28 81.15,-125.71 86.04,-116.2\"/>\n",
       "<polygon fill=\"black\" stroke=\"black\" points=\"89.23,-117.64 90.7,-107.15 83.01,-114.44 89.23,-117.64\"/>\n",
       "</g>\n",
       "<!-- 140550135920672 -->\n",
       "<g id=\"node3\" class=\"node\">\n",
       "<title>140550135920672</title>\n",
       "<ellipse fill=\"none\" stroke=\"black\" cx=\"27\" cy=\"-18\" rx=\"27\" ry=\"18\"/>\n",
       "<text text-anchor=\"middle\" x=\"27\" y=\"-14.3\" font-family=\"Times,serif\" font-size=\"14.00\">D</text>\n",
       "</g>\n",
       "<!-- 140550135922208&#45;&gt;140550135920672 -->\n",
       "<g id=\"edge1\" class=\"edge\">\n",
       "<title>140550135922208&#45;&gt;140550135920672</title>\n",
       "<path fill=\"none\" stroke=\"black\" d=\"M27,-71.7C27,-63.98 27,-54.71 27,-46.11\"/>\n",
       "<polygon fill=\"black\" stroke=\"black\" points=\"30.5,-46.1 27,-36.1 23.5,-46.1 30.5,-46.1\"/>\n",
       "</g>\n",
       "</g>\n",
       "</svg>\n"
      ],
      "text/plain": [
       "<graphviz.dot.Digraph at 0x7fd460ecbac0>"
      ]
     },
     "execution_count": 108,
     "metadata": {},
     "output_type": "execute_result"
    }
   ],
   "source": [
    "arbre_liste = [\"A\", [\"B\", [\"D\", [], []], []], [\"C\", [], []]]\n",
    "arbre = ArbreBin(None)\n",
    "arbre.importe(arbre_liste)\n",
    "arbre.show()\n",
    "# Exécuter ces lignes pour vérifier le bon fonctionnement"
   ]
  },
  {
   "cell_type": "code",
   "execution_count": null,
   "metadata": {},
   "outputs": [],
   "source": []
  }
 ],
 "metadata": {
  "kernelspec": {
   "display_name": "Python 3",
   "language": "python",
   "name": "python3"
  },
  "language_info": {
   "codemirror_mode": {
    "name": "ipython",
    "version": 3
   },
   "file_extension": ".py",
   "mimetype": "text/x-python",
   "name": "python",
   "nbconvert_exporter": "python",
   "pygments_lexer": "ipython3",
   "version": "3.8.5"
  }
 },
 "nbformat": 4,
 "nbformat_minor": 4
}
