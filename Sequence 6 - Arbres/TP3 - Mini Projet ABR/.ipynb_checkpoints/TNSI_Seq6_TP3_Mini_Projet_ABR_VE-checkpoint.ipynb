{
 "cells": [
  {
   "cell_type": "markdown",
   "metadata": {},
   "source": [
    "# TNSI - Séquence N°6 - Structures arborescentes\n",
    "# TP N°3 - Utilisation des ABR pour exploiter des données"
   ]
  },
  {
   "cell_type": "markdown",
   "metadata": {},
   "source": [
    "<div class=\"alert alert-warning\" role=\"alert\">  \n",
    "    \n",
    "**Objectif :**  Utiliser les algorithmes sur les ABR pour répondre à un problème\n",
    "</div>"
   ]
  },
  {
   "cell_type": "markdown",
   "metadata": {},
   "source": [
    "### 1. Définition d'une classe Ville"
   ]
  },
  {
   "cell_type": "markdown",
   "metadata": {},
   "source": [
    "Dans ce TP, nous allons utiliser le fichier `villes.csv` qui contient la liste des 36700 villes de France.\n",
    "\n",
    "Chaque ligne de ce fichier contient les 5 informations suivantes :\n",
    "- Numéro du département.\n",
    "- Nom de la ville.\n",
    "- Nombre d'habitant en 2010\n",
    "- Superficie (en km²)\n",
    "- Longitude\n",
    "- Latitude\n",
    "\n",
    "\n",
    "Voici à quoi ressemblent les deux premières lignes de ce fichier :\n",
    "\n",
    "`1,Ozan,618,6.6,4.91667,46.3833`    \n",
    "`1,Cormoranche-sur-Saône,1058,9.85,4.83333,46.2333`"
   ]
  },
  {
   "cell_type": "markdown",
   "metadata": {},
   "source": [
    "<div class=\"alert alert-info\">\n",
    "    \n",
    "<strong class='fa fa-cogs' style=\"color: darkorange\"> Exercice 1 </strong>\n",
    "    \n",
    "Compléter la classe ville\n",
    "1. Compléter les définitions des attributs dans le constructeur de Classe. Le numéro du département sera défini comme une chaine de caractère pour la Corse.\n",
    "2. Écrire une méthode `afficher_nom(self)`, qui affiche le nom de la ville.\n",
    "3. Écrire une méthode `get_superficie(self)`, qui renvoie la superficie de la ville.\n",
    "4. Écrire une méthode `__str__(self)`, qui affiche les 6 données de la ville.\n",
    "5. Écrire une méthode `get_position(self)`, qui renvoie le tuple : (Longitude,Latitude) de la ville.\n",
    "6. Écrire une méthode `get_population(self)`, qui renvoie le tuple : (Longitude,Latitude) de la ville.\n",
    "7. Pour finir, tester ces méthodes.\n",
    "</div>"
   ]
  },
  {
   "cell_type": "code",
   "execution_count": null,
   "metadata": {},
   "outputs": [],
   "source": [
    "class Ville :\n",
    "    \"\"\"classe définissant une ville de France.\n",
    "    Chaque ville a 6 attributs :\n",
    "        - numero de departement\n",
    "        - nom        \n",
    "        - population (hab)\n",
    "        - superficie (km^2)\n",
    "        - Longitude\n",
    "        - Latitude\"\"\"\n",
    "\n",
    "    def __init__(self,liste) :\n",
    "        \"\"\"\n",
    "        liste est une liste contenant les 5 informations de la ville à instancier.\n",
    "        \"\"\"\n",
    "        self.dept = # A compléter\n",
    "        self.nom = # A compléter\n",
    "        self.population = # A compléter\n",
    "        self.superficie = # A compléter\n",
    "        self.longitude = # A compléter\n",
    "        self.latitude = # A compléter\n",
    "        \n",
    "    def afficher_nom(self):\n",
    "        raise NotImplementedError()\n",
    "    \n",
    "    def get_superficie(self):\n",
    "        raise NotImplementedError()\n",
    "    \n",
    "    def get_population(self):\n",
    "        raise NotImplementedError()\n",
    "    \n",
    "    def __str__(self):\n",
    "        raise NotImplementedError()\n",
    "        \n",
    "    def get_position(self):\n",
    "        raise NotImplementedError()\n",
    "    \n",
    "\n",
    "# création d'un objet:\n",
    "liste = [\"28\",\"Chartres\",\"38931\",\"16.85\",\"1.5\",\"48.45\"]\n",
    "# A compléter\n",
    "\n",
    "# tests\n",
    "# A compléter"
   ]
  },
  {
   "cell_type": "markdown",
   "metadata": {},
   "source": [
    "### 2. Création de l'arbre binaire de recherche"
   ]
  },
  {
   "cell_type": "markdown",
   "metadata": {},
   "source": [
    "Voilà la classe `Noeud` que nous allons utiliser :"
   ]
  },
  {
   "cell_type": "code",
   "execution_count": 4,
   "metadata": {},
   "outputs": [],
   "source": [
    "class Noeud:\n",
    "    # Le constructeur\n",
    "    def __init__(self, liste, gauche=None, droit=None):\n",
    "        self.ville = Ville(liste)\n",
    "        self.gauche = gauche\n",
    "        self.droit = droit\n",
    "\n",
    "    def __str__(self): \n",
    "        return str(self.ville.afficherVille())"
   ]
  },
  {
   "cell_type": "markdown",
   "metadata": {},
   "source": [
    "<div class=\"alert alert-info\">\n",
    "    \n",
    "<strong class='fa fa-cogs' style=\"color: darkorange\"> Exercice 2 </strong>\n",
    "    \n",
    "Quelle instruction utiliser pour créer un arbre dont la racine serait la ville de Chartres.\n",
    "</div>"
   ]
  },
  {
   "cell_type": "code",
   "execution_count": null,
   "metadata": {},
   "outputs": [],
   "source": [
    "# A compléter\n"
   ]
  },
  {
   "cell_type": "markdown",
   "metadata": {},
   "source": [
    "#### a) Création d'un arbre binaire de recherche sur la taille des villes\n",
    "\n",
    "Notre objectif est de faire un arbre de recherche qui permettra de trier les villes en fonction de leur nombre d'habitant."
   ]
  },
  {
   "cell_type": "markdown",
   "metadata": {},
   "source": [
    "<div class=\"alert alert-info\">\n",
    "    \n",
    "<strong class='fa fa-cogs' style=\"color: darkorange\"> Exercice 3 </strong>\n",
    "    \n",
    "Rajouter la méthode `inserer(self,liste)` qui insèrera une ville `liste` dans l'arbre binaire de recherche `self` constitué des villes. Chaque insertion devra insérer une ville sous forme de liste de façon à ce que la ville de population inférieure soit placée à gauche dans l'arbre.\n",
    "</div>"
   ]
  },
  {
   "cell_type": "code",
   "execution_count": null,
   "metadata": {},
   "outputs": [],
   "source": [
    "class Noeud:\n",
    "    # Le constructeur\n",
    "    def __init__(self, liste, gauche=None, droit=None):\n",
    "        self.ville = Ville(liste)\n",
    "        self.gauche = gauche\n",
    "        self.droit = droit\n",
    "\n",
    "    def __str__(self): \n",
    "        return str(self.ville)\n",
    "\n",
    "    def estFeuille(self):\n",
    "        if not self.gauche and not self.droit:\n",
    "            return True\n",
    "        else:\n",
    "            return False\n",
    "        \n",
    "    def inserer(self, liste):\n",
    "        raise NotImplementedError()"
   ]
  }
 ],
 "metadata": {
  "kernelspec": {
   "display_name": "Python 3",
   "language": "python",
   "name": "python3"
  },
  "language_info": {
   "codemirror_mode": {
    "name": "ipython",
    "version": 3
   },
   "file_extension": ".py",
   "mimetype": "text/x-python",
   "name": "python",
   "nbconvert_exporter": "python",
   "pygments_lexer": "ipython3",
   "version": "3.8.5"
  }
 },
 "nbformat": 4,
 "nbformat_minor": 4
}
