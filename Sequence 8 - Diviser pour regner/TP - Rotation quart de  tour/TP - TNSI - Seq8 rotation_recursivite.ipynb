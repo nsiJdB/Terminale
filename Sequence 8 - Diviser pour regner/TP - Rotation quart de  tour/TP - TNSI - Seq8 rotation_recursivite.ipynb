{
 "cells": [
  {
   "cell_type": "markdown",
   "metadata": {},
   "source": [
    "# TNSI - Séquence N°8\n",
    "# Diviser pour régner\n",
    "\n",
    "# Rotation d'un quart de tour d'une image"
   ]
  },
  {
   "cell_type": "markdown",
   "metadata": {},
   "source": [
    "Une image est un tableau à 2 dimensions composé de *pixels*. Un *pixel* est, dans le codage **RGB**, un triplet d'entiers compris entre 0 et 255.  \n",
    "Les nombres correspondent à l'intensité respectives du rouge *red* , du vert *green* et du bleu *blue*.  \n",
    "Exemples :\n",
    "- un pixel de valeur `[0,0,0]` est noir\n",
    "- un pixel de valeur `[255,255,255]` est blanc\n",
    "- un pixel de valeur `[255,0,0]` est rouge\n",
    "- un pixel de valeur `[0,255,0]` est rouge\n",
    "- un pixel de valeur `[255,0,255]` est violet\n",
    "- un pixel de valeur `[0,0,155]` est bleu foncé"
   ]
  },
  {
   "cell_type": "markdown",
   "metadata": {},
   "source": [
    "## Le module PIL\n",
    "\n",
    "Nous utiliserons le module `PIL` (Python Image Library) qui permet de gérer les images facilement. \n",
    "Pour installer le module `PIL`, commencer par un `pip install PILLOW`.\n",
    "\n",
    "La partie qui nous interesse peut être importée par le code :\n",
    "`from PIL import Image`  \n",
    "\n",
    "* On ouvre une image à l'aide de `img = Image.open(nom_du_fichier)` le nom du fichier sera une chaîne de caractère et le fichier sera placé dans le même dossier que le notebook.\n",
    "\n",
    "* Les dimensions de l'image affectée à la variable `img` peuvent être récupérée par `img.size` (on récupère ainsi l'*attribut* `size` de l'objet Image). C'est un tuple.\n",
    "\n",
    "* La valeur du pixel d'abscisse $x$ et d'ordonnée $y$ peut être récupérée par  la méthode `getpixel(x,y)`  \n",
    "Dans l'exemple suivant `img.getpixel(2,15)` on récupère la valeur du pixel de coordonnées $(2,15)$\n",
    "\n",
    "On précise que la première coordonnée corespond à l'abscisse et la seconde à l'ordonnée, l'origine du repère étant en haut à gauche de l'image, les axes allant vers la droite et le bas.\n",
    "![Axes des images](pixels.png)\n",
    "\n",
    "* On peut affecter le triplet `(r,g,b)` au pixel de coordonnées `(x,y)` à l'aide de :\n",
    "`img.putpixel((x,y),(r,g,b))`\n",
    "\n",
    "* L'image peut être sauvegardée à l'aide de la méthode `save` : `img.save(nom_du_fichier)`.<br/>\n",
    "Par exemple : `img.save(\"ma_nouvelle_image.jpg\")`\n",
    "\n",
    "* Elle peut être affichée à l'aide de `img.show()`\n",
    "\n",
    "* Enfin, une nouvelle image (noire par défaut et qui sera modifiée par la suite) peut être créée à l'aide de <br/>\n",
    "`nouvelle_image = Image.new(\"RGB\", (largeur,hauteur))`"
   ]
  },
  {
   "cell_type": "markdown",
   "metadata": {},
   "source": [
    "## Partie A : Algorithme simple de rotation d'un quart de tour."
   ]
  },
  {
   "cell_type": "markdown",
   "metadata": {},
   "source": [
    "<div class=\"alert alert-info\">\n",
    "    \n",
    "<strong class='fa fa-cogs' style=\"color: darkorange\"> Question 1 </strong>\n",
    "    \n",
    "1. Ouvrir l'image de la joconde.\n",
    "2. Afficher les dimensions de cette image.\n",
    "3. Créer un nouvelle image, de mêmes dimensions, qui sera noire au début. Elle servira à stocker l'image obtenue par rotation.\n",
    "4. Pour une image carrée de taille $n \\times n$, l'image obtenue par rotation d'un quart de tour dans le sens des aiguilles d'une montre a pour pixel $(x,y)$ le pixel initialement en $(y,n-1-x)$.  \n",
    "    \n",
    "    a) Sur une feuille représenter un tableau de taille $5 \\times 5$ et considérer le pixel $(1,2)$.\n",
    "    Déterminer la position du pixel dont le pixel $(1,2)$ est l'image par la rotation décrite précédemment. Vérifier que graphiquement que cela est bien le cas.\n",
    "    \n",
    "    b) Ecrire une suite d'instructions qui stocke dans la nouvelle image celle obtenue par rotation de la joconde.  \n",
    "    Enregistrez l'image dans le fichier `joconde_2.jpg`\n",
    "\n",
    "\n",
    "\n",
    "</div>"
   ]
  },
  {
   "cell_type": "code",
   "execution_count": 5,
   "metadata": {},
   "outputs": [],
   "source": [
    "# Question 1"
   ]
  },
  {
   "cell_type": "code",
   "execution_count": 3,
   "metadata": {},
   "outputs": [],
   "source": [
    "# Question 2"
   ]
  },
  {
   "cell_type": "code",
   "execution_count": null,
   "metadata": {},
   "outputs": [],
   "source": [
    "# Question 3"
   ]
  },
  {
   "cell_type": "code",
   "execution_count": null,
   "metadata": {},
   "outputs": [],
   "source": [
    "# Question 4"
   ]
  },
  {
   "cell_type": "markdown",
   "metadata": {},
   "source": [
    "<div class=\"alert alert-info\">\n",
    "    \n",
    "<strong class='fa fa-cogs' style=\"color: darkorange\"> Question 2 </strong>\n",
    "    \n",
    "Pour une image de taille $n \\times n$, quelle est la taille de la mémoire utilisée par cet algorithme ?\n",
    "    \n",
    "</div>"
   ]
  },
  {
   "cell_type": "markdown",
   "metadata": {},
   "source": [
    "**Votre réponse ici**"
   ]
  },
  {
   "cell_type": "markdown",
   "metadata": {},
   "source": [
    "## Partie B : Rotation d'un quart de tour d'une image avec la récursivité.\n",
    "\n",
    "Dans la suite de ce notebok, nous allons faire le quart de tour mais en utilisant une méthode récursive."
   ]
  },
  {
   "cell_type": "markdown",
   "metadata": {},
   "source": [
    "<div class=\"alert alert-info\">\n",
    "    \n",
    "<strong class='fa fa-cogs' style=\"color: darkorange\"> Question 3 </strong>\n",
    "\n",
    "\n",
    "Ecrire une procédure (une fonction sans retour) `echange_pix(image, x0, y0, x1, y1)` qui échange les pixels de coordonnées $(x0,y0)$ et $(x1,y1)$ de l'image passée en paramètres.\n",
    "    \n",
    "Ecrire ensuite un test à partir des pixels 0 et 1 créés ci-dessous.\n",
    "    \n",
    "    \n",
    "</div>"
   ]
  },
  {
   "cell_type": "code",
   "execution_count": 2,
   "metadata": {},
   "outputs": [],
   "source": [
    "def echange_pix(image, x0, y0, x1 ,y1):\n",
    "    \"\"\"\n",
    "    image : objet image de la bibliothèse PIL\n",
    "    \"\"\"\n",
    "    pass"
   ]
  },
  {
   "cell_type": "code",
   "execution_count": 6,
   "metadata": {},
   "outputs": [],
   "source": [
    "# tests pour echange_pix\n",
    "from random import randint\n",
    "\n",
    "# Configuration\n",
    "image_test = Image.open(\"joconde.jpg\")\n",
    "x0 , y0 = randint(0,255), randint(0,255)\n",
    "x1 , y1 = randint(0,255), randint(0,255)\n",
    "pixel0 = image_test.getpixel((x0,y0))\n",
    "pixel1 = image_test.getpixel((x1,y1))\n",
    "\n",
    "# echange\n",
    "# test à réaliser ci-dessous.\n"
   ]
  },
  {
   "cell_type": "markdown",
   "metadata": {},
   "source": [
    "Dans la suite de cet exercice, nous allons adopter une stratégie de type *diviser pour régner*  \n",
    "\n",
    "L'image est divisée en 4 cadrans. Chaque cadrant est tourné récursivement puis une permutation circulaire est effectuée.\n",
    "\n",
    "![rotations récursives](rotation.png)\n",
    "\n",
    "La permutation de chaque cadrant est réalisée en enchaînant plusieurs échanges de cadrans.\n",
    "\n",
    "![rotations récursives](rotation2.png)\n"
   ]
  },
  {
   "cell_type": "markdown",
   "metadata": {},
   "source": [
    "\n",
    "<div class=\"alert alert-info\">\n",
    "    \n",
    "<strong class='fa fa-cogs' style=\"color: darkorange\"> Question 4 </strong>\n",
    "\n",
    "Sur une feuille, appliquer l'algorithme décrit ci-dessous avec le carré suivant :\n",
    "    \n",
    "![carre](carre2.png)\n",
    "    \n",
    "    \n",
    "    \n",
    "</div>"
   ]
  },
  {
   "cell_type": "markdown",
   "metadata": {},
   "source": [
    "\n",
    "<div class=\"alert alert-info\">\n",
    "    \n",
    "<strong class='fa fa-cogs' style=\"color: darkorange\"> Question 5 </strong>\n",
    "\n",
    "Ecrire une procédure (une fonction sans retour) `echange_cadrans(image, x0, y0, x1, y1, n)` qui échange deux cadrants carrés de taille `n` de coordonnées de départ `(x0, y0)` et le second de coordonnées `(x1, y1)`.\n",
    "    \n",
    "</div>"
   ]
  },
  {
   "cell_type": "code",
   "execution_count": 4,
   "metadata": {},
   "outputs": [],
   "source": [
    "def echange_cadrans(image, x0, y0, x1, y1, n):\n",
    "    pass"
   ]
  },
  {
   "cell_type": "code",
   "execution_count": 5,
   "metadata": {},
   "outputs": [],
   "source": [
    "# tests pour echange_cadrans\n",
    "ima = Image.new(\"RGB\",(2, 2))\n",
    "ima.putpixel((0,0),(255,0,0))\n",
    "ima.putpixel((0,1),(0,255,0))\n",
    "ima.putpixel((1,0),(0,0,255))\n",
    "ima.putpixel((1,1),(255,255,255))\n",
    "\n",
    "# Configuration\n",
    "pix1 = ima.getpixel((0,0))\n",
    "pix2 = ima.getpixel((0,1))\n",
    "pix3 = ima.getpixel((1,0))\n",
    "pix4 = ima.getpixel((1,1))\n",
    "\n",
    "# tests echange\n",
    "echange_cadrans(ima,0,0,0,1,1)\n",
    "assert ima.getpixel((0,0)) == pix2\n",
    "assert ima.getpixel((0,1)) == pix1\n",
    "echange_cadrans(ima,0,1,1,1,1)\n",
    "assert ima.getpixel((0,1)) == pix4\n",
    "assert ima.getpixel((1,1)) == pix1"
   ]
  },
  {
   "cell_type": "markdown",
   "metadata": {},
   "source": [
    "<div class=\"alert alert-info\">\n",
    "    \n",
    "<strong class='fa fa-cogs' style=\"color: darkorange\"> Question 6 </strong>\n",
    "\n",
    "\n",
    "Ecrire une procédure récursive `tourne_cadrans(image, x0, y0, n)` qui prend en paramètres l'image considérée, les coordonées de départ `(x0, y0)` et la taille `n` du cadran.\n",
    "Cette précdure doit appliquer récursivement les rotations à chaque cadran puis applique les permutations circulaires échangaeant les 4 cadrans pour finaliser la rotation.\n",
    "    \n",
    "</div>"
   ]
  },
  {
   "cell_type": "code",
   "execution_count": 6,
   "metadata": {},
   "outputs": [],
   "source": [
    "def tourne_cadrans(image, x0, y0, n):\n",
    "    pass"
   ]
  },
  {
   "cell_type": "markdown",
   "metadata": {},
   "source": [
    "<div class=\"alert alert-info\">\n",
    "    \n",
    "<strong class='fa fa-cogs' style=\"color: darkorange\"> Question 7 </strong>\n",
    "\n",
    "\n",
    "Ecrire une procédure `tourne_image(image)` effectuant la rotation d'un quart de tour de l'image via cette méthode récursive, puis enregistre l'image dans `joconde_quart_tour.jpg` et l'afficher.\n",
    "    \n",
    "</div>"
   ]
  },
  {
   "cell_type": "code",
   "execution_count": 7,
   "metadata": {},
   "outputs": [],
   "source": [
    "def tourne_image(image):\n",
    "    pass\n",
    "    \n",
    "\n",
    "# exécution à faire ci-dessous"
   ]
  },
  {
   "cell_type": "markdown",
   "metadata": {},
   "source": [
    "<div class=\"alert alert-info\">\n",
    "    \n",
    "<strong class='fa fa-cogs' style=\"color: darkorange\"> Question 8</strong>\n",
    "\n",
    "\n",
    "\n",
    "Pour une image de taille $n \\times n$, quelle est la taille de la mémoire utilisée par cet algorithme ?\n",
    "    \n",
    "</div>"
   ]
  },
  {
   "cell_type": "markdown",
   "metadata": {},
   "source": [
    "**Votre réponse ici**"
   ]
  },
  {
   "cell_type": "markdown",
   "metadata": {},
   "source": [
    "**Remarque :** On peut démontrer que la complexité de cet algorithme est $0\\left(n^2 \\textrm{log}_2(n) \\right)$.\n",
    "Cet algorithme récursif n'est pas efficace que l'algorithme simple qui a une complexité $O\\left(n^2 \\right)$."
   ]
  },
  {
   "cell_type": "code",
   "execution_count": null,
   "metadata": {},
   "outputs": [],
   "source": []
  }
 ],
 "metadata": {
  "kernelspec": {
   "display_name": "Python 3",
   "language": "python",
   "name": "python3"
  },
  "language_info": {
   "codemirror_mode": {
    "name": "ipython",
    "version": 3
   },
   "file_extension": ".py",
   "mimetype": "text/x-python",
   "name": "python",
   "nbconvert_exporter": "python",
   "pygments_lexer": "ipython3",
   "version": "3.8.5"
  }
 },
 "nbformat": 4,
 "nbformat_minor": 4
}
