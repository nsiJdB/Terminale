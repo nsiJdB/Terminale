{
 "cells": [
  {
   "cell_type": "markdown",
   "metadata": {},
   "source": [
    "# Séquence N°3\n",
    "# TP - Liste chaînées"
   ]
  },
  {
   "cell_type": "markdown",
   "metadata": {},
   "source": [
    "## 1. Introduction\n",
    "\n",
    "Comme nous l'avons vu, en Python, un liste est un tableau où chaque élément est repéré par sa position car les valeurs successives sont situés à des adresses contigües.\n",
    "\n",
    "Pour une liste chainée, chaque élément de la liste possède une valeur et un pointeur vers une autre valeur qui n'est pas forcément située à une adresse contigüe. Voici par exemple une représentation d'une liste contenant les entiers 2, 4, 1 et 5.\n",
    "\n",
    "<img src=\"liste1.png\" alt=\"Liste simplement chaînée\" title=\"Liste simplement chaînée\" />\n",
    "\n",
    "L'élément de base d'une liste chaînée est une cellule constituée de deux parties.\n",
    "\n",
    "- La première contient une donnée (par exemple un entier pour une liste d'entiers) ;\n",
    "- la seconde contient un pointeur (i.e. une adresse mémoire) vers une autre cellule (ou un pointeur nul).\n",
    "\n",
    "Une liste est alors une succession de cellules, chacune pointant sur la suivante, et la dernière ayant un pointeur nul (c'est à dire ne pointant sur rien). En pratique, la variable «contenant» la liste est simplement un pointeur vers la première cellule.\n",
    "\n",
    "Comme les cellules n'ont pas à être placées de façon contigüe en mémoire cela va donner à cette structure plus de souplesse qu'un tableau. L'insertion ou la suppression en début de liste vont alors pouvoir s'effectuer en temps constant grâce aux algorithmes que vous allez coder.\n",
    "\n",
    "### Remarques :\n",
    " * Avec cette définition, il n'y a pas d'accès direct aux valeurs des éléments. On avance dans la liste à partir de la tête, jusqu'à l'élément souhaité.\n",
    " * Cette représentation occupe un espace mémoire important puisqu'il faut stocker pour chaque cellule, une valeur et une adresse.\n",
    " * Elle est néanmoins performante en temps d'éxécution pour certaines opérations comme l'insertion ou la suppression.\n",
    " \n"
   ]
  },
  {
   "cell_type": "markdown",
   "metadata": {},
   "source": [
    "<div class=\"alert alert-block alert-warning\">   \n",
    "\n",
    " **Les objectifs de ce TP sont :**\n",
    " \n",
    " - Créer un objet permettant de modéliser cette structure de liste chaînée\n",
    " - Implémenter à ces objets des méthodes, telles que l'insertion ou la suppression qui devront se faire en temps constant.\n",
    "</div>"
   ]
  },
  {
   "cell_type": "markdown",
   "metadata": {},
   "source": [
    "## 2. Encapsulation dans un objet\n",
    "Nous allons utiliser le paradigme de la programmation objet pour implémenter ce concept en python et définir deux classes : la classe `Cellule` qui définit une cellule et la classe `ListeChainee` qui définit une liste chaînée, classe pour laquelle nous ajouterons ensuite des méthodes pour effectuer des opérations usuelles sur les listes.\n"
   ]
  },
  {
   "cell_type": "markdown",
   "metadata": {},
   "source": [
    "### a) Classe `Cellule` et première construction d'une liste chaînée"
   ]
  },
  {
   "cell_type": "markdown",
   "metadata": {},
   "source": [
    "<div class=\"alert alert-info\">\n",
    "    \n",
    "<strong class='fa fa-cogs' style=\"color: darkorange\"> Etape 1 : Définition de la classe Cell </strong>\n",
    "    \n",
    "\n",
    "La classe `Cellule` contient deux attributs initialisés par la méthode constructeur :\n",
    "* `valeur` : Contient la valeur de la cellule définie\n",
    "* `suivant`: Contient l'adresse mémoire de la cellule suivante, par défaut la valeur `None`\n",
    "</div>"
   ]
  },
  {
   "cell_type": "code",
   "execution_count": 1,
   "metadata": {},
   "outputs": [],
   "source": [
    "class Cellule:\n",
    "    '''Cellule d'une liste chainee'''\n",
    "    def __init__(self,valeur,suivant=None):\n",
    "        self.valeur = valeur\n",
    "        self.suivant = suivant"
   ]
  },
  {
   "cell_type": "markdown",
   "metadata": {},
   "source": [
    "**Question :** Que représente le résultat renvoyé par `print(Cellule(2))` ?"
   ]
  },
  {
   "cell_type": "markdown",
   "metadata": {},
   "source": [
    "*Réponse : L'adresse de l'objet `Cellule(2)`*"
   ]
  },
  {
   "cell_type": "markdown",
   "metadata": {},
   "source": [
    "<div class=\"alert alert-info\">\n",
    "    \n",
    "<strong class='fa fa-cogs' style=\"color: darkorange\"> Méthode sur la classe Cellule </strong>\n",
    "    \n",
    "\n",
    "Compléter ci-dessous la classe `Cellule` avec la méthode `__str(self)__` qui doit permettre d'afficher la valeur de la cellule.\n",
    "</div>"
   ]
  },
  {
   "cell_type": "code",
   "execution_count": 2,
   "metadata": {},
   "outputs": [],
   "source": [
    "class Cellule:\n",
    "    '''Cellule d'une liste chainee'''\n",
    "    def __init__(self,valeur,suivant=None):\n",
    "        self.valeur = valeur\n",
    "        self.suivant = suivant\n",
    "\n",
    "    def __str__(self):\n",
    "        \"Affiche la valeur de la cellule\"\n",
    "        return str(self.valeur)\n"
   ]
  },
  {
   "cell_type": "code",
   "execution_count": 3,
   "metadata": {},
   "outputs": [
    {
     "name": "stdout",
     "output_type": "stream",
     "text": [
      "2\n"
     ]
    }
   ],
   "source": [
    "# Définition d'une cellule et affichage\n",
    "l1 = Cellule(2)\n",
    "print(l1)\n",
    "\n",
    "# Test de l'affichage\n",
    "assert str(l1) == \"2\""
   ]
  },
  {
   "cell_type": "markdown",
   "metadata": {},
   "source": [
    "<div class=\"alert alert-danger\">\n",
    "    \n",
    "<strong class='fa fa-cogs' style=\"color: darkorange\"> Créer d'une première liste </strong>\n",
    "    \n",
    "\n",
    "On considère l'instruction `L = Cellule(1,Cellule(5,None))`\n",
    "\n",
    "Pour les questions suivantes, répondre dans un premier temps sans exécuter le code. L'exécution de code permettra de vérifier vos réponses.\n",
    "    \n",
    "1. Que vaut `L.valeur` ?\n",
    "2. Que vaut `L.suivant` ?\n",
    "3. Quelle instruction permet d'obtenir la valeur 5 de `Cellule(5,None)` ?\n",
    "4. Quelle structure modélise l'instruction `L = Cellule(1,Cellule(5,None))` ?\n",
    "5. Quelle instruction permet de modéliser la liste chaînée suivante :\n",
    "    \n",
    "    <img src=\"liste2.png\" alt=\"Liste simplement chaînée\" title=\"Liste simplement chaînée\" />\n",
    "</div>"
   ]
  },
  {
   "cell_type": "code",
   "execution_count": 4,
   "metadata": {},
   "outputs": [
    {
     "name": "stdout",
     "output_type": "stream",
     "text": [
      "1\n",
      "5\n",
      "5\n"
     ]
    },
    {
     "data": {
      "text/plain": [
       "<__main__.Cellule at 0x7fc618f4bdc0>"
      ]
     },
     "execution_count": 4,
     "metadata": {},
     "output_type": "execute_result"
    }
   ],
   "source": [
    "L = Cellule(1,Cellule(5,None))\n",
    "\n",
    "# Réponse Q1 : 1\n",
    "print(L)\n",
    "\n",
    "# Réponse Q2 : adresse de Cellule(5, None)\n",
    "print(L.suivant)\n",
    "\n",
    "# Réponse Q3\n",
    "print(L.suivant)\n",
    "L.suivant.valeur\n",
    "\n",
    "# Réponse Q4: Liste chainee 1, 5\n",
    "\n",
    "# Réponse Q5\n",
    "Cellule(5, Cellule(4, Cellule(1, Cellule(5))))"
   ]
  },
  {
   "cell_type": "markdown",
   "metadata": {},
   "source": [
    "**Bilan :**\n",
    "\n",
    "* La variable `L` contient l'adresse mémoire de l'objet contenant la valeur 2 qui lui même contient l'adresse de l'autre objet contenant 4 qui lui même contient l'adresse de l'objet contenant 1 qui lui même contient l'adresse de l'objet contenant 5 et l'attribut `None`. (qui n'est pas obligatoire car par défaut vaut `None`)\n",
    "\n",
    "* Cette implémentation est cependant incomplète, car il n'est pour l'instant pas possible d'afficher une version plus lisible de cette liste :"
   ]
  },
  {
   "cell_type": "markdown",
   "metadata": {},
   "source": [
    "### b) Construction d'une classe `ListeChainee`"
   ]
  },
  {
   "cell_type": "markdown",
   "metadata": {},
   "source": [
    "<div class=\"alert alert-info\">\n",
    "    \n",
    "<strong class='fa fa-cogs' style=\"color: darkorange\"> Etape 2 : Création d'une liste </strong>\n",
    "    \n",
    "Nous allons construire une classe `ListeChainee` qui va permettre de compléter l'implémentation.\n",
    "    \n",
    "Cette classe contient un attribut `tete` initialisé par le constructeur avec la valeur par défaut `None`. Cet attribut est simplement le lien vers l'adresse de la première cellule.\n",
    "</div>"
   ]
  },
  {
   "cell_type": "code",
   "execution_count": 5,
   "metadata": {},
   "outputs": [],
   "source": [
    "class ListeChainee:\n",
    "    '''Liste chaînée'''\n",
    "    def __init__(self, tete=None):\n",
    "        '''tete : lien vers la premiere cellule'''\n",
    "        self.tete=tete"
   ]
  },
  {
   "cell_type": "markdown",
   "metadata": {},
   "source": [
    "<div class=\"alert alert-danger\">  \n",
    "\n",
    "**Question 1 :** Compléter la construction de la liste $2,4,1,5$ ci-dessous en utilisant les classes `Cellule` et `ListeChainee`.\n",
    "</div>"
   ]
  },
  {
   "cell_type": "code",
   "execution_count": 6,
   "metadata": {},
   "outputs": [],
   "source": [
    "c1=Cellule(2)\n",
    "c2=Cellule(4)\n",
    "c3=Cellule(1)\n",
    "c4=Cellule(5)\n",
    "c1.suivant=c2\n",
    "c2.suivant=c3\n",
    "c3.suivant=c4\n",
    "\n",
    "L=ListeChainee(c1)"
   ]
  },
  {
   "cell_type": "markdown",
   "metadata": {},
   "source": [
    "<div class=\"alert alert-danger\">  \n",
    "    \n",
    "**Question 2 :** Afficher :\n",
    " * La valeur de la tête.\n",
    " * La valeur du deuxième élément à partir de la tête.\n",
    " * La valeur du dernier élément à partir de la tête.\n",
    "    </div>"
   ]
  },
  {
   "cell_type": "code",
   "execution_count": 7,
   "metadata": {},
   "outputs": [
    {
     "name": "stdout",
     "output_type": "stream",
     "text": [
      "2\n",
      "4\n",
      "5\n"
     ]
    }
   ],
   "source": [
    "#valeur de la tête\n",
    "print(L.tete)\n",
    "\n",
    "#valeur du 2nd élément\n",
    "print(L.tete.suivant)\n",
    "\n",
    "\n",
    "#valeur du dernier élément\n",
    "print(L.tete.suivant.suivant.suivant)"
   ]
  },
  {
   "cell_type": "markdown",
   "metadata": {},
   "source": [
    "<div class=\"alert alert-info\">\n",
    "    \n",
    "<strong class='fa fa-cogs' style=\"color: darkorange\"> Etape 3 : Affichage de la liste </strong>\n",
    "    \n",
    "Compléter la classe `ListeChainee` avec la méthode `__str(self)__` qui doit permettre d'afficher la liste considérée telle que nous la connaissons en python. \n",
    "    \n",
    "Ainsi, \n",
    "    \n",
    "- Si `L` est la liste définie plus haut, `print(L)` doit renvoyer la chaîne de caractères `[2, 4, 1, 5]`;\n",
    "- Si  la liste est vide, alors la chaîne de caractères `[]` est renvoyée.\n",
    "    </div>"
   ]
  },
  {
   "cell_type": "code",
   "execution_count": 8,
   "metadata": {},
   "outputs": [],
   "source": [
    "class ListeChainee:\n",
    "    '''Liste chaînée'''\n",
    "    def __init__(self, tete=None):\n",
    "        '''tete : lien vers la premiere cellule'''\n",
    "        self.tete=tete\n",
    "        \n",
    "    def __str__(self):        \n",
    "        '''renvoie une forme lisible de ListeChainee'''\n",
    "        if self.tete is None:\n",
    "            return '[]'\n",
    "        else:\n",
    "            c = self.tete\n",
    "            tab = [c.valeur]\n",
    "            while c.suivant is not None:\n",
    "                c = c.suivant\n",
    "                tab.append(c.valeur)\n",
    "            return str(tab)\n",
    "    \n"
   ]
  },
  {
   "cell_type": "code",
   "execution_count": 9,
   "metadata": {},
   "outputs": [
    {
     "name": "stdout",
     "output_type": "stream",
     "text": [
      "[2, 4, 1, 5]\n",
      "[]\n"
     ]
    }
   ],
   "source": [
    "# Il est nescessaire de redéfinir notre liste car la définition de la classe a changé.\n",
    "c1=Cellule(2)\n",
    "c2=Cellule(4)\n",
    "c3=Cellule(1)\n",
    "c4=Cellule(5)\n",
    "c1.suivant=c2\n",
    "c2.suivant=c3\n",
    "c3.suivant=c4\n",
    "L=ListeChainee(c1)\n",
    "\n",
    "print(str(L))\n",
    "print(ListeChainee())\n",
    "\n",
    "# Tests de la méthode __str__\n",
    "assert str(L) == \"[2, 4, 1, 5]\"\n",
    "assert str(ListeChainee()) == \"[]\""
   ]
  },
  {
   "cell_type": "markdown",
   "metadata": {},
   "source": [
    "<div class=\"alert alert-danger\">  \n",
    "\n",
    "**Exercice d'application:**\n",
    "   \n",
    "Ecrire la fonction `listeN(n)` qui renvoie une liste chaînée contenant les $n$ premiers entiers de 1 à $n$. Si $n = 0$, on renvoie une liste chaînée vide.\n",
    "</div>"
   ]
  },
  {
   "cell_type": "code",
   "execution_count": null,
   "metadata": {},
   "outputs": [],
   "source": [
    "def listeN(n):\n",
    "    '''liste des n premiers entiers de 1 à n\n",
    "    parametre : n entier >0\n",
    "    return : liste chaînée\n",
    "    '''\n",
    "    # A compléter\n",
    "        \n",
    "print(listeN(0))      \n",
    "print(listeN(1))\n",
    "print(listeN(10))"
   ]
  },
  {
   "cell_type": "code",
   "execution_count": null,
   "metadata": {},
   "outputs": [],
   "source": [
    "# tests de la fonction listeN\n",
    "assert str(listeN(0)) == '[]'\n",
    "assert str(listeN(1)) == '[1]'\n",
    "assert str(listeN(12)) == '[1, 2, 3, 4, 5, 6, 7, 8, 9, 10, 11, 12]'\n"
   ]
  },
  {
   "cell_type": "markdown",
   "metadata": {},
   "source": [
    "### c) Méthodes\n",
    "Dans cette partie, nous allons compléter au fur et à mesure la classe `ListeChainee` ci-dessous avec des méthodes permettant de réaliser des opérations que l'on fait habituellement avec les tableaux python."
   ]
  },
  {
   "cell_type": "code",
   "execution_count": null,
   "metadata": {},
   "outputs": [],
   "source": [
    "class Cellule:\n",
    "    '''Cellule d'une liste chainee'''\n",
    "    def __init__(self,valeur,suivant=None):\n",
    "        self.valeur=valeur\n",
    "        self.suivant=suivant\n",
    "\n",
    "    def __str__(self):\n",
    "        return str(self.valeur)\n",
    "\n",
    "class ListeChainee:\n",
    "    '''Liste chaînée'''\n",
    "    def __init__(self, tete=None):\n",
    "        '''tete : lien vers la premiere cellule'''\n",
    "        self.tete=tete\n",
    "    \n",
    "    def __str__(self):\n",
    "        '''renvoie une forme lisible de ListeChainee'''\n",
    "        if self.tete is None:\n",
    "            return '[]'\n",
    "        else:\n",
    "            cellule=self.tete\n",
    "            valeurs=[cellule.valeur]\n",
    "            while cellule.suivant is not None:\n",
    "                cellule=cellule.suivant\n",
    "                valeurs.append(cellule.valeur)\n",
    "            return str(valeurs)\n",
    "    \n",
    "    # Méthode 1\n",
    "    def vide(self):\n",
    "        '''renvoie True si la liste est vide\n",
    "        False sinon'''\n",
    "        # A compléter\n",
    "\n",
    "    \n",
    "    # Méthode 2\n",
    "    def __len__(self):\n",
    "        '''renvoie la longueur de la liste'''\n",
    "        # A compléter\n",
    "        \n",
    "        \n",
    "    # Méthode 3   \n",
    "    def __getitem__(self, index):\n",
    "        '''renvoie l'élement  d'index donné, numéroté à partir de 0'''\n",
    "        # A compléter\n",
    "\n",
    "\n",
    "    # Méthode 4\n",
    "    def inserer(self,x,index):\n",
    "        '''insere l'élément x dans la liste à l'index donné, numéroté à partir de 0'''\n",
    "        # A compléter\n",
    "        \n",
    "     \n",
    "    # Méthode 5\n",
    "    def supprimer(self,index):\n",
    "        ''' Supprime l'élément d'index donné numéroté  partir de 0, de la liste'''\n",
    "        # A compléter"
   ]
  },
  {
   "cell_type": "markdown",
   "metadata": {},
   "source": [
    "<div class=\"alert alert-info\">\n",
    "    \n",
    "<strong class='fa fa-cogs' style=\"color: darkorange\"> Méthode 1 </strong>\n",
    "    \n",
    "   Compléter la méthode `vide(self)` qui revoie `True` si la liste chaînée est vide et `False` sinon.\n",
    "</div>"
   ]
  },
  {
   "cell_type": "code",
   "execution_count": null,
   "metadata": {},
   "outputs": [],
   "source": [
    "# Tests de la méthode 1\n",
    "L = ListeChainee(Cellule(1))\n",
    "\n",
    "assert ListeChainee().vide() == True\n",
    "assert L.vide() == False"
   ]
  },
  {
   "cell_type": "markdown",
   "metadata": {},
   "source": [
    "<div class=\"alert alert-info\">\n",
    "    \n",
    "<strong class='fa fa-cogs' style=\"color: darkorange\"> Méthode 2 - longueur de la chaine</strong>\n",
    "    \n",
    "   Ecrire la fonction `__len__(self)` qui renvoie la longueur de la liste chaînée, c'est à dire le nombre de cellules qui la compose.\n",
    "</div>"
   ]
  },
  {
   "cell_type": "code",
   "execution_count": null,
   "metadata": {},
   "outputs": [],
   "source": [
    "# Tests de la méthode 2\n",
    "l1 = ListeChainee(Cellule(1,Cellule(2,Cellule(3))))\n",
    "\n",
    "assert len(ListeChainee()) == 0\n",
    "assert len(l1) == 3"
   ]
  },
  {
   "cell_type": "markdown",
   "metadata": {},
   "source": [
    "##### Remarques :\n",
    "* Les instructions `len(L)` et `L.__len__()`  sont équivalentes(cela fonctionne par ailleurs avec les tableaux python)\n",
    "* Complexité du calcul de l'accès à un élément :\n",
    "    * Quelque soit le nombre de cellules, il faut les parcourir toutes.\n",
    "    * La complexité du calcul est donc proportionnelle au nombre $n$ de cellules, en $\\mathcal{O}(n)$\n",
    "    * Pour $1000$ cellules, il faudra donc effectuer $1000$ tests (`while`), $1000$ additions (`n+1`), et $2000$ affectations (`=`), soit $4000$ opérations élémentaires."
   ]
  },
  {
   "cell_type": "markdown",
   "metadata": {},
   "source": [
    "<div class=\"alert alert-info\">\n",
    "    \n",
    "<strong class='fa fa-cogs' style=\"color: darkorange\"> Méthode 3 - Accès à un élément</strong>\n",
    "  \n",
    "Ecrire la fonction `__getitem__(self, i)` qui renvoie l'élement  d'index `i`, numéroté à partir de 0. Si l'indice est invalide, une exception `IndexError` sera levée.\n",
    "</div>"
   ]
  },
  {
   "cell_type": "code",
   "execution_count": null,
   "metadata": {},
   "outputs": [],
   "source": [
    "# Tests de la méthode 3\n",
    "l1 = ListeChainee(Cellule(0,Cellule(1,Cellule(2))))\n",
    "\n",
    "assert l1[0] == 0\n",
    "assert l1[1] == 1\n",
    "assert l1[2] == 2"
   ]
  },
  {
   "cell_type": "markdown",
   "metadata": {},
   "source": [
    "##### Remarques :\n",
    "* Les instructions `L[i]` et `L.__getitem__(i)` sont équivalentes (cela fonctionne par ailleurs avec les tableaux python)\n",
    "* Complexité du calcul de l'accès à un élément :\n",
    "    * Cela dépend de la valeur de `index` :\n",
    "      * Dans certains cas, il faut autant de passages dans la boucle `while` que de cellules à parcourir jusqu'à l'index demandé.\n",
    "      * Dans le pire des cas, il faut parcourir toute la liste (par exemple lorsque l'index est supérieur à égal à celui de la dernière cellule)\n"
   ]
  },
  {
   "cell_type": "markdown",
   "metadata": {},
   "source": [
    "<div class=\"alert alert-info\">\n",
    "    \n",
    "<strong class='fa fa-cogs' style=\"color: darkorange\"> Méthode 4 - Insertion </strong>\n",
    "\n",
    "Ecrire la fonction `inserer(self, x, index)` qui insère l'élément `x` à l'index donné en paramètre numéroté à partir de $0$.\n",
    "</div>"
   ]
  },
  {
   "cell_type": "markdown",
   "metadata": {},
   "source": [
    "\n",
    "<img src='liste_chainee_insert.png' style='float:right;' width=400>    \n",
    "\n",
    "Le but de cet exercice est d'écrire la méthode `inserer(self, x, index)` qui insère l'élément `x` à l'index donné en paramètre numéroté à partir de $0$. \n",
    "* On envisagera d'abord les cas particuliers ou :\n",
    "    * La liste est vide.\n",
    "    * `index` est égal à $0$ (insertion en début de liste).\n",
    "\n",
    "\n",
    "* Cas général(voir exemple ci-contre):\n",
    "\n",
    "  * On avance dans la liste jusqu'à la cellule numéro `index-1`\n",
    "  * On crée une nouvelle cellule de valeur `x` et liée à la cellule numéro `index`\n",
    "  * On lie la cellule numéro `index-1` à la nouvelle cellule\n",
    "\n",
    "\n",
    "* *Bonus : Si l'index est absurde, renvoyer `index error` (ajouter des tests adéquats)*"
   ]
  },
  {
   "cell_type": "code",
   "execution_count": null,
   "metadata": {},
   "outputs": [],
   "source": [
    "# test\n",
    "l1 = ListeChainee(Cellule(1,Cellule(1,Cellule(3,Cellule(5)))))\n",
    "print(l1)\n",
    "l1.inserer(2,3)\n",
    "print(l1)\n",
    "\n",
    "# Test IndexError\n",
    "#l1.inserer(2,15)\n",
    "\n",
    "#Tests insertion d'élément\n",
    "\n",
    "#insérer dans une liste vide\n",
    "L1=ListeChainee()\n",
    "print(L1)\n",
    "L1.inserer(1,0)\n",
    "print(L1)\n",
    "\n",
    "#génération de la liste 1,1,3,5\n",
    "L=ListeChainee(Cellule(1,Cellule(1,Cellule(3,Cellule(5,None)))))\n",
    "print(L)\n",
    "\n",
    "insérer au début de la liste\n",
    "L.inserer(0,0)\n",
    "print(L)\n",
    "\n",
    "#inserer dans la liste\n",
    "L.inserer(2,3)\n",
    "print(L)\n",
    "\n",
    "#insérer à la fin de la liste\n",
    "L.inserer(8,len(L))\n",
    "print(L)"
   ]
  },
  {
   "cell_type": "markdown",
   "metadata": {},
   "source": [
    "##### Remarques :\n",
    "* On voit ici l'éfficacité de l'insertion dans une liste chaînée en début de liste. Il est inutile de décaler des éléments comme on le ferait pour un tableau, il suffit de créer une cellule à placer en tête et la lier à la cellule qui était précédemment en tête.\n",
    "* Dans ce cas la complexité de calcul est en temps constant( en $\\mathcal{O}(1)$) quelque soit la longueur de la liste !"
   ]
  },
  {
   "cell_type": "markdown",
   "metadata": {},
   "source": [
    "<div class=\"alert alert-info\">\n",
    "    \n",
    "<strong class='fa fa-cogs' style=\"color: darkorange\"> Méthode 5 - Suppression </strong>\n",
    "   Ecrire la fonction la méthode `supprimer(self,index)` qui supprime l'élément `x` à l'index donné en paramètre numéroté à partir de $0$. \n",
    "</div>"
   ]
  },
  {
   "cell_type": "markdown",
   "metadata": {},
   "source": [
    "Suppression\n",
    "<img src='liste_chainee_suppr.png' style='float:right;' width=400>    \n",
    "\n",
    "Le but de cet exercice est d'écrire la méthode `supprimer(self,index)` qui supprime l'élément `x` à l'index donné en paramètre numéroté à partir de $0$. \n",
    "* On envisagera d'abord le cas particulier ou `index` est égal à $0$ (le premier élément est supprimé) :\n",
    "\n",
    "\n",
    "* Cas général(voir exemple ci-contre):\n",
    "\n",
    "  * On avance dans la liste jusqu'à la cellule numéro `index-1`\n",
    "  * On lie la cellule numéro `index-1` à la cellule numéro `index+1`\n",
    "\n",
    "\n",
    "* *Bonus : Si l'index est absurde, renvoyer `index error` ( ajouter des tests adéquats).*"
   ]
  },
  {
   "cell_type": "code",
   "execution_count": null,
   "metadata": {},
   "outputs": [],
   "source": [
    "#Tests suppression d'élément\n",
    "\n",
    "#génération de la liste 1,1,3,5\n",
    "L=ListeChainee(Cellule(1,Cellule(1,Cellule(1,Cellule(2,Cellule(3,Cellule(5,None)))))))\n",
    "print(L)\n",
    "\n",
    "#supprimer au début de la liste\n",
    "L.supprimer(0)\n",
    "print(L)\n",
    "\n",
    "#supprimer dans la liste\n",
    "L.supprimer(2)\n",
    "print(L)\n",
    "L.supprimer(2)\n",
    "print(L)\n",
    "L.supprimer(2)\n",
    "print(L)\n",
    "\n",
    "#supprimer à la fin de la liste\n",
    "L.supprimer(len(L)-1)\n",
    "print(L)\n",
    "\n",
    "#supprimer le seul élément de la liste\n",
    "L.supprimer(0)\n",
    "print(L)\n"
   ]
  },
  {
   "cell_type": "markdown",
   "metadata": {},
   "source": [
    "##### Remarques :\n",
    "* Encore une fois la suppression dans une liste chaînée en début de liste est efficace. Il est inutile de décaler des éléments comme on le ferait pour un tableau, il suffit de bien choisir la cellule à placer en tête de liste.\n",
    "* Dans ce cas la complexité de calcul est en temps constant( en $\\mathcal{O}(1)$) quelque soit la longueur de la liste !"
   ]
  }
 ],
 "metadata": {
  "kernelspec": {
   "display_name": "Python 3",
   "language": "python",
   "name": "python3"
  },
  "language_info": {
   "codemirror_mode": {
    "name": "ipython",
    "version": 3
   },
   "file_extension": ".py",
   "mimetype": "text/x-python",
   "name": "python",
   "nbconvert_exporter": "python",
   "pygments_lexer": "ipython3",
   "version": "3.8.5"
  }
 },
 "nbformat": 4,
 "nbformat_minor": 4
}
