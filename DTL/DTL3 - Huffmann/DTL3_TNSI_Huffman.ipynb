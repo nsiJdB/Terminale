{
 "cells": [
  {
   "cell_type": "markdown",
   "metadata": {},
   "source": [
    "# Devoir en temps libre N°3\n",
    "# Algorithme de Huffman"
   ]
  },
  {
   "cell_type": "markdown",
   "metadata": {},
   "source": [
    "<div class=\"alert alert-warning\" role=\"alert\">\n",
    "    \n",
    "## Partie A : Question 2\n",
    "    \n",
    "## Algorithme de conversion\n",
    "</div>"
   ]
  },
  {
   "cell_type": "markdown",
   "metadata": {},
   "source": [
    "On modélise le tableau de codage par un dictionnaire où les clés sont les caractères et les valeurs le codage binaire associé sous forme de chaîne de caractères.\n",
    "Le tableau de la question 1 du sujet papier est modélisé par le dictionnaire suivant :\n",
    "\n",
    "    {'a':'0011','c':'0100','e':'100','i': '11','l':'0010','n':'101','p':'0101','s':'011','t':'0001',' ':'0000'}"
   ]
  },
  {
   "cell_type": "markdown",
   "metadata": {},
   "source": [
    "<div class=\"alert alert-info\">\n",
    "    \n",
    "<strong class='fa fa-cogs' style=\"color: darkorange\"> Conversion texte en binaire : </strong>\n",
    "\n",
    "Compléter le code de la fonction `compression` qui :\n",
    "    \n",
    "- prend en paramètres un texte et un dictionnaire donnant la table de codage ;\n",
    "- renvoie le codage binaire du texte saisi en paramètre en utilisant le tableau de codage représenté par le dictionnaire saisi en paramètre.\n",
    "</div>"
   ]
  },
  {
   "cell_type": "code",
   "execution_count": 11,
   "metadata": {},
   "outputs": [],
   "source": [
    "def compression(texte, dico):\n",
    "    pass"
   ]
  },
  {
   "cell_type": "code",
   "execution_count": 12,
   "metadata": {},
   "outputs": [],
   "source": [
    "# test fonction compression\n",
    "dico_codage = {' ':'0000','t':'0001','l':'0010','a':'0011','c':'0100','p':'0101','s':'011','e':'100','n':'101','i': '11'}\n",
    "assert compression('specialite nsi', dico_codage) == '011010110001001100110010110001100000010101111'"
   ]
  },
  {
   "cell_type": "markdown",
   "metadata": {},
   "source": [
    "<div class=\"alert alert-info\">\n",
    "    \n",
    "<strong class='fa fa-cogs' style=\"color: darkorange\"> Calcul du taux de compression : </strong>\n",
    "\n",
    "Compléter le code de la fonction `taux_compression` qui prend les mêmes paramètres que la fonction `compression` et qui renvoie le taux de compression du codage par rapport au codage ASCII.\n",
    "</div>"
   ]
  },
  {
   "cell_type": "code",
   "execution_count": 13,
   "metadata": {},
   "outputs": [],
   "source": [
    "def taux_compression(texte, dico):\n",
    "    pass"
   ]
  },
  {
   "cell_type": "code",
   "execution_count": 14,
   "metadata": {},
   "outputs": [],
   "source": [
    "# test de la fonction taux_compression\n",
    "assert taux_compression('specialite nsi', dico_codage) == 59.82142857142857"
   ]
  },
  {
   "cell_type": "markdown",
   "metadata": {},
   "source": [
    "<div class=\"alert alert-block alert-danger\">\n",
    "    \n",
    "**Laisser de coté ce Notebook et reprendre le sujet papier pour poursuivre le devoir.**\n",
    "    \n",
    "</div>"
   ]
  },
  {
   "cell_type": "markdown",
   "metadata": {},
   "source": [
    "<div class=\"alert alert-warning\" role=\"alert\">\n",
    "    \n",
    "## Partie C :\n",
    "    \n",
    "## Implémentation de l'algorithme de Huffman\n",
    "</div>"
   ]
  },
  {
   "cell_type": "markdown",
   "metadata": {},
   "source": [
    "<div class=\"alert alert-block alert-danger\">\n",
    "    \n",
    "**Ne pas oublier d'exécuter la cellule ci-dessous pour charger la bibliothèque graphviz.**\n",
    "    \n",
    "</div>"
   ]
  },
  {
   "cell_type": "code",
   "execution_count": 49,
   "metadata": {},
   "outputs": [],
   "source": [
    "# import pour affichage des arbres\n",
    "from graphviz import Digraph"
   ]
  },
  {
   "cell_type": "markdown",
   "metadata": {},
   "source": [
    "### 1. Nombre d'occurence d'un caractère dans un texte"
   ]
  },
  {
   "cell_type": "markdown",
   "metadata": {},
   "source": [
    "L'algorithme de Huffman est basé dans un premier temps par la détermination du nombre d'occurrences de chacun des caractères d'un texte."
   ]
  },
  {
   "cell_type": "markdown",
   "metadata": {},
   "source": [
    "<div class=\"alert alert-info\">\n",
    "    \n",
    "<strong class='fa fa-cogs' style=\"color: darkorange\"> Question 1 </strong>\n",
    "    \n",
    "Compléter la fonction `compte_occurrence` qui :\n",
    "- prend en paramètre un `texte` de type `str` ;\n",
    "- renvoie un dictionnaire `dico` dont les clés sont les caractères du texte et les valeurs sont les nombres d'occurrences \n",
    "    de chaque caractère dans le texte.\n",
    "</div>"
   ]
  },
  {
   "cell_type": "code",
   "execution_count": 52,
   "metadata": {},
   "outputs": [],
   "source": [
    "def compte_occurrence(texte):\n",
    "    \"\"\"\n",
    "    return : dico -  dictionnaire dont les clés sont les caractères \n",
    "    du texte et les valeurs sont les nombres d'occurrences de chaque caractère du texte passé en paramètre.\n",
    "    \"\"\"\n",
    "    pass"
   ]
  },
  {
   "cell_type": "code",
   "execution_count": 53,
   "metadata": {},
   "outputs": [],
   "source": [
    "# tests\n",
    "assert compte_occurrence(\"DABBCDD\") == {'A': 1, 'B': 2, 'C': 1, 'D': 3}\n",
    "assert compte_occurrence(\"spe nsi\") == {'s': 2, 'p': 1, 'e': 1, 'n': 1, 'i': 1, ' ': 1}"
   ]
  },
  {
   "cell_type": "markdown",
   "metadata": {},
   "source": [
    "### 2. Implémentation de classe la `ArbreHuffman`"
   ]
  },
  {
   "cell_type": "markdown",
   "metadata": {},
   "source": [
    "On décide de modéliser les arbres de Huffman avec la classe `ArbreHuffman` donnée ci-dessous. \n",
    "Un objet de la classe `ArbreHuffman` aura pour attributs :\n",
    "\n",
    "- `lettre` : caractère dont on souhaite déterminer le codage de Huffman\n",
    "- `nombre_occurrence` : nombre de d'occurrences d'un caractère que l'on souhaite coder.\n",
    "- `gauche` : sous-arbre gauche\n",
    "- `droit` : sous-arbre droit"
   ]
  },
  {
   "cell_type": "code",
   "execution_count": 38,
   "metadata": {},
   "outputs": [],
   "source": [
    "class ArbreHuffman:\n",
    "    def __init__(self, lettre, nb_occ, gauche = None, droit=None):\n",
    "        \"\"\"\n",
    "        param: lettre - str\n",
    "        param: nb_occ - int\n",
    "        \"\"\"\n",
    "        self.lettre = lettre\n",
    "        self.nombre_occurrence = nb_occ\n",
    "        self.gauche = gauche\n",
    "        self.droit = droit\n",
    "        \n",
    "    def est_feuille(self):\n",
    "        pass\n",
    " \n",
    "        \n",
    "    def __str__(self):\n",
    "        if self.lettre :\n",
    "            return \"{} | {}\".format(self.lettre,self.nombre_occurrence)\n",
    "        else:\n",
    "            return \"{}\".format(self.nombre_occurrence)\n",
    "        \n",
    "    def show(self):\n",
    "        \"\"\"Renvoie un objet graphviz pour la visualisation graphique de l'arbre\"\"\"\n",
    "        def representation(dot, noeud, aretes):\n",
    "            # Ajoute la représentation du noeud à la représentation dot de l'arbre\n",
    "            if noeud is not None:\n",
    "                dot.node(str(id(noeud)), str(noeud))\n",
    "                # Appel récursif de la fonction representation\n",
    "                if noeud.gauche is not None:\n",
    "                    representation(dot, noeud.gauche, aretes)\n",
    "                    aretes.append((str(id(noeud)) , str(id(noeud.gauche))))\n",
    "                if noeud.droit is not None:\n",
    "                    representation(dot, noeud.droit, aretes)\n",
    "                    aretes.append((str(id(noeud)) , str(id(noeud.droit))))\n",
    "                    \n",
    "        dot = Digraph(comment=\"Arbre binaire\", format='svg')\n",
    "        aretes = []\n",
    "        representation(dot, self, aretes)\n",
    "        dot.edges(aretes)\n",
    "        return dot"
   ]
  },
  {
   "cell_type": "markdown",
   "metadata": {},
   "source": [
    "<div class=\"alert alert-info\">\n",
    "    \n",
    "<strong class='fa fa-cogs' style=\"color: darkorange\"> Question 2 </strong>\n",
    "    \n",
    "Dans la classe `ArbreHuffman`, compléter la méthode `est_feuille` qui :\n",
    "- prend en paramètre un objet de type `ArbreHuffman` ; \n",
    "- retourne `True` si cette arbre est une feuille et `False` sinon.\n",
    "</div>"
   ]
  },
  {
   "cell_type": "code",
   "execution_count": null,
   "metadata": {},
   "outputs": [],
   "source": [
    "# Exécuter cette cellule et prendre le temps de comprendre les différentes lignes.\n",
    "\n",
    "# Exemples de création d'arbres\n",
    "arbre1 = ArbreHuffman('a', 4)\n",
    "arbre2 = ArbreHuffman('b', 10)\n",
    "arbre3 = ArbreHuffman(None, 14, arbre2, arbre1)\n",
    "\n",
    "# Tests de la méthode est_feuille\n",
    "assert arbre1.est_feuille()\n",
    "assert arbre2.est_feuille()\n",
    "assert not arbre3.est_feuille()\n",
    "\n",
    "# exemple d'affichages\n",
    "print(arbre1)\n",
    "print(arbre2)\n",
    "print(arbre3)\n",
    "arbre3.show()\n"
   ]
  },
  {
   "cell_type": "markdown",
   "metadata": {},
   "source": [
    "### 3. Création d'un arbre de Huffman"
   ]
  },
  {
   "cell_type": "markdown",
   "metadata": {},
   "source": [
    "<div class=\"alert alert-info\">\n",
    "    \n",
    "<strong class='fa fa-cogs' style=\"color: darkorange\"> Question 3 </strong>\n",
    "    \n",
    "Compléter la fonction `construit_liste_arbres` qui :\n",
    "- prend en paramètre un `texte` de type `str` ;\n",
    "- renvoie une liste d'arbres de Huffman, chacun arbre est réduit à une feuille\n",
    "    constituée de la lettre et de son nombre d'occurrences dans le texte passé en paramètre.\n",
    "</div>"
   ]
  },
  {
   "cell_type": "code",
   "execution_count": 55,
   "metadata": {},
   "outputs": [],
   "source": [
    "def construit_liste_arbres(texte):\n",
    "    \"\"\"\n",
    "    return : liste_arbre : liste d'arbres de Huffman, chacun réduit est réduit à une feuille\n",
    "    constituée de la lettre et de son nombre d'apparition.\n",
    "    \n",
    "    \"\"\"\n",
    "    liste_arbres = []\n",
    "    dico = compte_occurrence(texte)\n",
    "    # A compléter"
   ]
  },
  {
   "cell_type": "code",
   "execution_count": null,
   "metadata": {},
   "outputs": [],
   "source": [
    "# tests d'exécutions\n",
    "\n",
    "print('Premier exemple')\n",
    "liste_arbres = construit_liste_arbres(\"DABBCDD\")\n",
    "for arbre in liste_arbres:\n",
    "    print(arbre)\n",
    "\n",
    "print(\" \")\n",
    "\n",
    "print('Deuxième exemple')\n",
    "liste_arbres = construit_liste_arbres(\"spe nsi\")\n",
    "for arbre in liste_arbres:\n",
    "    print(arbre)   "
   ]
  },
  {
   "cell_type": "markdown",
   "metadata": {},
   "source": [
    "<div class=\"alert alert-info\">\n",
    "    \n",
    "<strong class='fa fa-cogs' style=\"color: darkorange\"> Question 4 </strong>\n",
    "    \n",
    "Dans l'algorithme de Huffman, on est amené à fusionner des arbres de Huffman pour en créer un nouveau dont \n",
    "\n",
    "- la racine a pour nombre d'occurrences la somme des nombres d'occurrences des arbres fusionnés ;\n",
    "- les arbres fusionnés deviennent les sous-arbres droit et gauche de ce nouvel arbre.\n",
    "    \n",
    "Compléter la fonction `fusion` qui :\n",
    "- prend en paramètre 2 arbres de la classe `ArbreHuffman`; \n",
    "- retourne un nouvel arbre de la classe ArbreHuffman, dont le nombre d'occurrence est la somme des occurrences des arbres passés en paramètres\n",
    "    et dont les fils sont les 2 arbres passés en paramètres. La lettre affectée à cet arbre sera `None`\n",
    "    \n",
    "</div>"
   ]
  },
  {
   "cell_type": "code",
   "execution_count": 75,
   "metadata": {},
   "outputs": [],
   "source": [
    "def fusion(gauche, droit):\n",
    "    \"\"\"\n",
    "    param: gauche : arbre de Huffman à fusionner\n",
    "    param: droit : arbre de Huffman à fusionner\n",
    "    return: Arbre de Huffamn obtenu par fusion des arbres passés en paramètres\n",
    "    \"\"\"\n",
    "    pass"
   ]
  },
  {
   "cell_type": "code",
   "execution_count": 76,
   "metadata": {},
   "outputs": [
    {
     "data": {
      "image/svg+xml": [
       "<?xml version=\"1.0\" encoding=\"UTF-8\" standalone=\"no\"?>\n",
       "<!DOCTYPE svg PUBLIC \"-//W3C//DTD SVG 1.1//EN\"\n",
       " \"http://www.w3.org/Graphics/SVG/1.1/DTD/svg11.dtd\">\n",
       "<!-- Generated by graphviz version 2.44.1 (20200629.0846)\n",
       " -->\n",
       "<!-- Pages: 1 -->\n",
       "<svg width=\"142pt\" height=\"116pt\"\n",
       " viewBox=\"0.00 0.00 141.55 116.00\" xmlns=\"http://www.w3.org/2000/svg\" xmlns:xlink=\"http://www.w3.org/1999/xlink\">\n",
       "<g id=\"graph0\" class=\"graph\" transform=\"scale(1 1) rotate(0) translate(4 112)\">\n",
       "<polygon fill=\"white\" stroke=\"transparent\" points=\"-4,4 -4,-112 137.55,-112 137.55,4 -4,4\"/>\n",
       "<!-- 140397269210304 -->\n",
       "<g id=\"node1\" class=\"node\">\n",
       "<title>140397269210304</title>\n",
       "<ellipse fill=\"none\" stroke=\"black\" cx=\"65\" cy=\"-90\" rx=\"27\" ry=\"18\"/>\n",
       "<text text-anchor=\"middle\" x=\"65\" y=\"-86.3\" font-family=\"Times,serif\" font-size=\"14.00\">14</text>\n",
       "</g>\n",
       "<!-- 140397269211840 -->\n",
       "<g id=\"node2\" class=\"node\">\n",
       "<title>140397269211840</title>\n",
       "<ellipse fill=\"none\" stroke=\"black\" cx=\"27\" cy=\"-18\" rx=\"27\" ry=\"18\"/>\n",
       "<text text-anchor=\"middle\" x=\"27\" y=\"-14.3\" font-family=\"Times,serif\" font-size=\"14.00\">a | 4</text>\n",
       "</g>\n",
       "<!-- 140397269210304&#45;&gt;140397269211840 -->\n",
       "<g id=\"edge1\" class=\"edge\">\n",
       "<title>140397269210304&#45;&gt;140397269211840</title>\n",
       "<path fill=\"none\" stroke=\"black\" d=\"M56.19,-72.76C51.58,-64.28 45.84,-53.71 40.68,-44.2\"/>\n",
       "<polygon fill=\"black\" stroke=\"black\" points=\"43.61,-42.27 35.77,-35.15 37.46,-45.61 43.61,-42.27\"/>\n",
       "</g>\n",
       "<!-- 140397269210784 -->\n",
       "<g id=\"node3\" class=\"node\">\n",
       "<title>140397269210784</title>\n",
       "<ellipse fill=\"none\" stroke=\"black\" cx=\"103\" cy=\"-18\" rx=\"30.59\" ry=\"18\"/>\n",
       "<text text-anchor=\"middle\" x=\"103\" y=\"-14.3\" font-family=\"Times,serif\" font-size=\"14.00\">b | 10</text>\n",
       "</g>\n",
       "<!-- 140397269210304&#45;&gt;140397269210784 -->\n",
       "<g id=\"edge2\" class=\"edge\">\n",
       "<title>140397269210304&#45;&gt;140397269210784</title>\n",
       "<path fill=\"none\" stroke=\"black\" d=\"M73.81,-72.76C78.35,-64.4 83.99,-54.02 89.1,-44.61\"/>\n",
       "<polygon fill=\"black\" stroke=\"black\" points=\"92.28,-46.09 93.97,-35.63 86.12,-42.75 92.28,-46.09\"/>\n",
       "</g>\n",
       "</g>\n",
       "</svg>\n"
      ],
      "text/plain": [
       "<graphviz.dot.Digraph at 0x7fb0c95bd160>"
      ]
     },
     "execution_count": 76,
     "metadata": {},
     "output_type": "execute_result"
    }
   ],
   "source": [
    "# test de fusion\n",
    "\n",
    "arbre1 = ArbreHuffman('a', 4)\n",
    "arbre2 = ArbreHuffman('b', 10)\n",
    "arbre3 = fusion(arbre1, arbre2)\n",
    "\n",
    "arbre3.show()"
   ]
  },
  {
   "cell_type": "markdown",
   "metadata": {},
   "source": [
    "<div class=\"alert alert-info\">\n",
    "    \n",
    "<strong class='fa fa-cogs' style=\"color: darkorange\"> Question 5 </strong>\n",
    "    \n",
    "L'algorithme ci-dessous permet trier la liste des arbres de Huffman par ordre croissant du nombre d'occurrences porté par la racine des arbres.\n",
    "    \n",
    "De quel algorithme de tri s'agit-il ?\n",
    "    \n",
    "</div>"
   ]
  },
  {
   "cell_type": "code",
   "execution_count": 77,
   "metadata": {},
   "outputs": [],
   "source": [
    "def tri_liste_arbre_huffman(liste_arbres):\n",
    "    \"\"\"\n",
    "    Tri la liste des arbres par ordre croissant du nombre d'occurrences\n",
    "    \"\"\"\n",
    "    # Tri des arbres en fonction du nombre d'occurences\n",
    "    for i in range(len(liste_arbres)):\n",
    "        # Trouver le min\n",
    "        min = i\n",
    "        for j in range(i+1, len(liste_arbres)):\n",
    "            if liste_arbres[min].nombre_occurrence > liste_arbres[j].nombre_occurrence:\n",
    "                min = j\n",
    "        liste_arbres[i], liste_arbres[min] = liste_arbres[min], liste_arbres[i]\n",
    "    return liste_arbres    "
   ]
  },
  {
   "cell_type": "markdown",
   "metadata": {},
   "source": [
    "**Répondre ici à la question :** *Saisir*"
   ]
  },
  {
   "cell_type": "code",
   "execution_count": null,
   "metadata": {},
   "outputs": [],
   "source": [
    "# Cellule de \"tests\" de la fonction de tri\n",
    "\n",
    "print('Premier exemple')\n",
    "liste_arbres = construit_liste_arbres(\"DABBCDD\")\n",
    "liste_arbres_triee = tri_liste_arbre_huffman(liste_arbres)\n",
    "for arbre in liste_arbres_triee:\n",
    "    print(arbre)\n",
    "    \n",
    "print(\" \")\n",
    "\n",
    "print('Deuxième exemple')\n",
    "liste_arbres = construit_liste_arbres(\"spe nsi\")\n",
    "liste_arbres_triee = tri_liste_arbre_huffman(liste_arbres)\n",
    "for arbre in liste_arbres_triee:\n",
    "    print(arbre)"
   ]
  },
  {
   "cell_type": "markdown",
   "metadata": {},
   "source": [
    "<div class=\"alert alert-info\">\n",
    "    \n",
    "<strong class='fa fa-cogs' style=\"color: darkorange\"> Question 6 </strong>\n",
    "    \n",
    "1. Compléter la fonction `construit_arbre_huffman` qui :\n",
    "- prend en paramètre `texte` qui est de type `str`\n",
    "- retourne l'arbre de Huffman obtenu en suivant l'algorithme de Huffman\n",
    "    \n",
    "2. Exécuter cette fonction pour contruire l'arbre de Huffman lié au texte `specialite nsi`.\n",
    "    \n",
    "</div>"
   ]
  },
  {
   "cell_type": "code",
   "execution_count": 83,
   "metadata": {},
   "outputs": [],
   "source": [
    "def construit_arbre_huffman(texte):\n",
    "    # les 2 instructions suivantes génèrent la liste des arbres de Huffman triés à partir du texte\n",
    "    liste_arbres = construit_liste_arbres(texte)\n",
    "    liste_arbres_triee = tri_liste_arbre_huffman(liste_arbres)\n",
    "    # Tant que les arbres ne sont pas tous funsionnés\n",
    "    while len(liste_arbres_triee) > 1:\n",
    "        # Récupère les deux arbres de plus petites occurrences et on les supprime de la liste des arbres\n",
    "        droit = liste_arbres_triee.pop(0)\n",
    "        gauche = # à compléter\n",
    "        # fusion des 2 arbres\n",
    "        # A compléter\n",
    "        # inserer le nouvel arbre et trier la liste\n",
    "        # A compléter\n",
    "    # Il ne reste plus qu'un seul élément dans la liste des arbres de Huffman\n",
    "    # On renvoie cet arbre\n",
    "    return # à compléter"
   ]
  },
  {
   "cell_type": "code",
   "execution_count": null,
   "metadata": {},
   "outputs": [],
   "source": [
    "# Exécution pour répondre à la question 2\n",
    "\n",
    "# à compléter"
   ]
  },
  {
   "cell_type": "markdown",
   "metadata": {},
   "source": [
    "### 4. Réalisation du codage de Huffman"
   ]
  },
  {
   "cell_type": "markdown",
   "metadata": {},
   "source": [
    "On y est presque :) !\n",
    "\n",
    "Reste maintenant à utiliser l'arbre de Huffman pour déterminer le codage de Huffman c'est à dire le dictionnaire dont les clés sont les caractères de à coder et dont les valeurs sont les codages binaires associés."
   ]
  },
  {
   "cell_type": "markdown",
   "metadata": {},
   "source": [
    "<div class=\"alert alert-info\">\n",
    "    \n",
    "<strong class='fa fa-cogs' style=\"color: darkorange\"> Question 7 </strong>\n",
    "    \n",
    "Compléter la fonction **récursive** `parcours` qui détermine le parcours de la racine de l'arbre de Huffman à chacune des feuilles. Cette fonction détermine donc le codage de Huffman de chaque caractère associé à une feuille de l'arbre.\n",
    "    \n",
    "Cette fonction :\n",
    "- prend en paramètres un arbre de la classe `ArbreHuffman`, un chemin qui est une chaine de caractères constituée de 0 et 1, et un dictionnaire.\n",
    "- renvoie un dictionnaire qui contiendra les caractères et codages des lettres de l'arbre de Huffmann.    \n",
    "</div>"
   ]
  },
  {
   "cell_type": "code",
   "execution_count": 87,
   "metadata": {},
   "outputs": [],
   "source": [
    "def parcours(arbre, chemin_en_cours, dico):\n",
    "    if arbre == None:\n",
    "        return None\n",
    "    if arbre.est_feuille():\n",
    "        dico[arbre.lettre] = # A compléter\n",
    "    else :\n",
    "        parcours(arbre.gauche, chemin_en_cours + '0', dico)\n",
    "        # à compléter\n",
    "        return dico"
   ]
  },
  {
   "cell_type": "code",
   "execution_count": null,
   "metadata": {},
   "outputs": [],
   "source": [
    "# Exemple d'exécution de la fonction parcours\n",
    "\n",
    "arbre_Huffman = construit_arbre_huffman(\"specialite nsi\")\n",
    "print(parcours(arbre_Huffman, '', {}))"
   ]
  },
  {
   "cell_type": "markdown",
   "metadata": {},
   "source": [
    "### 5. Application"
   ]
  },
  {
   "cell_type": "markdown",
   "metadata": {},
   "source": [
    "Le code suivant permet charger une fable de De La Fontaine dans une variable fable."
   ]
  },
  {
   "cell_type": "code",
   "execution_count": null,
   "metadata": {},
   "outputs": [],
   "source": [
    "fichier = open(\"fable.txt\", \"r\", encoding=\"UTF-8\")\n",
    "fable = fichier.read()\n",
    "print(fable)"
   ]
  },
  {
   "cell_type": "markdown",
   "metadata": {},
   "source": [
    "<div class=\"alert alert-info\">\n",
    "    \n",
    "<strong class='fa fa-cogs' style=\"color: darkorange\"> Question 8 </strong>\n",
    "    \n",
    "Ecrire les instructions permettant de compresser la fable de De La Fontaine selon l'algorithme de Huffman et déterminer le taux de compression.\n",
    "    \n",
    "</div>"
   ]
  },
  {
   "cell_type": "code",
   "execution_count": null,
   "metadata": {},
   "outputs": [],
   "source": [
    "# à compléter"
   ]
  }
 ],
 "metadata": {
  "kernelspec": {
   "display_name": "Python 3",
   "language": "python",
   "name": "python3"
  },
  "language_info": {
   "codemirror_mode": {
    "name": "ipython",
    "version": 3
   },
   "file_extension": ".py",
   "mimetype": "text/x-python",
   "name": "python",
   "nbconvert_exporter": "python",
   "pygments_lexer": "ipython3",
   "version": "3.8.5"
  }
 },
 "nbformat": 4,
 "nbformat_minor": 4
}
