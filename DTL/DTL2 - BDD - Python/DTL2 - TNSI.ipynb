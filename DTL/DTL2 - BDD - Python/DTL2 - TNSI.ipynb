{
 "cells": [
  {
   "cell_type": "markdown",
   "metadata": {},
   "source": [
    "# Thème : Base de données\n",
    "# Devoir en tems libre N°2 :  Etude des accidents en vélo\n",
    "---"
   ]
  },
  {
   "cell_type": "markdown",
   "metadata": {},
   "source": [
    "<div class=\"alert alert-warning\" role=\"alert\">  \n",
    "    \n",
    "**Objectifs :** \n",
    "    \n",
    "L'objectif de ce devoir est d'étudier un jeu de données réelles sur les accidents de vélo entre 2005 et 2018 qui est disponible à l'adresse suivante https://www.data.gouv.fr/fr/datasets/accidents-de-velo/.\n",
    "    \n",
    "\n",
    "    \n",
    "- Interroger, modififier une base de données SQLite en Python\n",
    "- Exploiter cette base de données avec Python pour créer une carte interactive comme celle disponible à l'adresse suivante https://koumoul.com/datasets/accidents-velos.\n",
    "</div>"
   ]
  },
  {
   "cell_type": "markdown",
   "metadata": {},
   "source": [
    "## Partie A : Base de données d'origine"
   ]
  },
  {
   "cell_type": "markdown",
   "metadata": {},
   "source": [
    "Ouvrir le fichier `DB_accident_origine.db` avec SQLiteStudio."
   ]
  },
  {
   "cell_type": "markdown",
   "metadata": {},
   "source": [
    "<div class=\"alert alert-info\">\n",
    "    \n",
    "<strong class='fa fa-cogs' style=\"color: darkorange\"> Question 1 : </strong>\n",
    "    \n",
    "À l'aide du fichier ouvert avec SQLiteStudio, préciser :\n",
    "    \n",
    "**a.** le nombre d'attributs présents dans cette base de données ;\n",
    "    \n",
    "**b.** le domaine des attributs `identificationaccident`, `date`, `heure` et `departement`.\n",
    "    \n",
    "**c.** En utilisant le site https://www.data.gouv.fr/fr/datasets/accidents-de-velo/, préciser ce que représente l'attribut `commune`.\n",
    "</div>"
   ]
  },
  {
   "cell_type": "markdown",
   "metadata": {},
   "source": [
    "Réponse **a.** : *Saisir la réponse ici*\n",
    "\n",
    "Réponse **b.** : \n",
    "\n",
    "- `identificationaccident` : *Saisir la réponse ici*\n",
    "- `date` : *Saisir la réponse ici*\n",
    "- `heure` : *Saisir la réponse ici*\n",
    "- `departement` : *Saisir la réponse ici*\n",
    "\n",
    "Réponse **c.** : *Saisir la réponse ici*"
   ]
  },
  {
   "cell_type": "markdown",
   "metadata": {},
   "source": [
    "<div class=\"alert alert-info\">\n",
    "    \n",
    "<strong class='fa fa-cogs' style=\"color: darkorange\"> Question 2 : </strong>\n",
    "    \n",
    "Déterminer les requêtes SQL permettant de répondre aux questions suivantes.\n",
    "    \n",
    "**a.** Déterminer le nombre total d'accidentés sur la période. L'information sera affichée dans une colonne dont l'en-tête sera `Nombre_accidentés`.\n",
    "    \n",
    "**b.** Déterminer le nombre d'accidents enregistrés sur la période étudiée.\n",
    "    \n",
    "**c.** Donner toutes les informations des accidents ayant eu lieu en Eure et Loir.\n",
    "    \n",
    "**d.**  Donner les jours, dates et heures des accidents ayant eu lieu en Eure et Loir.<br/>\n",
    "\t\t\t Les résultats seront affichés du plus récent au plus vieux.\n",
    "</div>"
   ]
  },
  {
   "cell_type": "markdown",
   "metadata": {},
   "source": [
    "**Réponse Question a.**\n",
    "\n",
    "*Votre réponse ici*\n",
    "\n",
    "Requête SQL :\n",
    "\n",
    "```sql\n",
    "-- Saisir votre requête SQL ici --\n",
    "\n",
    "```"
   ]
  },
  {
   "cell_type": "markdown",
   "metadata": {},
   "source": [
    "**Réponse Question b.**\n",
    "\n",
    "*Votre réponse ici*\n",
    "\n",
    "Requête SQL :\n",
    "\n",
    "```sql\n",
    "-- Saisir votre requête SQL ici --\n",
    "\n",
    "```"
   ]
  },
  {
   "cell_type": "markdown",
   "metadata": {},
   "source": [
    "**Réponse Question c.**\n",
    "\n",
    "Requête SQL :\n",
    "\n",
    "```sql\n",
    "-- Saisir votre requête SQL ici --\n",
    "\n",
    "```"
   ]
  },
  {
   "cell_type": "markdown",
   "metadata": {},
   "source": [
    "**Réponse Question d.**\n",
    "\n",
    "Requête SQL :\n",
    "\n",
    "```sql\n",
    "-- Saisir votre requête SQL ici --\n",
    "\n",
    "```"
   ]
  },
  {
   "cell_type": "markdown",
   "metadata": {},
   "source": [
    "<div class=\"alert alert-info\">\n",
    "    \n",
    "<strong class='fa fa-cogs' style=\"color: darkorange\"> Question 3 : </strong>\n",
    "    \n",
    "La base de données utilisée depuis le début présente deux principaux défauts de conception.<br/> \n",
    "\t Les préciser et expliquer pourquoi ils constituent des défauts. \n",
    "</div>"
   ]
  },
  {
   "cell_type": "markdown",
   "metadata": {},
   "source": [
    "*Saisir votre réponse ici*"
   ]
  },
  {
   "cell_type": "markdown",
   "metadata": {},
   "source": [
    "## Partie B : Etude de la base de données corrigée"
   ]
  },
  {
   "cell_type": "markdown",
   "metadata": {},
   "source": [
    "<div class=\"alert alert-info\">\n",
    "    \n",
    "<strong class='fa fa-cogs' style=\"color: darkorange\"> Question 1 : </strong>\n",
    "\n",
    "Pour chacune des trois tables `BLESSES`, `ACCIDENTS` et `COMMUNES`, préciser les clés primaires et préciser les clés étrangères si elles existent.\n",
    "</div>"
   ]
  },
  {
   "cell_type": "markdown",
   "metadata": {},
   "source": [
    "*Saisir ici votre réponse*"
   ]
  },
  {
   "cell_type": "markdown",
   "metadata": {},
   "source": [
    "On utilise désormais la base de données disponible dans le fichier `DB_accidents.db` qui est construite selon le schéma relationnel donné dans l'énoncé.<br/> \n",
    "On chargera cette base de données dans \"SQLiteStudio\"."
   ]
  },
  {
   "cell_type": "markdown",
   "metadata": {},
   "source": [
    "<div class=\"alert alert-info\">\n",
    "    \n",
    "<strong class='fa fa-cogs' style=\"color: darkorange\"> Question 2 : Modification d'erreurs de saisies</strong>\n",
    "\n",
    "**a.** À l'aide d'une requête SQL à préciser, observer, par ordre croissant,  les tranches d'âges présentes dans la base de données.\n",
    "    \n",
    "**b.** Cela ne vous aura pas échappé, mais des erreurs de saisies apparaissent.<br/>\n",
    "\t À l'aide d'une requête SQL à préciser, mettre à jour les enregistrements où ces erreurs de saisies apparaissent, en remplaçant la valeur de l'attribut `age` par `NULL`.\n",
    "    \n",
    "</div>"
   ]
  },
  {
   "cell_type": "markdown",
   "metadata": {},
   "source": [
    "**Réponse Question a.**<br/>\n",
    "Requête SQL :\n",
    "\n",
    "```sql\n",
    "-- Saisir votre requête SQL ici --\n",
    "\n",
    "```"
   ]
  },
  {
   "cell_type": "markdown",
   "metadata": {},
   "source": [
    "**Réponse Question b.**<br/>\n",
    "Requête SQL :\n",
    "\n",
    "```sql\n",
    "-- Saisir votre requête SQL ici --\n",
    "\n",
    "```"
   ]
  },
  {
   "cell_type": "markdown",
   "metadata": {},
   "source": [
    "<div class=\"alert alert-info\">\n",
    "    \n",
    "<strong class='fa fa-cogs' style=\"color: darkorange\"> Question 3 </strong>\n",
    "\n",
    "À l'aide d'une requête SQL à préciser, déterminer les valeurs possibles de l'attribut `graviteaccident`.\n",
    "    \n",
    "</div>"
   ]
  },
  {
   "cell_type": "markdown",
   "metadata": {},
   "source": [
    "**Réponse**<br/>\n",
    "Requête SQL :\n",
    "\n",
    "```sql\n",
    "-- Saisir votre requête SQL ici --\n",
    "\n",
    "```"
   ]
  },
  {
   "cell_type": "markdown",
   "metadata": {},
   "source": [
    "<div class=\"alert alert-info\">\n",
    "    \n",
    "<strong class='fa fa-cogs' style=\"color: darkorange\"> Question 4 </strong>\n",
    "\n",
    "Préciser les requêtes SQL permettant :\n",
    "    \n",
    "**a.**  d'obtenir l'age, le sexe et le motif de déplacement des personnes ayant trouvé la mort lors d'un accident de vélo après 19h ;\n",
    "    \n",
    "**b.** d'obtenir le nombre d'accidents ayant eu lieu en 2018 ;\n",
    "    \n",
    "**c.** d'obtenir l'heure et l'état de la chaussée des accidents ayant provoqué le décès d'un accidenté ;\n",
    "\n",
    "**d.** d'obtenir la date le jour, l'heure et les coordonnées GPS (latitude et longitude) des accidents ayant eu lieu à CHARTRES\n",
    "    \n",
    "**e.** de déterminer l'heure moyenne à laquelle ont lieu les accidents ;\n",
    "\n",
    "**f.** d'obtenir les communes d'Eure et Loir avec le nombre d'accident par communes. Les résultats seront affichés dans l'ordre alphabétique des communes.<br/>\n",
    "\t\tPour cela, nous utiliserons la commande `GROUP BY` dont l'utilisation est expliquée à cette adresse https://sql.sh/cours/group-by.\n",
    "\n",
    "\n",
    "</div>"
   ]
  },
  {
   "cell_type": "markdown",
   "metadata": {},
   "source": [
    "**Réponse Question a.**<br/>\n",
    "Requête SQL :\n",
    "\n",
    "```sql\n",
    "-- Saisir votre requête SQL ici --\n",
    "\n",
    "```"
   ]
  },
  {
   "cell_type": "markdown",
   "metadata": {},
   "source": [
    "**Réponse Question b.**<br/>\n",
    "Requête SQL :\n",
    "\n",
    "```sql\n",
    "-- Saisir votre requête SQL ici --\n",
    "\n",
    "```"
   ]
  },
  {
   "cell_type": "markdown",
   "metadata": {},
   "source": [
    "**Réponse Question c.**<br/>\n",
    "Requête SQL :\n",
    "\n",
    "```sql\n",
    "-- Saisir votre requête SQL ici --\n",
    "\n",
    "```"
   ]
  },
  {
   "cell_type": "markdown",
   "metadata": {},
   "source": [
    "**Réponse Question d.**<br/>\n",
    "Requête SQL :\n",
    "\n",
    "```sql\n",
    "-- Saisir votre requête SQL ici --\n",
    "\n",
    "```"
   ]
  },
  {
   "cell_type": "markdown",
   "metadata": {},
   "source": [
    "**Réponse Question e.**<br/>\n",
    "Requête SQL :\n",
    "\n",
    "```sql\n",
    "-- Saisir votre requête SQL ici --\n",
    "\n",
    "```"
   ]
  },
  {
   "cell_type": "markdown",
   "metadata": {},
   "source": [
    "**Réponse Question f.**<br/>\n",
    "Requête SQL :\n",
    "\n",
    "```sql\n",
    "-- Saisir votre requête SQL ici --\n",
    "\n",
    "```"
   ]
  },
  {
   "cell_type": "markdown",
   "metadata": {},
   "source": [
    "<div class=\"alert alert-info\">\n",
    "    \n",
    "<strong class='fa fa-cogs' style=\"color: darkorange\"> Question 5 </strong>\n",
    "\n",
    "Le 18 décembre 2020, à 18h,  le père Noël retourne chez lui en vélo après une séance photo au lycée Jehan de Beauce.  Fatigué par sa journée,  il s'engage sur la route sans regarder si la chaussée est libre.  Surpris par la voiture arrivant à sa droite il chute sans gravité sur la chaussée sèche.  Les coordonnées GPS de l'endroit où il chute sont $(48,457001\\,;\\,1.473061)$.\\par \n",
    "\tPréciser les requêtes SQL permettant d'ajouter les informations liés à cet accident dans la base de données. Les attributs pour lesquels le valeurs ne sont pas connues prendront la valeur `NULL`.\n",
    "\n",
    "\n",
    "</div>"
   ]
  },
  {
   "cell_type": "markdown",
   "metadata": {},
   "source": [
    "**Réponse**<br/>\n",
    "Requêtes SQL :\n",
    "\n",
    "```sql\n",
    "-- Saisir votre requête SQL ici --\n",
    "\n",
    "```"
   ]
  },
  {
   "cell_type": "markdown",
   "metadata": {},
   "source": [
    "## Partie C : Réalisation d'une carte interactive des accidents avec Python"
   ]
  },
  {
   "cell_type": "markdown",
   "metadata": {},
   "source": [
    "### 1. Présentation de la bibliothèque folium"
   ]
  },
  {
   "cell_type": "markdown",
   "metadata": {},
   "source": [
    "La bibliothèque folium permet de réaliser des cartes interactives avec Python.<br/>\n",
    "Voici ci-dessous un exemple qui vous sera utile pour la suite."
   ]
  },
  {
   "cell_type": "code",
   "execution_count": null,
   "metadata": {},
   "outputs": [],
   "source": [
    "import folium # importation de la bibliothèque pour faire des cartes interactives"
   ]
  },
  {
   "cell_type": "markdown",
   "metadata": {},
   "source": [
    "Exécuter la cellule suivante et observer le résultat.<br/>\n",
    "Pensez à cliquer sur le repère apparu sur la carte."
   ]
  },
  {
   "cell_type": "code",
   "execution_count": null,
   "metadata": {},
   "outputs": [],
   "source": [
    "# création de la carte  \n",
    "ma_carte = folium.Map(location=(48.457 , 1.47), zoom_start=16)\n",
    "# location donne la latitude et la longitude du centre de la carte\n",
    "\n",
    "def affichage(info1, info2):\n",
    "    '''\n",
    "    Fonction qui renvoie une chaine de caractère pour la fenêtre popup associée au marqueur.\n",
    "    '''\n",
    "    contenu = \"<p> {} </p>\".format(str(info1))\n",
    "    contenu += \"<p> {}</p>\".format(str(info2))\n",
    "    iframe = folium.IFrame(html = contenu, width = 300, height = 200)\n",
    "    texte = folium.Popup(iframe, max_width = 500)\n",
    "    return texte\n",
    "\n",
    "\n",
    "def ajouter_marqueur(carte, latitude, longitude, texte, couleur):\n",
    "    '''\n",
    "    carte : de type folium.Map\n",
    "    latitude et longitude : de type float\n",
    "    texte : chaine de caractères, pour la fenêtre popup associée au marqueur\n",
    "    couleur : chaine de caractères    \n",
    "    '''\n",
    "    folium.Marker(\n",
    "        location = [latitude , longitude],\n",
    "        icon = folium.Icon(color=couleur, icon='bicycle', prefix='fa'),\n",
    "        popup = texte\n",
    "    ).add_to(ma_carte)\n",
    "\n",
    "# Affichage du marqueur de la fenêtre popup associée    \n",
    "texte = affichage('Lieu 1', 'Lycée Jehan de Beauce')\n",
    "ajouter_marqueur(ma_carte, 48.457008 , 1.473093, texte, \"lightred\") # ajoute un marqueur\n",
    "\n",
    "# affichage de la carte\n",
    "ma_carte "
   ]
  },
  {
   "cell_type": "markdown",
   "metadata": {},
   "source": [
    "### 2. Présentation de la bibliothèque sqlite3"
   ]
  },
  {
   "cell_type": "markdown",
   "metadata": {},
   "source": [
    "La bilbiothèque Python `sqlite3` permet de générer et d'interroger une base de données.<br/>\n",
    "Voici un exemple qui vous sera utile pour la suite.\n",
    "\n",
    "Exécuter les cellules suivantes et comprendre le rôle des différentes lignes de code."
   ]
  },
  {
   "cell_type": "code",
   "execution_count": 3,
   "metadata": {},
   "outputs": [],
   "source": [
    "import sqlite3 # importation de la bibliothèque pour exploiter et interroger une base de données"
   ]
  },
  {
   "cell_type": "code",
   "execution_count": null,
   "metadata": {},
   "outputs": [],
   "source": [
    "bdd = sqlite3.connect(\"DB_accidents.db\") # connection à la base de données\n",
    "curseur = bdd.cursor() # curseur qui permet la lecture des informations issues d'une requête"
   ]
  },
  {
   "cell_type": "code",
   "execution_count": null,
   "metadata": {},
   "outputs": [],
   "source": [
    "requete = \"\"\"\n",
    "SELECT identifiantaccident,\n",
    "       lat,\n",
    "       lon\n",
    "  FROM ACCIDENTS;\n",
    "       \"\"\"\n",
    "# les \"\"\" ... \"\"\" permettent de saisir une chaine de caractères sur plusieurs lignes.\n",
    "\n",
    "curseur.execute(requete) # execution de la requete\n",
    "resultats = curseur.fetchall() \n",
    "# stockage des résultat dans une variable qui est une liste de tuples où chaque tuple correspond à un enregistrement.\n",
    "\n",
    "print(resultats)"
   ]
  },
  {
   "cell_type": "markdown",
   "metadata": {},
   "source": [
    "### 3. Réalisation de la carte interactive des accidents de vélo"
   ]
  },
  {
   "cell_type": "markdown",
   "metadata": {},
   "source": [
    "On souhaite réaliser une carte avec des marqueurs pour chaque accident présent dans la base de données."
   ]
  },
  {
   "cell_type": "markdown",
   "metadata": {},
   "source": [
    "<div class=\"alert alert-info\">\n",
    "    \n",
    "<strong class='fa fa-cogs' style=\"color: darkorange\"> Question 1 : </strong>\n",
    "    \n",
    "Dans la base de données, on peut remarquer que les attributs `lat` et `lon` de la table `ACCIDENTS` prennent des valeurs `NaN` ou `0` qui ne permettent pas de placer les marqueurs.<br/>\n",
    "Proposer une requête SQL permettant d'obtenir, les attributs `lat`, `lon` et `date` des accidents où `lat` et `lon` ne prennent pas comme valeurs `0` ou `NaN`.\n",
    "</div>"
   ]
  },
  {
   "cell_type": "code",
   "execution_count": null,
   "metadata": {},
   "outputs": [],
   "source": [
    "requete = \"\"\"\n",
    "# saisir la requête ici\n",
    "       \"\"\"\n",
    "\n",
    "# exécuter avec Python la requête\n",
    "# votre code ici\n",
    "\n",
    "# afficher les résultats obtenus par la requête.\n",
    "# votre code ici"
   ]
  },
  {
   "cell_type": "code",
   "execution_count": null,
   "metadata": {},
   "outputs": [],
   "source": [
    "# tests de la requête précédente\n",
    "assert len(resultats) == 21508\n",
    "assert resultats[0][0] == 50.3\n",
    "assert resultats[0][1] == 2.84\n",
    "assert resultats[1][2] == '2005-01-03'"
   ]
  },
  {
   "cell_type": "markdown",
   "metadata": {},
   "source": [
    "<div class=\"alert alert-info\">\n",
    "    \n",
    "<strong class='fa fa-cogs' style=\"color: darkorange\"> Question 2 : </strong>\n",
    "    \n",
    "On souhaite réaliser une carte avec des marqueurs de tous les accidents de vélo ayant eu lieu en Eure et Loir.<br/>\n",
    "Dans la fenêtre popup, on souhaite afficher :\n",
    "- la date de l'accident\n",
    "- la commune de l'accident\n",
    "\n",
    "En vous inspirant des exemples d'application des bibliothèque `folium` et `sqlite3`, proposer un script permettant d'afficher les marqueurs et les fenêtre popup correspondantes.   \n",
    "</div>"
   ]
  },
  {
   "cell_type": "code",
   "execution_count": null,
   "metadata": {},
   "outputs": [],
   "source": [
    "# à vous de jouer !"
   ]
  },
  {
   "cell_type": "markdown",
   "metadata": {},
   "source": [
    "<div class=\"alert alert-info\">\n",
    "    \n",
    "<strong class='fa fa-cogs' style=\"color: darkorange\"> Question 3 : </strong>\n",
    "    \n",
    "On souhaite réaliser une carte avec des marqueurs de tous les accidents de vélo ayant eu lieu en Eure et Loir.<br/>\n",
    "Les marqueurs prendrons des couleurs différentes en fonction de la gravité de l'accident :\n",
    "- si l'accidenté est indemne, le marqueur sera vert (lightgreen)\n",
    "- si l'accidenté est blessé léger, le marqueur sera orange (orange)\n",
    "- si l'accidenté est hospitalisé, le marqueur sera rouge (red)\n",
    "- si l'accidenté est décédé, le marqueur sera noir (black)\n",
    "\n",
    "Dans la fenêtre popup, on affichera, la commune, la date, le jour, la gravité de l'accident, le sexe et l'age de l'accidenté.\n",
    "</div>"
   ]
  },
  {
   "cell_type": "code",
   "execution_count": 49,
   "metadata": {},
   "outputs": [],
   "source": [
    "# à vous de jouer !"
   ]
  }
 ],
 "metadata": {
  "kernelspec": {
   "display_name": "Python 3",
   "language": "python",
   "name": "python3"
  },
  "language_info": {
   "codemirror_mode": {
    "name": "ipython",
    "version": 3
   },
   "file_extension": ".py",
   "mimetype": "text/x-python",
   "name": "python",
   "nbconvert_exporter": "python",
   "pygments_lexer": "ipython3",
   "version": "3.8.5"
  }
 },
 "nbformat": 4,
 "nbformat_minor": 4
}
